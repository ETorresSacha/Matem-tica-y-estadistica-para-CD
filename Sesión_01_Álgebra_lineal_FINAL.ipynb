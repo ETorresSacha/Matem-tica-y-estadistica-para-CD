{
  "cells": [
    {
      "cell_type": "markdown",
      "metadata": {
        "id": "view-in-github",
        "colab_type": "text"
      },
      "source": [
        "<a href=\"https://colab.research.google.com/github/ETorresSacha/Matem-tica-y-estadistica-para-CD/blob/main/Sesi%C3%B3n_01_%C3%81lgebra_lineal_FINAL.ipynb\" target=\"_parent\"><img src=\"https://colab.research.google.com/assets/colab-badge.svg\" alt=\"Open In Colab\"/></a>"
      ]
    },
    {
      "cell_type": "markdown",
      "id": "2328c044",
      "metadata": {
        "id": "2328c044"
      },
      "source": [
        "### **Docente**: Mg. Alejandro Gutiérrez"
      ]
    },
    {
      "cell_type": "markdown",
      "source": [],
      "metadata": {
        "id": "i1T6yJIN15aw"
      },
      "id": "i1T6yJIN15aw"
    },
    {
      "cell_type": "markdown",
      "metadata": {
        "id": "GSP1KbIq16s0"
      },
      "source": [
        "# **SECCIÓN I: VECTORES**"
      ],
      "id": "GSP1KbIq16s0"
    },
    {
      "cell_type": "markdown",
      "metadata": {
        "id": "LcuFXu1s-mu2"
      },
      "source": [
        "## Vectores y matrices\n",
        "\n",
        "Los vectores son matrices unidimensionales de valores.  Usamos la notación $x \\in \\mathbb{R}^n$ para indicar que $x$ es un vector con $n$ componentes, en la que todas las componentes son reales.  Podemos escribir los elementos de un vector de forma más explícita, como se muestra a continuación.\n",
        "\\begin{equation}\n",
        "x = \\left[\\begin{array}{c} x_1 \\\\ x_2 \\\\ \\vdots \\\\ x_n \\end{array} \\right ]\n",
        "\\end{equation}\n",
        "Donde $x_i$ para denotar el $i$-ésimo elemento del vector.\n",
        "\n"
      ],
      "id": "LcuFXu1s-mu2"
    },
    {
      "cell_type": "markdown",
      "source": [
        "![Vector.png](data:image/png;base64,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)"
      ],
      "metadata": {
        "id": "yRENl85r93Lh"
      },
      "id": "yRENl85r93Lh"
    },
    {
      "cell_type": "markdown",
      "metadata": {
        "id": "-FsZAnCX2i5v"
      },
      "source": [
        "Un vector de largo $n$ es una secuencia de $n$ números. La solemos escribir como $x = (x_1, \\dots, x_n)$ o $x = [x_1, \\ldots, x_n]$. En Python, un vector puede ser representado con una simple lista, o con un array de Numpy; siendo preferible utilizar esta última opción."
      ],
      "id": "-FsZAnCX2i5v"
    },
    {
      "cell_type": "markdown",
      "metadata": {
        "id": "KD-L0B0SSgMj"
      },
      "source": [
        "# Estructuras de Datos en Python: Listas\n",
        "\n",
        "Las listas son una de las estructuras de datos más versátiles y utilizadas en Python. Permiten almacenar una colección ordenada de elementos, como números, cadenas, objetos u otras listas.\n",
        "\n",
        "## Definición de Listas\n",
        "\n",
        "Una lista es una colección ordenada de elementos que pueden ser de diferentes tipos, como números, cadenas de texto, booleanos, objetos, y más. Las listas se definen utilizando corchetes `[]` y separando los elementos con comas. Aquí tienes un ejemplo de cómo se ve una lista en Python:\n",
        "\n",
        "```python\n",
        "mi_lista = [1, 2, 3, 4, 5]\n",
        "```\n",
        "\n",
        "En este caso, `mi_lista` es una lista que contiene cinco números enteros. Las listas son una estructura de datos mutable, lo que significa que puedes cambiar su contenido una vez que se crean.\n",
        "\n"
      ],
      "id": "KD-L0B0SSgMj"
    },
    {
      "cell_type": "markdown",
      "id": "95ecf96e",
      "metadata": {
        "id": "95ecf96e"
      },
      "source": [
        "# **SESIÓN 01**\n",
        "# **INTRODUCCIÓN AL ÁLGEBRA LINEAL**\n",
        "## **ESPECIALIZACIÓN: MATEMÁTICA Y ESTADÍSTICA PARA CIENCIA DE DATOS**\n",
        "## **MÓDULO 1: FUNDAMENTOS MATEMÁTICOS PARA CIENCIAS DE DATOS**"
      ]
    },
    {
      "cell_type": "markdown",
      "source": [],
      "metadata": {
        "id": "8K8HnTtqBLYo"
      },
      "id": "8K8HnTtqBLYo"
    },
    {
      "cell_type": "code",
      "source": [
        "mi_lista=list([1,2,3,4,5])\n",
        "mi_lista"
      ],
      "metadata": {
        "colab": {
          "base_uri": "https://localhost:8080/"
        },
        "id": "uyH41vaoBZBR",
        "outputId": "5eebcf69-a00d-4d6a-e4be-07a7c007b362"
      },
      "id": "uyH41vaoBZBR",
      "execution_count": null,
      "outputs": [
        {
          "output_type": "execute_result",
          "data": {
            "text/plain": [
              "[1, 2, 3, 4, 5]"
            ]
          },
          "metadata": {},
          "execution_count": 194
        }
      ]
    },
    {
      "cell_type": "code",
      "source": [
        "len(m)"
      ],
      "metadata": {
        "colab": {
          "base_uri": "https://localhost:8080/"
        },
        "id": "UNsRO1IG4CuW",
        "outputId": "44f59850-cddb-4634-91d5-b7b192621b27"
      },
      "id": "UNsRO1IG4CuW",
      "execution_count": null,
      "outputs": [
        {
          "output_type": "execute_result",
          "data": {
            "text/plain": [
              "5"
            ]
          },
          "metadata": {},
          "execution_count": 196
        }
      ]
    },
    {
      "cell_type": "code",
      "source": [],
      "metadata": {
        "id": "I2R2PRmU4C7G"
      },
      "id": "I2R2PRmU4C7G",
      "execution_count": null,
      "outputs": []
    },
    {
      "cell_type": "code",
      "source": [
        "m=[1,2,3,4,5]\n",
        "m\n"
      ],
      "metadata": {
        "colab": {
          "base_uri": "https://localhost:8080/"
        },
        "id": "ASKEVGj8SoLF",
        "outputId": "ae7c1dd8-724a-4ccd-bab0-d111c21f99a1"
      },
      "id": "ASKEVGj8SoLF",
      "execution_count": null,
      "outputs": [
        {
          "output_type": "execute_result",
          "data": {
            "text/plain": [
              "[1, 2, 3, 4, 5]"
            ]
          },
          "metadata": {},
          "execution_count": 195
        }
      ]
    },
    {
      "cell_type": "code",
      "source": [
        "# Lista con elementos del mismo tipo\n",
        "numeros = [1, 2, 3, 4, 5]\n",
        "frutas = [\"manzana\", \"banana\", \"naranja\"]\n",
        "\n",
        "# Lista mixta\n",
        "mixta = [1, \"hola\", 3.14, True, [1, 2, 3]]\n",
        "\n",
        "numeros, frutas, mixta"
      ],
      "metadata": {
        "colab": {
          "base_uri": "https://localhost:8080/"
        },
        "id": "J-8joQATGeK_",
        "outputId": "cd1378f2-00d2-42e9-a674-3b459eba3ec1"
      },
      "id": "J-8joQATGeK_",
      "execution_count": null,
      "outputs": [
        {
          "output_type": "execute_result",
          "data": {
            "text/plain": [
              "([1, 2, 3, 4, 5],\n",
              " ['manzana', 'banana', 'naranja'],\n",
              " [1, 'hola', 3.14, True, [1, 2, 3]])"
            ]
          },
          "metadata": {},
          "execution_count": 197
        }
      ]
    },
    {
      "cell_type": "code",
      "source": [
        "cuadrados = [i**2 for i in range(1, 6)]\n",
        "pares = [i for i in range(0, 11, 2)]\n",
        "nombres = [\"ana\", \"luis\", \"maria\"]\n",
        "\n",
        "nombres_mayuscula = [nombre.upper() for nombre in nombres]\n",
        "\n",
        "print(\"Comprensión - Cuadrados:\", cuadrados)\n",
        "print(\"Comprensión - Pares:\", pares)\n",
        "print(\"Comprensión - Nombres:\", nombres_mayuscula)"
      ],
      "metadata": {
        "colab": {
          "base_uri": "https://localhost:8080/"
        },
        "id": "06zUcgmEGymI",
        "outputId": "5d82c371-ae66-4b13-d5fb-e50e08e1983c"
      },
      "id": "06zUcgmEGymI",
      "execution_count": null,
      "outputs": [
        {
          "output_type": "stream",
          "name": "stdout",
          "text": [
            "Comprensión - Cuadrados: [1, 4, 9, 16, 25]\n",
            "Comprensión - Pares: [0, 2, 4, 6, 8, 10]\n",
            "Comprensión - Nombres: ['ANA', 'LUIS', 'MARIA']\n"
          ]
        }
      ]
    },
    {
      "cell_type": "markdown",
      "source": [],
      "metadata": {
        "id": "SicNkevBGDvw"
      },
      "id": "SicNkevBGDvw"
    },
    {
      "cell_type": "code",
      "execution_count": null,
      "metadata": {
        "colab": {
          "base_uri": "https://localhost:8080/"
        },
        "outputId": "11c25484-9ed5-4465-89a8-ad198966054c",
        "id": "nwcdYYaCFHhi"
      },
      "outputs": [
        {
          "output_type": "stream",
          "name": "stdout",
          "text": [
            "v1 = [0.15, 0.15, 0.39, 0.3, 0.19]\n"
          ]
        }
      ],
      "source": [
        "import random as rd\n",
        "\n",
        "# Vector como lista de Python\n",
        "v1 = [round(rd.random(),2) for _ in range(5)]\n",
        "print(\"v1 =\", v1)"
      ],
      "id": "nwcdYYaCFHhi"
    },
    {
      "cell_type": "markdown",
      "source": [
        "![lista2.png](data:image/png;base64,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)"
      ],
      "metadata": {
        "id": "qMOw4isWWOxm"
      },
      "id": "qMOw4isWWOxm"
    },
    {
      "cell_type": "markdown",
      "source": [],
      "metadata": {
        "id": "DYjysbhEBRPw"
      },
      "id": "DYjysbhEBRPw"
    },
    {
      "cell_type": "code",
      "source": [],
      "metadata": {
        "id": "BW9dAFdIO5HF"
      },
      "id": "BW9dAFdIO5HF",
      "execution_count": null,
      "outputs": []
    },
    {
      "cell_type": "markdown",
      "source": [
        "# **La librería Numpy**\n",
        "NumPy es una librería de Python especializada en el cálculo numérico y el análisis de datos, especialmente para un gran volumen de datos.\n",
        "\n",
        "Incorpora una nueva clase de objetos llamados arrays que permite representar colecciones de datos de un mismo tipo en varias dimensiones, y funciones muy eficientes para su manipulación."
      ],
      "metadata": {
        "id": "6pvpeNPvbME7"
      },
      "id": "6pvpeNPvbME7"
    },
    {
      "cell_type": "markdown",
      "source": [
        "![numpy.png](data:image/png;base64,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)"
      ],
      "metadata": {
        "id": "T1Tazsfeat2M"
      },
      "id": "T1Tazsfeat2M"
    },
    {
      "cell_type": "code",
      "source": [
        "import numpy as np\n",
        "# arange(inicio, fin, paso)\n",
        "vector1 = np.arange(5)           # [0 1 2 3 4]\n",
        "vector2 = np.arange(1, 10, 2)    # [1 3 5 7 9]\n",
        "vector3 = np.arange(10, 0, -1)   # [10 9 8 7 6 5 4 3 2 1]\n",
        "\n",
        "print(\"arange(5):\", vector1)\n",
        "print(\"arange(1,10,2):\", vector2)\n",
        "print(\"arange(10,0,-1):\", vector3)"
      ],
      "metadata": {
        "colab": {
          "base_uri": "https://localhost:8080/"
        },
        "id": "7OZ9yZ8-0-lF",
        "outputId": "1f308240-6ee5-4d38-9feb-3810cc46caa5"
      },
      "id": "7OZ9yZ8-0-lF",
      "execution_count": null,
      "outputs": [
        {
          "output_type": "stream",
          "name": "stdout",
          "text": [
            "arange(5): [0 1 2 3 4]\n",
            "arange(1,10,2): [1 3 5 7 9]\n",
            "arange(10,0,-1): [10  9  8  7  6  5  4  3  2  1]\n"
          ]
        }
      ]
    },
    {
      "cell_type": "code",
      "source": [
        "# Vectores con numpy\n",
        "ceros = np.zeros(5)        # [0. 0. 0. 0. 0.]\n",
        "unos = np.ones(8)          # [1. 1. 1. 1. 1. 1. 1. 1.]\n",
        "cien = np.full(4, 100)     # [100 100 100 100]\n",
        "\n",
        "print(\"Zeros(5):\", ceros)\n",
        "print(\"Ones(8):\", unos)\n",
        "print(\"Full(4,100):\", cien)"
      ],
      "metadata": {
        "colab": {
          "base_uri": "https://localhost:8080/"
        },
        "id": "PEngyBmbHqlI",
        "outputId": "bd20e1b6-2a67-4347-8f2a-a09ee779076c"
      },
      "id": "PEngyBmbHqlI",
      "execution_count": null,
      "outputs": [
        {
          "output_type": "stream",
          "name": "stdout",
          "text": [
            "Zeros(5): [0.0000 0.0000 0.0000 0.0000 0.0000]\n",
            "Ones(8): [1.0000 1.0000 1.0000 1.0000 1.0000 1.0000 1.0000 1.0000]\n",
            "Full(4,100): [100 100 100 100]\n"
          ]
        }
      ]
    },
    {
      "cell_type": "code",
      "source": [
        "# Patrón repetitivo\n",
        "patron = np.tile([1, 2, 3], 3)  # Repite [1,2,3] tres veces\n",
        "repetir = np.repeat(10, 5) # Repite 10 cinco veces\n",
        "repetido = np.repeat([10, 20, 30], 2)  # Repite cada elemento 2 veces\n",
        "\n",
        "# Secuencia con repetición\n",
        "\n",
        "print(\"Patrón repetido:\", patron)  # [1 2 3 1 2 3 1 2 3]\n",
        "print(\"Elementos repetir:\", repetir)  # [10 10 10 10 10]\n",
        "print(\"Elementos repetidos:\", repetido)  # [10 10 20 20 30 30]"
      ],
      "metadata": {
        "colab": {
          "base_uri": "https://localhost:8080/"
        },
        "id": "hzlNK3xL13Qm",
        "outputId": "cd3c575e-4ead-4461-a9dc-b2a9f514c447"
      },
      "id": "hzlNK3xL13Qm",
      "execution_count": null,
      "outputs": [
        {
          "output_type": "stream",
          "name": "stdout",
          "text": [
            "Patrón repetido: [1 2 3 1 2 3 1 2 3]\n",
            "Elementos repetir: [10 10 10 10 10]\n",
            "Elementos repetidos: [10 10 20 20 30 30]\n"
          ]
        }
      ]
    },
    {
      "cell_type": "code",
      "source": [
        "np.set_printoptions(formatter={'float': lambda x: \"{0:0.5f}\".format(x)})\n",
        "v3 = np.array([1, 3, 5,11/7,np.sqrt(22)]) # pasando una lista a las arrays de numpy\n",
        "v3"
      ],
      "metadata": {
        "colab": {
          "base_uri": "https://localhost:8080/"
        },
        "id": "FscWu-VPH18o",
        "outputId": "5191a91d-2958-4867-a5e6-49017b3ba2fc"
      },
      "id": "FscWu-VPH18o",
      "execution_count": null,
      "outputs": [
        {
          "output_type": "execute_result",
          "data": {
            "text/plain": [
              "array([1.00000, 3.00000, 5.00000, 1.57143, 4.69042])"
            ]
          },
          "metadata": {},
          "execution_count": 207
        }
      ]
    },
    {
      "cell_type": "code",
      "source": [
        "np.array([1,3,4,7])"
      ],
      "metadata": {
        "colab": {
          "base_uri": "https://localhost:8080/"
        },
        "id": "NEQnyGKxDrwK",
        "outputId": "922cb4f5-eb41-4662-ed75-898cfd7ab36a"
      },
      "id": "NEQnyGKxDrwK",
      "execution_count": null,
      "outputs": [
        {
          "output_type": "execute_result",
          "data": {
            "text/plain": [
              "array([1, 3, 4, 7])"
            ]
          },
          "metadata": {},
          "execution_count": 208
        }
      ]
    },
    {
      "cell_type": "markdown",
      "metadata": {
        "id": "ivjYFAcuvD1A"
      },
      "source": [
        "Para un vector columna (matriz con una columna):\n",
        "$$C=\\begin{pmatrix}8\\\\ \\sqrt[5]{6}\\\\ \\frac{1}{2}\\\\ -7\\\\ 4\\\\ 3.5\\\\ ln15\\end{pmatrix}$$"
      ],
      "id": "ivjYFAcuvD1A"
    },
    {
      "cell_type": "code",
      "source": [
        "C = np.array([[8],\n",
        "              [6**(1/5)],\n",
        "              [1/2],\n",
        "              [-7],\n",
        "              [4],\n",
        "              [3.5],\n",
        "              [np.log(15)]])\n",
        "print(\"La matriz C es: \")\n",
        "print(C)"
      ],
      "metadata": {
        "colab": {
          "base_uri": "https://localhost:8080/"
        },
        "id": "hMQf_kUEvOef",
        "outputId": "355bdccb-b90a-4e53-f0ed-14184adce751"
      },
      "id": "hMQf_kUEvOef",
      "execution_count": null,
      "outputs": [
        {
          "output_type": "stream",
          "name": "stdout",
          "text": [
            "La matriz C es: \n",
            "[[8.00000]\n",
            " [1.43097]\n",
            " [0.50000]\n",
            " [-7.00000]\n",
            " [4.00000]\n",
            " [3.50000]\n",
            " [2.70805]]\n"
          ]
        }
      ]
    },
    {
      "cell_type": "code",
      "source": [
        "C.shape"
      ],
      "metadata": {
        "colab": {
          "base_uri": "https://localhost:8080/"
        },
        "id": "QIukvTCzvddO",
        "outputId": "386fc43e-d1a6-456b-fb62-bc62a0777941"
      },
      "id": "QIukvTCzvddO",
      "execution_count": null,
      "outputs": [
        {
          "output_type": "execute_result",
          "data": {
            "text/plain": [
              "(7, 1)"
            ]
          },
          "metadata": {},
          "execution_count": 210
        }
      ]
    },
    {
      "cell_type": "code",
      "source": [],
      "metadata": {
        "id": "hUsNL-AGvOlr"
      },
      "id": "hUsNL-AGvOlr",
      "execution_count": null,
      "outputs": []
    },
    {
      "cell_type": "markdown",
      "metadata": {
        "id": "Gtupu-P9vPjB"
      },
      "source": [
        "Para un vector fila (matriz con una fila):\n",
        "$$D=\\begin{pmatrix}\\sqrt{21}&\\sqrt[7]{20}&\\frac{1}{\\sqrt[9]{3}}&ln8&7.361&e^{-6}&\\frac{1}{2}&3\\end{pmatrix}$$"
      ],
      "id": "Gtupu-P9vPjB"
    },
    {
      "cell_type": "code",
      "source": [
        "D = np.array([[np.sqrt(21),\n",
        "               20**(1/7),\n",
        "               3**(-1/9),\n",
        "               np.log(8),\n",
        "               7.361,\n",
        "               np.exp(-6),\n",
        "               1/2,\n",
        "               3]])\n",
        "\n",
        "print(\"La matriz D es: \")\n",
        "print(D)"
      ],
      "metadata": {
        "colab": {
          "base_uri": "https://localhost:8080/"
        },
        "id": "X3llHK9jvGR_",
        "outputId": "51d82969-eec9-4c98-bd9e-ff0b349e9909"
      },
      "id": "X3llHK9jvGR_",
      "execution_count": null,
      "outputs": [
        {
          "output_type": "stream",
          "name": "stdout",
          "text": [
            "La matriz D es: \n",
            "[[4.58258 1.53413 0.88509 2.07944 7.36100 0.00248 0.50000 3.00000]]\n"
          ]
        }
      ]
    },
    {
      "cell_type": "code",
      "source": [
        "D.shape"
      ],
      "metadata": {
        "colab": {
          "base_uri": "https://localhost:8080/"
        },
        "id": "ddwwyVfSvgUF",
        "outputId": "77f46258-7967-4dfd-cba9-10fd0e05f2b8"
      },
      "id": "ddwwyVfSvgUF",
      "execution_count": null,
      "outputs": [
        {
          "output_type": "execute_result",
          "data": {
            "text/plain": [
              "(1, 8)"
            ]
          },
          "metadata": {},
          "execution_count": 212
        }
      ]
    },
    {
      "cell_type": "code",
      "source": [],
      "metadata": {
        "id": "nldui6aVvGVw"
      },
      "id": "nldui6aVvGVw",
      "execution_count": null,
      "outputs": []
    },
    {
      "cell_type": "code",
      "source": [
        "# Comparación de operaciones\n",
        "lista = [1, 2, 3, 4, 5]\n",
        "array = np.array([1, 2, 3, 4, 5])\n",
        "\n",
        "# En lista - necesitas comprensión de listas\n",
        "resultado_lista = [x * 2 for x in lista]\n",
        "\n",
        "# En array - operación vectorizada\n",
        "resultado_array = array * 2\n",
        "\n",
        "print(resultado_lista)\n",
        "print(resultado_array)"
      ],
      "metadata": {
        "id": "5Mu-8Q2WS2fr",
        "colab": {
          "base_uri": "https://localhost:8080/"
        },
        "outputId": "484b6e63-4b5a-4ff6-e10c-399f1c8c6ffb"
      },
      "id": "5Mu-8Q2WS2fr",
      "execution_count": null,
      "outputs": [
        {
          "output_type": "stream",
          "name": "stdout",
          "text": [
            "[2, 4, 6, 8, 10]\n",
            "[ 2  4  6  8 10]\n"
          ]
        }
      ]
    },
    {
      "cell_type": "code",
      "source": [],
      "metadata": {
        "id": "rXHW89zkE6zg"
      },
      "id": "rXHW89zkE6zg",
      "execution_count": null,
      "outputs": []
    },
    {
      "cell_type": "code",
      "source": [],
      "metadata": {
        "id": "Y0vd_jr3AMVf"
      },
      "id": "Y0vd_jr3AMVf",
      "execution_count": null,
      "outputs": []
    },
    {
      "cell_type": "markdown",
      "metadata": {
        "id": "Vf1StGgRBbQw"
      },
      "source": [
        "Las operaciones más comunes que utilizamos cuando trabajamos con vectores son la suma, la resta y la multiplicación por escalares.\n",
        "\n",
        "Cuando sumamos dos vectores, vamos sumando elemento por elemento de cada vector. $$x + y = \\begin{bmatrix}\n",
        "x_1 \\\\\n",
        "x_2 \\\\\n",
        "\\vdots \\\\\n",
        "x_n\n",
        "\\end{bmatrix}\n",
        "+ \\begin{bmatrix}\n",
        "y_1 \\\\\n",
        "y_2 \\\\\n",
        "\\vdots \\\\\n",
        "y_n\n",
        "\\end{bmatrix}\n",
        ":=\n",
        "\\begin{bmatrix}\n",
        "x_1 + y_1 \\\\\n",
        "x_2 + y_2 \\\\\n",
        "\\vdots \\\\\n",
        "x_n + y_n\n",
        "\\end{bmatrix}$$"
      ],
      "id": "Vf1StGgRBbQw"
    },
    {
      "cell_type": "code",
      "source": [
        "# Definir los vectores\n",
        "x = np.array([1, 3, 5, 11/7, np.sqrt(22), 1/21, np.log(33)])\n",
        "y = np.array([rd.random() for _ in range(7)])  # Convertimos a np.array para facilitar la suma\n",
        "\n",
        "# Sumar los vectores\n",
        "suma = x + y\n",
        "\n",
        "# Imprimir los resultados con formato mejorado\n",
        "print(\"Vector X:\")\n",
        "print(np.round(x,0))  # Redondeo para mejor visualización\n",
        "print(\"\\nVector Y:\")\n",
        "print(np.round(y, 0))\n",
        "print(\"\\nX + Y:\")\n",
        "print(np.round(suma, 0))"
      ],
      "metadata": {
        "colab": {
          "base_uri": "https://localhost:8080/"
        },
        "id": "gQhqThvpAMaq",
        "outputId": "cb4636b4-00fb-4133-ce5b-5b1003e77201"
      },
      "id": "gQhqThvpAMaq",
      "execution_count": null,
      "outputs": [
        {
          "output_type": "stream",
          "name": "stdout",
          "text": [
            "Vector X:\n",
            "[1.00000 3.00000 5.00000 2.00000 5.00000 0.00000 3.00000]\n",
            "\n",
            "Vector Y:\n",
            "[0.00000 1.00000 1.00000 1.00000 1.00000 0.00000 0.00000]\n",
            "\n",
            "X + Y:\n",
            "[1.00000 4.00000 6.00000 2.00000 5.00000 0.00000 4.00000]\n"
          ]
        }
      ]
    },
    {
      "cell_type": "code",
      "source": [],
      "metadata": {
        "id": "8wq8C6mmAMjz"
      },
      "id": "8wq8C6mmAMjz",
      "execution_count": null,
      "outputs": []
    },
    {
      "cell_type": "markdown",
      "metadata": {
        "id": "DpX_z8wGCJ9g"
      },
      "source": [
        "La multiplicación por escalares es una operación que toma a un número $\\gamma$, y a un vector $\\mathbf{x}$, y produce un nuevo vector donde cada elemento del vector $\\mathbf{x}$ es multiplicado por el número $\\gamma$.\n",
        "$$\\gamma \\mathbf{x} := \\begin{bmatrix}\n",
        "\\gamma x_1 \\\\\n",
        "\\gamma x_2 \\\\\n",
        "\\vdots \\\\\n",
        "\\gamma x_n\n",
        "\\end{bmatrix}\n",
        "$$"
      ],
      "id": "DpX_z8wGCJ9g"
    },
    {
      "cell_type": "markdown",
      "metadata": {
        "id": "S9m7n7POCLEr"
      },
      "source": [
        "Evaluar los siguientes vectores:\n",
        "$$A=\\frac{1}{17}X, \\hspace{2mm} B=\\sqrt{19}Y, \\hspace{2mm} C=\\frac{1}{32}X - e^{-5}Y$$"
      ],
      "id": "S9m7n7POCLEr"
    },
    {
      "cell_type": "code",
      "source": [
        "# Definir los nuevos vectores\n",
        "A = (1/17) * x\n",
        "B = np.sqrt(19) * y\n",
        "C = (1/32) * x - np.exp(-5) * y\n",
        "\n",
        "# Imprimir los resultados con formato mejorado\n",
        "print(\"Vector A:\")\n",
        "print(np.round(A, 4))  # Redondeo para mejor visualización\n",
        "print(\"\\nVector B:\")\n",
        "print(np.round(B, 4))\n",
        "print(\"\\nVector C:\")\n",
        "print(np.round(C, 4))"
      ],
      "metadata": {
        "colab": {
          "base_uri": "https://localhost:8080/"
        },
        "id": "gDORlDEVAMs7",
        "outputId": "37870917-c59f-4682-91b1-97931929db44"
      },
      "id": "gDORlDEVAMs7",
      "execution_count": null,
      "outputs": [
        {
          "output_type": "stream",
          "name": "stdout",
          "text": [
            "Vector A:\n",
            "[0.05880 0.17650 0.29410 0.09240 0.27590 0.00280 0.20570]\n",
            "\n",
            "Vector B:\n",
            "[1.12400 3.83010 2.59550 3.41280 3.41120 0.12260 0.06760]\n",
            "\n",
            "Vector C:\n",
            "[0.02950 0.08780 0.15220 0.04380 0.14130 0.00130 0.10920]\n"
          ]
        }
      ]
    },
    {
      "cell_type": "code",
      "source": [],
      "metadata": {
        "id": "PQhc9WatAMxN"
      },
      "id": "PQhc9WatAMxN",
      "execution_count": null,
      "outputs": []
    },
    {
      "cell_type": "code",
      "source": [],
      "metadata": {
        "id": "5C7MFltQCVd2"
      },
      "id": "5C7MFltQCVd2",
      "execution_count": null,
      "outputs": []
    },
    {
      "cell_type": "markdown",
      "metadata": {
        "id": "bYPUroqXCWF6"
      },
      "source": [
        "El producto escalar de dos vectores se define como la suma de los productos de sus elementos, y se representa matemáticamente como $\\langle \\mathbf{x}, \\mathbf{y} \\rangle$ o $\\mathbf{x}' \\mathbf{y}$, donde $\\mathbf{x}$ e $\\mathbf{y}$ son dos vectores.\n",
        "$$\\langle \\mathbf{x}, \\mathbf{y} \\rangle := \\sum_{i=1}^{n} x_i y_i$$"
      ],
      "id": "bYPUroqXCWF6"
    },
    {
      "cell_type": "code",
      "source": [
        "print(x)\n",
        "print(y)"
      ],
      "metadata": {
        "colab": {
          "base_uri": "https://localhost:8080/"
        },
        "id": "_nbaws7zxqUb",
        "outputId": "e8f5fccb-8e3a-4ec7-cbb1-6971b5f60416"
      },
      "id": "_nbaws7zxqUb",
      "execution_count": null,
      "outputs": [
        {
          "output_type": "stream",
          "name": "stdout",
          "text": [
            "[1.00000 3.00000 5.00000 1.57143 4.69042 0.04762 3.49651]\n",
            "[0.25786 0.87868 0.59545 0.78294 0.78258 0.02813 0.01552]\n"
          ]
        }
      ]
    },
    {
      "cell_type": "code",
      "source": [
        "# Calculando el producto escalar de los vectores x e y\n",
        "x @ y"
      ],
      "metadata": {
        "colab": {
          "base_uri": "https://localhost:8080/"
        },
        "id": "z1sfwY0rCVli",
        "outputId": "f8d09d65-97a2-44d7-e348-fc88d90ab379"
      },
      "id": "z1sfwY0rCVli",
      "execution_count": null,
      "outputs": [
        {
          "output_type": "execute_result",
          "data": {
            "text/plain": [
              "np.float64(10.827693662346594)"
            ]
          },
          "metadata": {},
          "execution_count": 217
        }
      ]
    },
    {
      "cell_type": "code",
      "source": [
        "#Otras formas de calcular el producto interno\n",
        "f1=sum(x * y)\n",
        "f2=np.dot(x, y)\n",
        "print(\"Primera forma: \",f1)\n",
        "print(\"Segunda forma: \",f2)"
      ],
      "metadata": {
        "colab": {
          "base_uri": "https://localhost:8080/"
        },
        "id": "us_wz6IUCVqQ",
        "outputId": "79af5492-89b9-43f3-8bb1-e2bdbf389d9b"
      },
      "id": "us_wz6IUCVqQ",
      "execution_count": null,
      "outputs": [
        {
          "output_type": "stream",
          "name": "stdout",
          "text": [
            "Primera forma:  10.827693662346594\n",
            "Segunda forma:  10.827693662346594\n"
          ]
        }
      ]
    },
    {
      "cell_type": "code",
      "source": [
        "A=np.array([-1,1,2])\n",
        "B=np.array([1,-1,1])"
      ],
      "metadata": {
        "id": "Gt75_7p5CVvE"
      },
      "id": "Gt75_7p5CVvE",
      "execution_count": null,
      "outputs": []
    },
    {
      "cell_type": "code",
      "source": [
        "A @ B"
      ],
      "metadata": {
        "colab": {
          "base_uri": "https://localhost:8080/"
        },
        "id": "LM7qQUqmCVz7",
        "outputId": "f1daf340-f045-461e-a7e1-071d1b6d8acf"
      },
      "id": "LM7qQUqmCVz7",
      "execution_count": null,
      "outputs": [
        {
          "output_type": "execute_result",
          "data": {
            "text/plain": [
              "np.int64(0)"
            ]
          },
          "metadata": {},
          "execution_count": 220
        }
      ]
    },
    {
      "cell_type": "code",
      "source": [],
      "metadata": {
        "id": "gDYGW5NPEcTG"
      },
      "id": "gDYGW5NPEcTG",
      "execution_count": null,
      "outputs": []
    },
    {
      "cell_type": "markdown",
      "metadata": {
        "id": "CLkCGiF0EfGA"
      },
      "source": [
        "Todo producto escalar induce una norma sobre el espacio en el que está definido, de la siguiente manera: $$\\|\\mathbf{x}\\| := \\sqrt{\\langle \\mathbf{x}, \\mathbf{x} \\rangle} := \\left( \\sum_{i=1}^{n} x_i^2 \\right)^{1/2}\n",
        "$$"
      ],
      "id": "CLkCGiF0EfGA"
    },
    {
      "cell_type": "code",
      "source": [
        "x"
      ],
      "metadata": {
        "colab": {
          "base_uri": "https://localhost:8080/"
        },
        "id": "Vqi0x9WgI6ZP",
        "outputId": "bc77bae2-fb8e-47c5-956c-d3715373a726"
      },
      "id": "Vqi0x9WgI6ZP",
      "execution_count": null,
      "outputs": [
        {
          "output_type": "execute_result",
          "data": {
            "text/plain": [
              "array([1.00000, 3.00000, 5.00000, 1.57143, 4.69042, 0.04762, 3.49651])"
            ]
          },
          "metadata": {},
          "execution_count": 221
        }
      ]
    },
    {
      "cell_type": "code",
      "source": [
        "#Calculando la norma de X\n",
        "np.linalg.norm(x)"
      ],
      "metadata": {
        "colab": {
          "base_uri": "https://localhost:8080/"
        },
        "id": "470Y0p4REcd1",
        "outputId": "bc13fee7-780b-43e3-8dc3-ecd051ac4f87"
      },
      "id": "470Y0p4REcd1",
      "execution_count": null,
      "outputs": [
        {
          "output_type": "execute_result",
          "data": {
            "text/plain": [
              "np.float64(8.467421121934969)"
            ]
          },
          "metadata": {},
          "execution_count": 222
        }
      ]
    },
    {
      "cell_type": "code",
      "source": [
        "# otra forma de calcular la norma de x\n",
        "np.sqrt(x @ x)"
      ],
      "metadata": {
        "colab": {
          "base_uri": "https://localhost:8080/"
        },
        "id": "T73mlXcdEcic",
        "outputId": "d83a582d-16c6-4ba5-82a1-45d18056f857"
      },
      "id": "T73mlXcdEcic",
      "execution_count": null,
      "outputs": [
        {
          "output_type": "execute_result",
          "data": {
            "text/plain": [
              "np.float64(8.467421121934969)"
            ]
          },
          "metadata": {},
          "execution_count": 121
        }
      ]
    },
    {
      "cell_type": "code",
      "source": [
        "def suma_cuadrados(a,b):\n",
        "    suma_cuad=a**2+b**2\n",
        "    print(suma_cuad)"
      ],
      "metadata": {
        "id": "OWFbtrgbEcnK"
      },
      "id": "OWFbtrgbEcnK",
      "execution_count": null,
      "outputs": []
    },
    {
      "cell_type": "code",
      "source": [
        "M=suma_cuadrados(3,4)"
      ],
      "metadata": {
        "colab": {
          "base_uri": "https://localhost:8080/"
        },
        "id": "bgY4_RsbJ4X_",
        "outputId": "2d0ef97d-1c12-4235-f2ad-d721ad9e9de1"
      },
      "id": "bgY4_RsbJ4X_",
      "execution_count": null,
      "outputs": [
        {
          "output_type": "stream",
          "name": "stdout",
          "text": [
            "25\n"
          ]
        }
      ]
    },
    {
      "cell_type": "code",
      "source": [
        "M*2"
      ],
      "metadata": {
        "colab": {
          "base_uri": "https://localhost:8080/",
          "height": 146
        },
        "id": "21QR4LgyJ4nq",
        "outputId": "3d2ce994-12fc-44b0-e138-bfbd09f7c2e1"
      },
      "id": "21QR4LgyJ4nq",
      "execution_count": null,
      "outputs": [
        {
          "output_type": "error",
          "ename": "TypeError",
          "evalue": "unsupported operand type(s) for *: 'NoneType' and 'int'",
          "traceback": [
            "\u001b[0;31m---------------------------------------------------------------------------\u001b[0m",
            "\u001b[0;31mTypeError\u001b[0m                                 Traceback (most recent call last)",
            "\u001b[0;32m/tmp/ipython-input-4059209307.py\u001b[0m in \u001b[0;36m<cell line: 0>\u001b[0;34m()\u001b[0m\n\u001b[0;32m----> 1\u001b[0;31m \u001b[0mM\u001b[0m\u001b[0;34m*\u001b[0m\u001b[0;36m2\u001b[0m\u001b[0;34m\u001b[0m\u001b[0;34m\u001b[0m\u001b[0m\n\u001b[0m",
            "\u001b[0;31mTypeError\u001b[0m: unsupported operand type(s) for *: 'NoneType' and 'int'"
          ]
        }
      ]
    },
    {
      "cell_type": "code",
      "source": [
        "def suma_cuadrados(a,b):\n",
        "    suma_cuad=a**2+b**2\n",
        "    return suma_cuad"
      ],
      "metadata": {
        "id": "my1YAUFCbqmD"
      },
      "id": "my1YAUFCbqmD",
      "execution_count": null,
      "outputs": []
    },
    {
      "cell_type": "code",
      "source": [
        "N=suma_cuadrados(3,4)"
      ],
      "metadata": {
        "id": "Ts8j_YLwcEsF"
      },
      "id": "Ts8j_YLwcEsF",
      "execution_count": null,
      "outputs": []
    },
    {
      "cell_type": "code",
      "source": [
        "N*2"
      ],
      "metadata": {
        "colab": {
          "base_uri": "https://localhost:8080/"
        },
        "id": "mzp3JIkYKUvZ",
        "outputId": "73dde139-db05-41c1-f5b2-228e687604d4"
      },
      "id": "mzp3JIkYKUvZ",
      "execution_count": null,
      "outputs": [
        {
          "output_type": "execute_result",
          "data": {
            "text/plain": [
              "50"
            ]
          },
          "metadata": {},
          "execution_count": 231
        }
      ]
    },
    {
      "cell_type": "code",
      "source": [
        "f , d = 3 , 5"
      ],
      "metadata": {
        "id": "tURAZP4pK_K9"
      },
      "id": "tURAZP4pK_K9",
      "execution_count": null,
      "outputs": []
    },
    {
      "cell_type": "code",
      "source": [
        "f"
      ],
      "metadata": {
        "colab": {
          "base_uri": "https://localhost:8080/"
        },
        "id": "zvceSjyGLH16",
        "outputId": "0bc872aa-a0d0-4a61-ebcf-b1f286a4c953"
      },
      "id": "zvceSjyGLH16",
      "execution_count": null,
      "outputs": [
        {
          "output_type": "execute_result",
          "data": {
            "text/plain": [
              "3"
            ]
          },
          "metadata": {},
          "execution_count": 233
        }
      ]
    },
    {
      "cell_type": "code",
      "source": [
        "d"
      ],
      "metadata": {
        "colab": {
          "base_uri": "https://localhost:8080/"
        },
        "id": "dGHbE_q5LI8N",
        "outputId": "b74c2743-7c27-4017-8ba9-06d99f54a65b"
      },
      "id": "dGHbE_q5LI8N",
      "execution_count": null,
      "outputs": [
        {
          "output_type": "execute_result",
          "data": {
            "text/plain": [
              "5"
            ]
          },
          "metadata": {},
          "execution_count": 234
        }
      ]
    },
    {
      "cell_type": "code",
      "source": [
        "#ÁNGULO ENTRE DOS VECTORES\n",
        "def angulo_vectores(v1, v2):\n",
        "    v1, v2 = np.array(v1), np.array(v2)\n",
        "    cos_theta = np.dot(v1, v2) / (np.linalg.norm(v1) * np.linalg.norm(v2))\n",
        "    grados=round(np.degrees(np.arccos(np.clip(cos_theta, -1.0, 1.0))),1)\n",
        "    print(f\"Ángulo entre los vectores es: {grados}°\")"
      ],
      "metadata": {
        "id": "mqEOWE6lDdVz"
      },
      "id": "mqEOWE6lDdVz",
      "execution_count": null,
      "outputs": []
    },
    {
      "cell_type": "code",
      "source": [
        "np.arccos(1.5)"
      ],
      "metadata": {
        "colab": {
          "base_uri": "https://localhost:8080/"
        },
        "id": "rPVCTQHhMgL9",
        "outputId": "ed7b7b4f-4ab4-4d97-9648-ca00d6141119"
      },
      "id": "rPVCTQHhMgL9",
      "execution_count": null,
      "outputs": [
        {
          "output_type": "stream",
          "name": "stderr",
          "text": [
            "/tmp/ipython-input-2640662678.py:1: RuntimeWarning: invalid value encountered in arccos\n",
            "  np.arccos(1.5)\n"
          ]
        },
        {
          "output_type": "execute_result",
          "data": {
            "text/plain": [
              "np.float64(nan)"
            ]
          },
          "metadata": {},
          "execution_count": 245
        }
      ]
    },
    {
      "cell_type": "code",
      "source": [
        "53*3.1415/180"
      ],
      "metadata": {
        "colab": {
          "base_uri": "https://localhost:8080/"
        },
        "id": "QsBKk3uONfVZ",
        "outputId": "7ad17a0c-e2ee-452b-8a17-a8f32843185c"
      },
      "id": "QsBKk3uONfVZ",
      "execution_count": null,
      "outputs": [
        {
          "output_type": "execute_result",
          "data": {
            "text/plain": [
              "0.9249972222222222"
            ]
          },
          "metadata": {},
          "execution_count": 247
        }
      ]
    },
    {
      "cell_type": "code",
      "source": [
        "np.degrees(np.arccos(0.6))"
      ],
      "metadata": {
        "colab": {
          "base_uri": "https://localhost:8080/"
        },
        "id": "SqoTCLkkMgsi",
        "outputId": "85c75008-721c-497f-8de7-983500c0c023"
      },
      "id": "SqoTCLkkMgsi",
      "execution_count": null,
      "outputs": [
        {
          "output_type": "execute_result",
          "data": {
            "text/plain": [
              "np.float64(53.13010235415599)"
            ]
          },
          "metadata": {},
          "execution_count": 248
        }
      ]
    },
    {
      "cell_type": "code",
      "source": [
        "np.clip(1.00000002,-1,1)"
      ],
      "metadata": {
        "id": "iq2HFDaC0ISO",
        "colab": {
          "base_uri": "https://localhost:8080/"
        },
        "outputId": "62d0598b-0094-4be7-af07-2ec213976596"
      },
      "id": "iq2HFDaC0ISO",
      "execution_count": null,
      "outputs": [
        {
          "output_type": "execute_result",
          "data": {
            "text/plain": [
              "np.float64(1.0)"
            ]
          },
          "metadata": {},
          "execution_count": 238
        }
      ]
    },
    {
      "cell_type": "code",
      "source": [
        "np.clip(0.56,-1,1)"
      ],
      "metadata": {
        "colab": {
          "base_uri": "https://localhost:8080/"
        },
        "id": "D41-itwZMGVf",
        "outputId": "e2cb9240-2c6e-4084-a7d9-bc63ce2349b5"
      },
      "id": "D41-itwZMGVf",
      "execution_count": null,
      "outputs": [
        {
          "output_type": "execute_result",
          "data": {
            "text/plain": [
              "np.float64(0.56)"
            ]
          },
          "metadata": {},
          "execution_count": 239
        }
      ]
    },
    {
      "cell_type": "code",
      "source": [
        "np.clip(1.4,-1,1)"
      ],
      "metadata": {
        "colab": {
          "base_uri": "https://localhost:8080/"
        },
        "id": "6pHV4rr_YI8f",
        "outputId": "7682f412-4189-4c79-d598-28a0dbe079d9"
      },
      "id": "6pHV4rr_YI8f",
      "execution_count": null,
      "outputs": [
        {
          "output_type": "execute_result",
          "data": {
            "text/plain": [
              "np.float64(1.0)"
            ]
          },
          "metadata": {},
          "execution_count": 240
        }
      ]
    },
    {
      "cell_type": "code",
      "source": [
        "np.clip(-1.3,-1,1)"
      ],
      "metadata": {
        "colab": {
          "base_uri": "https://localhost:8080/"
        },
        "id": "P1sLYsy9Mxzj",
        "outputId": "4909d021-d44e-4fe3-c913-b8faf09432bf"
      },
      "id": "P1sLYsy9Mxzj",
      "execution_count": null,
      "outputs": [
        {
          "output_type": "execute_result",
          "data": {
            "text/plain": [
              "np.float64(-1.0)"
            ]
          },
          "metadata": {},
          "execution_count": 241
        }
      ]
    },
    {
      "cell_type": "code",
      "source": [
        "#EJEMPLO\n",
        "A=np.array([1,-1,2])\n",
        "B=np.array([-1,1,1])"
      ],
      "metadata": {
        "id": "nNsilcJFOC0m"
      },
      "id": "nNsilcJFOC0m",
      "execution_count": null,
      "outputs": []
    },
    {
      "cell_type": "code",
      "source": [
        "angulo_vectores(A,B)"
      ],
      "metadata": {
        "colab": {
          "base_uri": "https://localhost:8080/"
        },
        "id": "tp4VrR5HODEr",
        "outputId": "9a5f244f-d825-4bfd-aa05-7cc7aeff1d29"
      },
      "id": "tp4VrR5HODEr",
      "execution_count": null,
      "outputs": [
        {
          "output_type": "stream",
          "name": "stdout",
          "text": [
            "Ángulo entre los vectores es: 90.0°\n"
          ]
        }
      ]
    },
    {
      "cell_type": "code",
      "source": [],
      "metadata": {
        "id": "On6iiICAODVL"
      },
      "id": "On6iiICAODVL",
      "execution_count": null,
      "outputs": []
    },
    {
      "cell_type": "code",
      "source": [
        "#EJEMPLO 02\n",
        "X=np.array([80,60,40,20])\n",
        "Y=np.array([20,15,15,20])"
      ],
      "metadata": {
        "id": "yT-71UmDE3CG"
      },
      "id": "yT-71UmDE3CG",
      "execution_count": null,
      "outputs": []
    },
    {
      "cell_type": "code",
      "source": [
        "angulo_vectores(X,Y)"
      ],
      "metadata": {
        "colab": {
          "base_uri": "https://localhost:8080/"
        },
        "id": "ATVI6kSJPQc5",
        "outputId": "d27d4fed-af7f-4884-f689-4c2b20b3858b"
      },
      "id": "ATVI6kSJPQc5",
      "execution_count": null,
      "outputs": [
        {
          "output_type": "stream",
          "name": "stdout",
          "text": [
            "Ángulo entre los vectores es: 25.4°\n"
          ]
        }
      ]
    },
    {
      "cell_type": "code",
      "source": [
        "np.mean(X)"
      ],
      "metadata": {
        "colab": {
          "base_uri": "https://localhost:8080/"
        },
        "id": "WvzVYg1LP1_U",
        "outputId": "be02e4f3-d53d-4d7f-b826-17c60e3175c6"
      },
      "id": "WvzVYg1LP1_U",
      "execution_count": null,
      "outputs": [
        {
          "output_type": "stream",
          "name": "stdout",
          "text": [
            "50.0\n"
          ]
        }
      ]
    },
    {
      "cell_type": "code",
      "source": [
        "#Desviación estandar de la población\n",
        "np.std(X,ddof=0)"
      ],
      "metadata": {
        "colab": {
          "base_uri": "https://localhost:8080/"
        },
        "id": "upcGVqcoQCrJ",
        "outputId": "8ac32cf0-bee3-4131-d2df-7b1c96daa875"
      },
      "id": "upcGVqcoQCrJ",
      "execution_count": null,
      "outputs": [
        {
          "output_type": "execute_result",
          "data": {
            "text/plain": [
              "np.float64(22.360679774997898)"
            ]
          },
          "metadata": {},
          "execution_count": 258
        }
      ]
    },
    {
      "cell_type": "code",
      "source": [
        "#Desviación estandar de la muestra\n",
        "np.std(X,ddof=1)"
      ],
      "metadata": {
        "colab": {
          "base_uri": "https://localhost:8080/"
        },
        "id": "iwm9EiFAP2Xz",
        "outputId": "437b38f5-634d-4f9a-88a2-4411183c3232"
      },
      "id": "iwm9EiFAP2Xz",
      "execution_count": null,
      "outputs": [
        {
          "output_type": "execute_result",
          "data": {
            "text/plain": [
              "np.float64(25.81988897471611)"
            ]
          },
          "metadata": {},
          "execution_count": 259
        }
      ]
    },
    {
      "cell_type": "code",
      "source": [
        "Zx = (X - np.mean(X)) / np.std(X,ddof=1)\n",
        "Zx"
      ],
      "metadata": {
        "colab": {
          "base_uri": "https://localhost:8080/"
        },
        "id": "uR1ubyWPR2mr",
        "outputId": "4eb5a419-dfdd-42b2-e0cc-6a030d49c5a9"
      },
      "id": "uR1ubyWPR2mr",
      "execution_count": null,
      "outputs": [
        {
          "output_type": "execute_result",
          "data": {
            "text/plain": [
              "array([1.16190, 0.38730, -0.38730, -1.16190])"
            ]
          },
          "metadata": {},
          "execution_count": 260
        }
      ]
    },
    {
      "cell_type": "code",
      "source": [
        "X"
      ],
      "metadata": {
        "colab": {
          "base_uri": "https://localhost:8080/"
        },
        "id": "-w7lPuiVR23l",
        "outputId": "61b90366-0f88-4fe5-977c-940bea02ecb5"
      },
      "id": "-w7lPuiVR23l",
      "execution_count": null,
      "outputs": [
        {
          "output_type": "execute_result",
          "data": {
            "text/plain": [
              "array([80, 60, 40, 20])"
            ]
          },
          "metadata": {},
          "execution_count": 261
        }
      ]
    },
    {
      "cell_type": "code",
      "source": [
        "np.std(X)"
      ],
      "metadata": {
        "colab": {
          "base_uri": "https://localhost:8080/"
        },
        "id": "uDFcPpW53hXk",
        "outputId": "e936f293-4ca8-47f5-aed8-ed94145624d3"
      },
      "id": "uDFcPpW53hXk",
      "execution_count": null,
      "outputs": [
        {
          "output_type": "execute_result",
          "data": {
            "text/plain": [
              "np.float64(22.360679774997898)"
            ]
          },
          "metadata": {},
          "execution_count": 167
        }
      ]
    },
    {
      "cell_type": "code",
      "source": [
        "Zy = (Y - np.mean(Y)) / np.std(Y,ddof=1)\n",
        "Zy"
      ],
      "metadata": {
        "colab": {
          "base_uri": "https://localhost:8080/"
        },
        "id": "j7gjW6euSLtf",
        "outputId": "df02436a-1f52-4613-cefc-425c021124f7"
      },
      "id": "j7gjW6euSLtf",
      "execution_count": null,
      "outputs": [
        {
          "output_type": "execute_result",
          "data": {
            "text/plain": [
              "array([0.86603, -0.86603, -0.86603, 0.86603])"
            ]
          },
          "metadata": {},
          "execution_count": 262
        }
      ]
    },
    {
      "cell_type": "code",
      "source": [
        "print(X)\n",
        "print(Zx)\n",
        "print(Y)\n",
        "print(Zy)"
      ],
      "metadata": {
        "colab": {
          "base_uri": "https://localhost:8080/"
        },
        "id": "vipr2RbcSL3e",
        "outputId": "2667a06b-9d61-42c6-b560-61ea8e944be5"
      },
      "id": "vipr2RbcSL3e",
      "execution_count": null,
      "outputs": [
        {
          "output_type": "stream",
          "name": "stdout",
          "text": [
            "[80 60 40 20]\n",
            "[1.16190 0.38730 -0.38730 -1.16190]\n",
            "[20 15 15 20]\n",
            "[0.86603 -0.86603 -0.86603 0.86603]\n"
          ]
        }
      ]
    },
    {
      "cell_type": "code",
      "source": [
        "angulo_vectores(X,Y)"
      ],
      "metadata": {
        "colab": {
          "base_uri": "https://localhost:8080/"
        },
        "id": "wI5N47t7SU_q",
        "outputId": "d3deae0e-4510-4a3a-c65a-3933f1352306"
      },
      "id": "wI5N47t7SU_q",
      "execution_count": null,
      "outputs": [
        {
          "output_type": "stream",
          "name": "stdout",
          "text": [
            "Ángulo entre los vectores es: 25.4°\n"
          ]
        }
      ]
    },
    {
      "cell_type": "code",
      "source": [
        "angulo_vectores(Zx,Zy)"
      ],
      "metadata": {
        "colab": {
          "base_uri": "https://localhost:8080/"
        },
        "id": "UWDTvHGKSMAl",
        "outputId": "46f4942f-20ff-4043-db46-cd37db01ac11"
      },
      "id": "UWDTvHGKSMAl",
      "execution_count": null,
      "outputs": [
        {
          "output_type": "stream",
          "name": "stdout",
          "text": [
            "Ángulo entre los vectores es: 90.0°\n"
          ]
        }
      ]
    },
    {
      "cell_type": "code",
      "source": [
        "print(X)\n",
        "print(Y)"
      ],
      "metadata": {
        "colab": {
          "base_uri": "https://localhost:8080/"
        },
        "id": "CGagw8RKSneo",
        "outputId": "eda708a4-068e-40ae-f325-d89c05f45c1e"
      },
      "id": "CGagw8RKSneo",
      "execution_count": null,
      "outputs": [
        {
          "output_type": "stream",
          "name": "stdout",
          "text": [
            "[80 60 40 20]\n",
            "[20 15 15 20]\n"
          ]
        }
      ]
    },
    {
      "cell_type": "code",
      "source": [
        "np.cov(X,Y, ddof=1)[0, 1]"
      ],
      "metadata": {
        "id": "wI9wPhZziMr-",
        "colab": {
          "base_uri": "https://localhost:8080/"
        },
        "outputId": "2aca56e8-3343-4eba-d868-24e8efab382c"
      },
      "id": "wI9wPhZziMr-",
      "execution_count": null,
      "outputs": [
        {
          "output_type": "execute_result",
          "data": {
            "text/plain": [
              "np.float64(0.0)"
            ]
          },
          "metadata": {},
          "execution_count": 270
        }
      ]
    },
    {
      "cell_type": "code",
      "source": [
        "def correlacion(x, y):\n",
        "    cov = np.cov(x, y, ddof=1)[0, 1]  # Covarianza\n",
        "    std_x = np.std(x, ddof=1)         # Desviación estándar X\n",
        "    std_y = np.std(y, ddof=1)         # Desviación estándar Y\n",
        "    cor= cov / (std_x * std_y)\n",
        "    return cor"
      ],
      "metadata": {
        "id": "dGytmcZmcOLi"
      },
      "id": "dGytmcZmcOLi",
      "execution_count": null,
      "outputs": []
    },
    {
      "cell_type": "code",
      "source": [],
      "metadata": {
        "id": "fwdbLMLoVjFH"
      },
      "id": "fwdbLMLoVjFH",
      "execution_count": null,
      "outputs": []
    },
    {
      "cell_type": "code",
      "source": [
        "print(X)\n",
        "print(Y)"
      ],
      "metadata": {
        "colab": {
          "base_uri": "https://localhost:8080/"
        },
        "outputId": "c4d5b8cd-894c-413d-9ab5-1fbabc62ea21",
        "id": "AQkTtmEWVjpD"
      },
      "execution_count": null,
      "outputs": [
        {
          "output_type": "stream",
          "name": "stdout",
          "text": [
            "[80 60 40 20]\n",
            "[20 15 15 20]\n"
          ]
        }
      ],
      "id": "AQkTtmEWVjpD"
    },
    {
      "cell_type": "code",
      "source": [
        "correlacion(X,Y)"
      ],
      "metadata": {
        "id": "Sv0Rw866cOR4",
        "colab": {
          "base_uri": "https://localhost:8080/"
        },
        "outputId": "a1d36932-0882-432b-c5f9-a2f4e89859b7"
      },
      "id": "Sv0Rw866cOR4",
      "execution_count": null,
      "outputs": [
        {
          "output_type": "execute_result",
          "data": {
            "text/plain": [
              "np.float64(0.0)"
            ]
          },
          "metadata": {},
          "execution_count": 274
        }
      ]
    },
    {
      "cell_type": "code",
      "source": [
        "cor=round(correlacion(Zx,Zy),2)\n",
        "cor"
      ],
      "metadata": {
        "id": "pQ3unxq5cOkb",
        "colab": {
          "base_uri": "https://localhost:8080/"
        },
        "outputId": "50b37d5d-e191-4fc5-b87b-7132b2e30e08"
      },
      "id": "pQ3unxq5cOkb",
      "execution_count": null,
      "outputs": [
        {
          "output_type": "execute_result",
          "data": {
            "text/plain": [
              "np.float64(-0.0)"
            ]
          },
          "metadata": {},
          "execution_count": 277
        }
      ]
    },
    {
      "cell_type": "code",
      "source": [
        "v=np.array([5,5,5,5])"
      ],
      "metadata": {
        "id": "wUhbM1IrWFLP"
      },
      "id": "wUhbM1IrWFLP",
      "execution_count": null,
      "outputs": []
    },
    {
      "cell_type": "code",
      "source": [
        "correlacion(X,v)"
      ],
      "metadata": {
        "colab": {
          "base_uri": "https://localhost:8080/"
        },
        "id": "WzYoadaxWOAF",
        "outputId": "8083c6b7-5db2-430f-a4f3-5994fc3833c8"
      },
      "id": "WzYoadaxWOAF",
      "execution_count": null,
      "outputs": [
        {
          "output_type": "stream",
          "name": "stderr",
          "text": [
            "/tmp/ipython-input-2052410103.py:5: RuntimeWarning: invalid value encountered in scalar divide\n",
            "  cor= cov / (std_x * std_y)\n"
          ]
        },
        {
          "output_type": "execute_result",
          "data": {
            "text/plain": [
              "np.float64(nan)"
            ]
          },
          "metadata": {},
          "execution_count": 279
        }
      ]
    },
    {
      "cell_type": "code",
      "source": [
        "np.corrcoef(X,Y)[0,0]"
      ],
      "metadata": {
        "colab": {
          "base_uri": "https://localhost:8080/"
        },
        "id": "3ZAmpBREWekn",
        "outputId": "1ddbe908-b12d-4f4a-f2dd-e04b39400596"
      },
      "id": "3ZAmpBREWekn",
      "execution_count": null,
      "outputs": [
        {
          "output_type": "execute_result",
          "data": {
            "text/plain": [
              "np.float64(1.0)"
            ]
          },
          "metadata": {},
          "execution_count": 281
        }
      ]
    },
    {
      "cell_type": "code",
      "source": [
        "X @ Y"
      ],
      "metadata": {
        "colab": {
          "base_uri": "https://localhost:8080/"
        },
        "id": "626d3HZWYlwk",
        "outputId": "f7a7218e-aba2-4149-c473-b4cb30bd7ec1"
      },
      "id": "626d3HZWYlwk",
      "execution_count": null,
      "outputs": [
        {
          "output_type": "execute_result",
          "data": {
            "text/plain": [
              "np.int64(3500)"
            ]
          },
          "metadata": {},
          "execution_count": 283
        }
      ]
    },
    {
      "cell_type": "code",
      "source": [
        "Zx @ Zy"
      ],
      "metadata": {
        "colab": {
          "base_uri": "https://localhost:8080/"
        },
        "id": "Yn7nOhpLYl9o",
        "outputId": "48da588f-7a9e-4132-d9b2-03226e6c93c7"
      },
      "id": "Yn7nOhpLYl9o",
      "execution_count": null,
      "outputs": [
        {
          "output_type": "execute_result",
          "data": {
            "text/plain": [
              "np.float64(0.0)"
            ]
          },
          "metadata": {},
          "execution_count": 284
        }
      ]
    },
    {
      "cell_type": "markdown",
      "source": [],
      "metadata": {
        "id": "qzNPqpnwCCOg"
      },
      "id": "qzNPqpnwCCOg"
    },
    {
      "cell_type": "markdown",
      "id": "c195bc1f",
      "metadata": {
        "id": "c195bc1f"
      },
      "source": [
        "# **I.- Especificación de matrices**"
      ]
    },
    {
      "cell_type": "markdown",
      "source": [
        "![matriz.png](data:image/png;base64,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)"
      ],
      "metadata": {
        "id": "9Cc8ntWIgfj_"
      },
      "id": "9Cc8ntWIgfj_"
    },
    {
      "cell_type": "markdown",
      "metadata": {
        "id": "zgW2WmOZTUoz"
      },
      "source": [
        "## Listas Anidadas\n",
        "\n",
        "Python permite crear listas dentro de listas, lo que se conoce como listas anidadas o listas multidimensionales. Esto es útil cuando necesitas representar estructuras de datos más complejas. Por ejemplo:\n",
        "\n",
        "```python\n",
        "matriz = [[1, 2, 3], [4, 5, 6], [7, 8, 9]]\n",
        "```\n",
        "\n",
        "En este caso, `matriz` es una lista que contiene tres listas internas, creando una matriz 3x3. Puedes acceder a los elementos de la matriz utilizando dos niveles de índices:\n",
        "\n",
        "```python\n",
        "elemento = matriz[1][2]  # Acceder al elemento en la segunda fila (índice 1) y tercera columna (índice 2)\n",
        "```"
      ],
      "id": "zgW2WmOZTUoz"
    },
    {
      "cell_type": "markdown",
      "source": [
        "1 2 3\n",
        "\n",
        "4 5 6\n",
        "\n",
        "7 8 9\n"
      ],
      "metadata": {
        "id": "qdSX_zwHqg85"
      },
      "id": "qdSX_zwHqg85"
    },
    {
      "cell_type": "code",
      "source": [
        "matriz = [[1, 2, 3], [4, 5, 6], [7, 8, 9]]\n",
        "matriz"
      ],
      "metadata": {
        "colab": {
          "base_uri": "https://localhost:8080/"
        },
        "id": "hgG5ae5a1FPX",
        "outputId": "822e345c-438c-48b5-c5cd-bcd8e58905ee"
      },
      "id": "hgG5ae5a1FPX",
      "execution_count": null,
      "outputs": [
        {
          "output_type": "execute_result",
          "data": {
            "text/plain": [
              "[[1, 2, 3], [4, 5, 6], [7, 8, 9]]"
            ]
          },
          "metadata": {},
          "execution_count": 285
        }
      ]
    },
    {
      "cell_type": "code",
      "source": [
        "elemento = matriz[1][2]\n",
        "elemento"
      ],
      "metadata": {
        "colab": {
          "base_uri": "https://localhost:8080/"
        },
        "id": "YmsCj-E01NH_",
        "outputId": "8b5c593d-27df-4196-e460-6525f81a66fe"
      },
      "id": "YmsCj-E01NH_",
      "execution_count": null,
      "outputs": [
        {
          "output_type": "execute_result",
          "data": {
            "text/plain": [
              "6"
            ]
          },
          "metadata": {},
          "execution_count": 286
        }
      ]
    },
    {
      "cell_type": "code",
      "source": [],
      "metadata": {
        "id": "kVInsQO-1NRP"
      },
      "id": "kVInsQO-1NRP",
      "execution_count": null,
      "outputs": []
    },
    {
      "cell_type": "markdown",
      "id": "eaca1a44",
      "metadata": {
        "id": "eaca1a44"
      },
      "source": [
        "Se desea declarar la siguiente matriz:\n",
        "$$A=\\begin{pmatrix}6&5&4&1.2\\\\ 6&4&7&7\\\\ 8&2.5&1.15&6\\\\ 4&5&7&3\\end{pmatrix}$$"
      ]
    },
    {
      "cell_type": "code",
      "execution_count": null,
      "metadata": {
        "colab": {
          "base_uri": "https://localhost:8080/"
        },
        "outputId": "5c2c7240-cc89-4e9a-c4c7-4f6b381a7bd9",
        "id": "xIHcAvuZnEBO"
      },
      "outputs": [
        {
          "output_type": "stream",
          "name": "stdout",
          "text": [
            "La matriz A es: \n",
            "[[6.00 5.00 4.00 1.20]\n",
            " [6.00 4.00 7.00 7.00]\n",
            " [8.00 2.50 1.15 6.00]\n",
            " [4.00 5.00 7.00 3.00]]\n"
          ]
        }
      ],
      "source": [
        "import numpy as np\n",
        "np.set_printoptions(formatter={'float': lambda x: \"{0:0.2f}\".format(x)})\n",
        "\n",
        "A = np.array([[6, 5, 4, 1.2],\n",
        "              [6, 4, 7, 7],\n",
        "              [8, 2.5, 1.15, 6],\n",
        "              [4, 5, 7, 3]])\n",
        "print(\"La matriz A es: \")\n",
        "print(A)"
      ],
      "id": "xIHcAvuZnEBO"
    },
    {
      "cell_type": "code",
      "source": [],
      "metadata": {
        "id": "iVMMy-swR4wb"
      },
      "id": "iVMMy-swR4wb",
      "execution_count": null,
      "outputs": []
    },
    {
      "cell_type": "code",
      "source": [],
      "metadata": {
        "id": "DUFF54VqbjrN"
      },
      "id": "DUFF54VqbjrN",
      "execution_count": null,
      "outputs": []
    },
    {
      "cell_type": "code",
      "source": [
        "#Ejemplo\n",
        "x=np.array([1,2,3,4,5,6,7,8,9,10])\n",
        "y=np.array([2,4,6,8,10,12,14,16,18,20])"
      ],
      "metadata": {
        "id": "e_Ug6fSUWlta"
      },
      "id": "e_Ug6fSUWlta",
      "execution_count": null,
      "outputs": []
    },
    {
      "cell_type": "code",
      "source": [
        "np.corrcoef(x,y)"
      ],
      "metadata": {
        "id": "qg4KM77fWlxv",
        "colab": {
          "base_uri": "https://localhost:8080/"
        },
        "outputId": "243786dc-a437-4926-cd94-f84e2555951f"
      },
      "id": "qg4KM77fWlxv",
      "execution_count": null,
      "outputs": [
        {
          "output_type": "execute_result",
          "data": {
            "text/plain": [
              "array([[1.00, 0.44],\n",
              "       [0.44, 1.00]])"
            ]
          },
          "metadata": {},
          "execution_count": 288
        }
      ]
    },
    {
      "cell_type": "code",
      "source": [
        "import pandas as pd\n",
        "\n",
        "# Creating a simple DataFrame\n",
        "data = pd.DataFrame({\"Name\": [\"Alice\", \"Bob\"], \"Age\": [25, 30]})"
      ],
      "metadata": {
        "id": "bEfLFtWb-WqZ"
      },
      "id": "bEfLFtWb-WqZ",
      "execution_count": null,
      "outputs": []
    },
    {
      "cell_type": "code",
      "source": [
        "data"
      ],
      "metadata": {
        "colab": {
          "base_uri": "https://localhost:8080/",
          "height": 125
        },
        "id": "NQ5s-wBj-WtT",
        "outputId": "48ac3d68-ef9e-4d1d-8589-fea6b72e135f"
      },
      "id": "NQ5s-wBj-WtT",
      "execution_count": null,
      "outputs": [
        {
          "output_type": "execute_result",
          "data": {
            "text/plain": [
              "    Name  Age\n",
              "0  Alice   25\n",
              "1    Bob   30"
            ],
            "text/html": [
              "\n",
              "  <div id=\"df-aaa6cd56-6f0f-4ddb-b985-17925e95e634\" class=\"colab-df-container\">\n",
              "    <div>\n",
              "<style scoped>\n",
              "    .dataframe tbody tr th:only-of-type {\n",
              "        vertical-align: middle;\n",
              "    }\n",
              "\n",
              "    .dataframe tbody tr th {\n",
              "        vertical-align: top;\n",
              "    }\n",
              "\n",
              "    .dataframe thead th {\n",
              "        text-align: right;\n",
              "    }\n",
              "</style>\n",
              "<table border=\"1\" class=\"dataframe\">\n",
              "  <thead>\n",
              "    <tr style=\"text-align: right;\">\n",
              "      <th></th>\n",
              "      <th>Name</th>\n",
              "      <th>Age</th>\n",
              "    </tr>\n",
              "  </thead>\n",
              "  <tbody>\n",
              "    <tr>\n",
              "      <th>0</th>\n",
              "      <td>Alice</td>\n",
              "      <td>25</td>\n",
              "    </tr>\n",
              "    <tr>\n",
              "      <th>1</th>\n",
              "      <td>Bob</td>\n",
              "      <td>30</td>\n",
              "    </tr>\n",
              "  </tbody>\n",
              "</table>\n",
              "</div>\n",
              "    <div class=\"colab-df-buttons\">\n",
              "\n",
              "  <div class=\"colab-df-container\">\n",
              "    <button class=\"colab-df-convert\" onclick=\"convertToInteractive('df-aaa6cd56-6f0f-4ddb-b985-17925e95e634')\"\n",
              "            title=\"Convert this dataframe to an interactive table.\"\n",
              "            style=\"display:none;\">\n",
              "\n",
              "  <svg xmlns=\"http://www.w3.org/2000/svg\" height=\"24px\" viewBox=\"0 -960 960 960\">\n",
              "    <path d=\"M120-120v-720h720v720H120Zm60-500h600v-160H180v160Zm220 220h160v-160H400v160Zm0 220h160v-160H400v160ZM180-400h160v-160H180v160Zm440 0h160v-160H620v160ZM180-180h160v-160H180v160Zm440 0h160v-160H620v160Z\"/>\n",
              "  </svg>\n",
              "    </button>\n",
              "\n",
              "  <style>\n",
              "    .colab-df-container {\n",
              "      display:flex;\n",
              "      gap: 12px;\n",
              "    }\n",
              "\n",
              "    .colab-df-convert {\n",
              "      background-color: #E8F0FE;\n",
              "      border: none;\n",
              "      border-radius: 50%;\n",
              "      cursor: pointer;\n",
              "      display: none;\n",
              "      fill: #1967D2;\n",
              "      height: 32px;\n",
              "      padding: 0 0 0 0;\n",
              "      width: 32px;\n",
              "    }\n",
              "\n",
              "    .colab-df-convert:hover {\n",
              "      background-color: #E2EBFA;\n",
              "      box-shadow: 0px 1px 2px rgba(60, 64, 67, 0.3), 0px 1px 3px 1px rgba(60, 64, 67, 0.15);\n",
              "      fill: #174EA6;\n",
              "    }\n",
              "\n",
              "    .colab-df-buttons div {\n",
              "      margin-bottom: 4px;\n",
              "    }\n",
              "\n",
              "    [theme=dark] .colab-df-convert {\n",
              "      background-color: #3B4455;\n",
              "      fill: #D2E3FC;\n",
              "    }\n",
              "\n",
              "    [theme=dark] .colab-df-convert:hover {\n",
              "      background-color: #434B5C;\n",
              "      box-shadow: 0px 1px 3px 1px rgba(0, 0, 0, 0.15);\n",
              "      filter: drop-shadow(0px 1px 2px rgba(0, 0, 0, 0.3));\n",
              "      fill: #FFFFFF;\n",
              "    }\n",
              "  </style>\n",
              "\n",
              "    <script>\n",
              "      const buttonEl =\n",
              "        document.querySelector('#df-aaa6cd56-6f0f-4ddb-b985-17925e95e634 button.colab-df-convert');\n",
              "      buttonEl.style.display =\n",
              "        google.colab.kernel.accessAllowed ? 'block' : 'none';\n",
              "\n",
              "      async function convertToInteractive(key) {\n",
              "        const element = document.querySelector('#df-aaa6cd56-6f0f-4ddb-b985-17925e95e634');\n",
              "        const dataTable =\n",
              "          await google.colab.kernel.invokeFunction('convertToInteractive',\n",
              "                                                    [key], {});\n",
              "        if (!dataTable) return;\n",
              "\n",
              "        const docLinkHtml = 'Like what you see? Visit the ' +\n",
              "          '<a target=\"_blank\" href=https://colab.research.google.com/notebooks/data_table.ipynb>data table notebook</a>'\n",
              "          + ' to learn more about interactive tables.';\n",
              "        element.innerHTML = '';\n",
              "        dataTable['output_type'] = 'display_data';\n",
              "        await google.colab.output.renderOutput(dataTable, element);\n",
              "        const docLink = document.createElement('div');\n",
              "        docLink.innerHTML = docLinkHtml;\n",
              "        element.appendChild(docLink);\n",
              "      }\n",
              "    </script>\n",
              "  </div>\n",
              "\n",
              "\n",
              "    <div id=\"df-798e511d-52db-4251-a618-2982dcecbf35\">\n",
              "      <button class=\"colab-df-quickchart\" onclick=\"quickchart('df-798e511d-52db-4251-a618-2982dcecbf35')\"\n",
              "                title=\"Suggest charts\"\n",
              "                style=\"display:none;\">\n",
              "\n",
              "<svg xmlns=\"http://www.w3.org/2000/svg\" height=\"24px\"viewBox=\"0 0 24 24\"\n",
              "     width=\"24px\">\n",
              "    <g>\n",
              "        <path d=\"M19 3H5c-1.1 0-2 .9-2 2v14c0 1.1.9 2 2 2h14c1.1 0 2-.9 2-2V5c0-1.1-.9-2-2-2zM9 17H7v-7h2v7zm4 0h-2V7h2v10zm4 0h-2v-4h2v4z\"/>\n",
              "    </g>\n",
              "</svg>\n",
              "      </button>\n",
              "\n",
              "<style>\n",
              "  .colab-df-quickchart {\n",
              "      --bg-color: #E8F0FE;\n",
              "      --fill-color: #1967D2;\n",
              "      --hover-bg-color: #E2EBFA;\n",
              "      --hover-fill-color: #174EA6;\n",
              "      --disabled-fill-color: #AAA;\n",
              "      --disabled-bg-color: #DDD;\n",
              "  }\n",
              "\n",
              "  [theme=dark] .colab-df-quickchart {\n",
              "      --bg-color: #3B4455;\n",
              "      --fill-color: #D2E3FC;\n",
              "      --hover-bg-color: #434B5C;\n",
              "      --hover-fill-color: #FFFFFF;\n",
              "      --disabled-bg-color: #3B4455;\n",
              "      --disabled-fill-color: #666;\n",
              "  }\n",
              "\n",
              "  .colab-df-quickchart {\n",
              "    background-color: var(--bg-color);\n",
              "    border: none;\n",
              "    border-radius: 50%;\n",
              "    cursor: pointer;\n",
              "    display: none;\n",
              "    fill: var(--fill-color);\n",
              "    height: 32px;\n",
              "    padding: 0;\n",
              "    width: 32px;\n",
              "  }\n",
              "\n",
              "  .colab-df-quickchart:hover {\n",
              "    background-color: var(--hover-bg-color);\n",
              "    box-shadow: 0 1px 2px rgba(60, 64, 67, 0.3), 0 1px 3px 1px rgba(60, 64, 67, 0.15);\n",
              "    fill: var(--button-hover-fill-color);\n",
              "  }\n",
              "\n",
              "  .colab-df-quickchart-complete:disabled,\n",
              "  .colab-df-quickchart-complete:disabled:hover {\n",
              "    background-color: var(--disabled-bg-color);\n",
              "    fill: var(--disabled-fill-color);\n",
              "    box-shadow: none;\n",
              "  }\n",
              "\n",
              "  .colab-df-spinner {\n",
              "    border: 2px solid var(--fill-color);\n",
              "    border-color: transparent;\n",
              "    border-bottom-color: var(--fill-color);\n",
              "    animation:\n",
              "      spin 1s steps(1) infinite;\n",
              "  }\n",
              "\n",
              "  @keyframes spin {\n",
              "    0% {\n",
              "      border-color: transparent;\n",
              "      border-bottom-color: var(--fill-color);\n",
              "      border-left-color: var(--fill-color);\n",
              "    }\n",
              "    20% {\n",
              "      border-color: transparent;\n",
              "      border-left-color: var(--fill-color);\n",
              "      border-top-color: var(--fill-color);\n",
              "    }\n",
              "    30% {\n",
              "      border-color: transparent;\n",
              "      border-left-color: var(--fill-color);\n",
              "      border-top-color: var(--fill-color);\n",
              "      border-right-color: var(--fill-color);\n",
              "    }\n",
              "    40% {\n",
              "      border-color: transparent;\n",
              "      border-right-color: var(--fill-color);\n",
              "      border-top-color: var(--fill-color);\n",
              "    }\n",
              "    60% {\n",
              "      border-color: transparent;\n",
              "      border-right-color: var(--fill-color);\n",
              "    }\n",
              "    80% {\n",
              "      border-color: transparent;\n",
              "      border-right-color: var(--fill-color);\n",
              "      border-bottom-color: var(--fill-color);\n",
              "    }\n",
              "    90% {\n",
              "      border-color: transparent;\n",
              "      border-bottom-color: var(--fill-color);\n",
              "    }\n",
              "  }\n",
              "</style>\n",
              "\n",
              "      <script>\n",
              "        async function quickchart(key) {\n",
              "          const quickchartButtonEl =\n",
              "            document.querySelector('#' + key + ' button');\n",
              "          quickchartButtonEl.disabled = true;  // To prevent multiple clicks.\n",
              "          quickchartButtonEl.classList.add('colab-df-spinner');\n",
              "          try {\n",
              "            const charts = await google.colab.kernel.invokeFunction(\n",
              "                'suggestCharts', [key], {});\n",
              "          } catch (error) {\n",
              "            console.error('Error during call to suggestCharts:', error);\n",
              "          }\n",
              "          quickchartButtonEl.classList.remove('colab-df-spinner');\n",
              "          quickchartButtonEl.classList.add('colab-df-quickchart-complete');\n",
              "        }\n",
              "        (() => {\n",
              "          let quickchartButtonEl =\n",
              "            document.querySelector('#df-798e511d-52db-4251-a618-2982dcecbf35 button');\n",
              "          quickchartButtonEl.style.display =\n",
              "            google.colab.kernel.accessAllowed ? 'block' : 'none';\n",
              "        })();\n",
              "      </script>\n",
              "    </div>\n",
              "\n",
              "  <div id=\"id_69ee5343-548e-4f1d-a936-ba3e89c01ed9\">\n",
              "    <style>\n",
              "      .colab-df-generate {\n",
              "        background-color: #E8F0FE;\n",
              "        border: none;\n",
              "        border-radius: 50%;\n",
              "        cursor: pointer;\n",
              "        display: none;\n",
              "        fill: #1967D2;\n",
              "        height: 32px;\n",
              "        padding: 0 0 0 0;\n",
              "        width: 32px;\n",
              "      }\n",
              "\n",
              "      .colab-df-generate:hover {\n",
              "        background-color: #E2EBFA;\n",
              "        box-shadow: 0px 1px 2px rgba(60, 64, 67, 0.3), 0px 1px 3px 1px rgba(60, 64, 67, 0.15);\n",
              "        fill: #174EA6;\n",
              "      }\n",
              "\n",
              "      [theme=dark] .colab-df-generate {\n",
              "        background-color: #3B4455;\n",
              "        fill: #D2E3FC;\n",
              "      }\n",
              "\n",
              "      [theme=dark] .colab-df-generate:hover {\n",
              "        background-color: #434B5C;\n",
              "        box-shadow: 0px 1px 3px 1px rgba(0, 0, 0, 0.15);\n",
              "        filter: drop-shadow(0px 1px 2px rgba(0, 0, 0, 0.3));\n",
              "        fill: #FFFFFF;\n",
              "      }\n",
              "    </style>\n",
              "    <button class=\"colab-df-generate\" onclick=\"generateWithVariable('data')\"\n",
              "            title=\"Generate code using this dataframe.\"\n",
              "            style=\"display:none;\">\n",
              "\n",
              "  <svg xmlns=\"http://www.w3.org/2000/svg\" height=\"24px\"viewBox=\"0 0 24 24\"\n",
              "       width=\"24px\">\n",
              "    <path d=\"M7,19H8.4L18.45,9,17,7.55,7,17.6ZM5,21V16.75L18.45,3.32a2,2,0,0,1,2.83,0l1.4,1.43a1.91,1.91,0,0,1,.58,1.4,1.91,1.91,0,0,1-.58,1.4L9.25,21ZM18.45,9,17,7.55Zm-12,3A5.31,5.31,0,0,0,4.9,8.1,5.31,5.31,0,0,0,1,6.5,5.31,5.31,0,0,0,4.9,4.9,5.31,5.31,0,0,0,6.5,1,5.31,5.31,0,0,0,8.1,4.9,5.31,5.31,0,0,0,12,6.5,5.46,5.46,0,0,0,6.5,12Z\"/>\n",
              "  </svg>\n",
              "    </button>\n",
              "    <script>\n",
              "      (() => {\n",
              "      const buttonEl =\n",
              "        document.querySelector('#id_69ee5343-548e-4f1d-a936-ba3e89c01ed9 button.colab-df-generate');\n",
              "      buttonEl.style.display =\n",
              "        google.colab.kernel.accessAllowed ? 'block' : 'none';\n",
              "\n",
              "      buttonEl.onclick = () => {\n",
              "        google.colab.notebook.generateWithVariable('data');\n",
              "      }\n",
              "      })();\n",
              "    </script>\n",
              "  </div>\n",
              "\n",
              "    </div>\n",
              "  </div>\n"
            ],
            "application/vnd.google.colaboratory.intrinsic+json": {
              "type": "dataframe",
              "variable_name": "data",
              "summary": "{\n  \"name\": \"data\",\n  \"rows\": 2,\n  \"fields\": [\n    {\n      \"column\": \"Name\",\n      \"properties\": {\n        \"dtype\": \"string\",\n        \"num_unique_values\": 2,\n        \"samples\": [\n          \"Bob\",\n          \"Alice\"\n        ],\n        \"semantic_type\": \"\",\n        \"description\": \"\"\n      }\n    },\n    {\n      \"column\": \"Age\",\n      \"properties\": {\n        \"dtype\": \"number\",\n        \"std\": 3,\n        \"min\": 25,\n        \"max\": 30,\n        \"num_unique_values\": 2,\n        \"samples\": [\n          30,\n          25\n        ],\n        \"semantic_type\": \"\",\n        \"description\": \"\"\n      }\n    }\n  ]\n}"
            }
          },
          "metadata": {},
          "execution_count": 9
        }
      ]
    },
    {
      "cell_type": "markdown",
      "id": "4ba9c319",
      "metadata": {
        "id": "4ba9c319"
      },
      "source": [
        "Para una matriz de orden 2 $\\times$ 3:\n",
        "$$B=\\begin{pmatrix}5&\\sqrt{7}&e^2\\\\ 7&-\\frac{1}{7}&6\\end{pmatrix}$$"
      ]
    },
    {
      "cell_type": "code",
      "execution_count": null,
      "id": "1daef30b",
      "metadata": {
        "id": "1daef30b",
        "colab": {
          "base_uri": "https://localhost:8080/"
        },
        "outputId": "d011f88d-9f72-4b8b-ab69-3cd2ce38a0bf"
      },
      "outputs": [
        {
          "output_type": "stream",
          "name": "stdout",
          "text": [
            "La matriz B es: \n",
            "[[5.0000 2.6458 7.3891]\n",
            " [7.0000 -0.1429 6.0000]]\n"
          ]
        }
      ],
      "source": [
        "B = np.array([[5, np.sqrt(7), np.exp(2)],\n",
        "              [7, -1/7, 6]])\n",
        "print(\"La matriz B es: \")\n",
        "print(B)"
      ]
    },
    {
      "cell_type": "markdown",
      "id": "b0860ce9",
      "metadata": {
        "id": "b0860ce9"
      },
      "source": [
        "Para un vector columna (matriz con una columna):\n",
        "$$C=\\begin{pmatrix}8\\\\ \\sqrt[5]{6}\\\\ \\frac{1}{2}\\\\ -7\\\\ 4\\\\ 3.5\\\\ ln15\\end{pmatrix}$$"
      ]
    },
    {
      "cell_type": "code",
      "execution_count": null,
      "id": "24794038",
      "metadata": {
        "id": "24794038",
        "colab": {
          "base_uri": "https://localhost:8080/"
        },
        "outputId": "34f8df15-982a-4aa8-abb0-477112e2c803"
      },
      "outputs": [
        {
          "output_type": "stream",
          "name": "stdout",
          "text": [
            "La matriz C es: \n",
            "[[8.0000]\n",
            " [1.4310]\n",
            " [0.5000]\n",
            " [-7.0000]\n",
            " [4.0000]\n",
            " [3.5000]\n",
            " [2.7081]]\n"
          ]
        }
      ],
      "source": [
        "C = np.array([[8],\n",
        "              [6**(1/5)],\n",
        "              [1/2],\n",
        "              [-7],\n",
        "              [4],\n",
        "              [3.5],\n",
        "              [np.log(15)]])\n",
        "print(\"La matriz C es: \")\n",
        "print(C)"
      ]
    },
    {
      "cell_type": "markdown",
      "id": "7973de53",
      "metadata": {
        "id": "7973de53"
      },
      "source": [
        "Para un vector fila (matriz con una fila):\n",
        "$$D=\\begin{pmatrix}\\sqrt{21}&\\sqrt[7]{20}&\\frac{1}{\\sqrt[9]{3}}&ln8&7.361&e^{-6}&\\frac{1}{2}&3\\end{pmatrix}$$"
      ]
    },
    {
      "cell_type": "code",
      "execution_count": null,
      "id": "4ba90785",
      "metadata": {
        "id": "4ba90785",
        "colab": {
          "base_uri": "https://localhost:8080/"
        },
        "outputId": "0a596325-4cfd-4c05-9260-700c7184b26e"
      },
      "outputs": [
        {
          "output_type": "stream",
          "name": "stdout",
          "text": [
            "La matriz D es: \n",
            "[[4.5826 1.5341 0.8851 2.0794 7.3610 0.0025 0.5000 3.0000]]\n"
          ]
        }
      ],
      "source": [
        "D = np.array([[np.sqrt(21),\n",
        "               20**(1/7),\n",
        "               3**(-1/9),\n",
        "               np.log(8),\n",
        "               7.361,\n",
        "               np.exp(-6),\n",
        "               1/2,\n",
        "               3]])\n",
        "\n",
        "print(\"La matriz D es: \")\n",
        "print(D)"
      ]
    },
    {
      "cell_type": "markdown",
      "id": "0274cd1f",
      "metadata": {
        "id": "0274cd1f"
      },
      "source": [
        "# **II.- Matrices especiales**"
      ]
    },
    {
      "cell_type": "markdown",
      "id": "774a61f6",
      "metadata": {
        "id": "774a61f6"
      },
      "source": [
        "## **a) Matriz cuadrada**"
      ]
    },
    {
      "cell_type": "markdown",
      "id": "cf15ce22",
      "metadata": {
        "id": "cf15ce22"
      },
      "source": [
        "Crear una matriz cuadrada de orden 6 con números aleatorios"
      ]
    },
    {
      "cell_type": "code",
      "execution_count": null,
      "id": "3085b86e",
      "metadata": {
        "id": "3085b86e",
        "colab": {
          "base_uri": "https://localhost:8080/"
        },
        "outputId": "0ab677b7-b465-41a5-d503-cc821fc9f433"
      },
      "outputs": [
        {
          "output_type": "stream",
          "name": "stdout",
          "text": [
            "          0         1         2         3         4         5\n",
            "0  0.696469  0.286139  0.226851  0.551315  0.719469  0.423106\n",
            "1  0.980764  0.684830  0.480932  0.392118  0.343178  0.729050\n",
            "2  0.438572  0.059678  0.398044  0.737995  0.182492  0.175452\n",
            "3  0.531551  0.531828  0.634401  0.849432  0.724455  0.611024\n",
            "4  0.722443  0.322959  0.361789  0.228263  0.293714  0.630976\n",
            "5  0.092105  0.433701  0.430863  0.493685  0.425830  0.312261\n"
          ]
        }
      ],
      "source": [
        "import pandas as pd\n",
        "np.random.seed(123)\n",
        "A = np.random.rand(6,6)\n",
        "A = pd.DataFrame(A)\n",
        "print(A)"
      ]
    },
    {
      "cell_type": "code",
      "source": [
        "A.shape"
      ],
      "metadata": {
        "colab": {
          "base_uri": "https://localhost:8080/"
        },
        "id": "R-KkNKAcmLCr",
        "outputId": "f2f9f1ad-7f13-411c-ee1a-5fc755db75d5"
      },
      "id": "R-KkNKAcmLCr",
      "execution_count": null,
      "outputs": [
        {
          "output_type": "execute_result",
          "data": {
            "text/plain": [
              "(6, 1)"
            ]
          },
          "metadata": {},
          "execution_count": 70
        }
      ]
    },
    {
      "cell_type": "code",
      "source": [
        "corrr=np.corrcoef(X,Y)\n",
        "cor=pd.DataFrame(corrr)\n",
        "cor"
      ],
      "metadata": {
        "colab": {
          "base_uri": "https://localhost:8080/",
          "height": 125
        },
        "id": "EmUs0f6w19GO",
        "outputId": "88a2ef0f-b973-4451-e382-0157fd294947"
      },
      "id": "EmUs0f6w19GO",
      "execution_count": null,
      "outputs": [
        {
          "output_type": "execute_result",
          "data": {
            "text/plain": [
              "     0    1\n",
              "0  1.0  0.0\n",
              "1  0.0  1.0"
            ],
            "text/html": [
              "\n",
              "  <div id=\"df-59a01090-4d0c-4d08-b15d-39d2015d6dc9\" class=\"colab-df-container\">\n",
              "    <div>\n",
              "<style scoped>\n",
              "    .dataframe tbody tr th:only-of-type {\n",
              "        vertical-align: middle;\n",
              "    }\n",
              "\n",
              "    .dataframe tbody tr th {\n",
              "        vertical-align: top;\n",
              "    }\n",
              "\n",
              "    .dataframe thead th {\n",
              "        text-align: right;\n",
              "    }\n",
              "</style>\n",
              "<table border=\"1\" class=\"dataframe\">\n",
              "  <thead>\n",
              "    <tr style=\"text-align: right;\">\n",
              "      <th></th>\n",
              "      <th>0</th>\n",
              "      <th>1</th>\n",
              "    </tr>\n",
              "  </thead>\n",
              "  <tbody>\n",
              "    <tr>\n",
              "      <th>0</th>\n",
              "      <td>1.0</td>\n",
              "      <td>0.0</td>\n",
              "    </tr>\n",
              "    <tr>\n",
              "      <th>1</th>\n",
              "      <td>0.0</td>\n",
              "      <td>1.0</td>\n",
              "    </tr>\n",
              "  </tbody>\n",
              "</table>\n",
              "</div>\n",
              "    <div class=\"colab-df-buttons\">\n",
              "\n",
              "  <div class=\"colab-df-container\">\n",
              "    <button class=\"colab-df-convert\" onclick=\"convertToInteractive('df-59a01090-4d0c-4d08-b15d-39d2015d6dc9')\"\n",
              "            title=\"Convert this dataframe to an interactive table.\"\n",
              "            style=\"display:none;\">\n",
              "\n",
              "  <svg xmlns=\"http://www.w3.org/2000/svg\" height=\"24px\" viewBox=\"0 -960 960 960\">\n",
              "    <path d=\"M120-120v-720h720v720H120Zm60-500h600v-160H180v160Zm220 220h160v-160H400v160Zm0 220h160v-160H400v160ZM180-400h160v-160H180v160Zm440 0h160v-160H620v160ZM180-180h160v-160H180v160Zm440 0h160v-160H620v160Z\"/>\n",
              "  </svg>\n",
              "    </button>\n",
              "\n",
              "  <style>\n",
              "    .colab-df-container {\n",
              "      display:flex;\n",
              "      gap: 12px;\n",
              "    }\n",
              "\n",
              "    .colab-df-convert {\n",
              "      background-color: #E8F0FE;\n",
              "      border: none;\n",
              "      border-radius: 50%;\n",
              "      cursor: pointer;\n",
              "      display: none;\n",
              "      fill: #1967D2;\n",
              "      height: 32px;\n",
              "      padding: 0 0 0 0;\n",
              "      width: 32px;\n",
              "    }\n",
              "\n",
              "    .colab-df-convert:hover {\n",
              "      background-color: #E2EBFA;\n",
              "      box-shadow: 0px 1px 2px rgba(60, 64, 67, 0.3), 0px 1px 3px 1px rgba(60, 64, 67, 0.15);\n",
              "      fill: #174EA6;\n",
              "    }\n",
              "\n",
              "    .colab-df-buttons div {\n",
              "      margin-bottom: 4px;\n",
              "    }\n",
              "\n",
              "    [theme=dark] .colab-df-convert {\n",
              "      background-color: #3B4455;\n",
              "      fill: #D2E3FC;\n",
              "    }\n",
              "\n",
              "    [theme=dark] .colab-df-convert:hover {\n",
              "      background-color: #434B5C;\n",
              "      box-shadow: 0px 1px 3px 1px rgba(0, 0, 0, 0.15);\n",
              "      filter: drop-shadow(0px 1px 2px rgba(0, 0, 0, 0.3));\n",
              "      fill: #FFFFFF;\n",
              "    }\n",
              "  </style>\n",
              "\n",
              "    <script>\n",
              "      const buttonEl =\n",
              "        document.querySelector('#df-59a01090-4d0c-4d08-b15d-39d2015d6dc9 button.colab-df-convert');\n",
              "      buttonEl.style.display =\n",
              "        google.colab.kernel.accessAllowed ? 'block' : 'none';\n",
              "\n",
              "      async function convertToInteractive(key) {\n",
              "        const element = document.querySelector('#df-59a01090-4d0c-4d08-b15d-39d2015d6dc9');\n",
              "        const dataTable =\n",
              "          await google.colab.kernel.invokeFunction('convertToInteractive',\n",
              "                                                    [key], {});\n",
              "        if (!dataTable) return;\n",
              "\n",
              "        const docLinkHtml = 'Like what you see? Visit the ' +\n",
              "          '<a target=\"_blank\" href=https://colab.research.google.com/notebooks/data_table.ipynb>data table notebook</a>'\n",
              "          + ' to learn more about interactive tables.';\n",
              "        element.innerHTML = '';\n",
              "        dataTable['output_type'] = 'display_data';\n",
              "        await google.colab.output.renderOutput(dataTable, element);\n",
              "        const docLink = document.createElement('div');\n",
              "        docLink.innerHTML = docLinkHtml;\n",
              "        element.appendChild(docLink);\n",
              "      }\n",
              "    </script>\n",
              "  </div>\n",
              "\n",
              "\n",
              "    <div id=\"df-b7a7bfe7-c0d3-453e-9157-1dde327b46f5\">\n",
              "      <button class=\"colab-df-quickchart\" onclick=\"quickchart('df-b7a7bfe7-c0d3-453e-9157-1dde327b46f5')\"\n",
              "                title=\"Suggest charts\"\n",
              "                style=\"display:none;\">\n",
              "\n",
              "<svg xmlns=\"http://www.w3.org/2000/svg\" height=\"24px\"viewBox=\"0 0 24 24\"\n",
              "     width=\"24px\">\n",
              "    <g>\n",
              "        <path d=\"M19 3H5c-1.1 0-2 .9-2 2v14c0 1.1.9 2 2 2h14c1.1 0 2-.9 2-2V5c0-1.1-.9-2-2-2zM9 17H7v-7h2v7zm4 0h-2V7h2v10zm4 0h-2v-4h2v4z\"/>\n",
              "    </g>\n",
              "</svg>\n",
              "      </button>\n",
              "\n",
              "<style>\n",
              "  .colab-df-quickchart {\n",
              "      --bg-color: #E8F0FE;\n",
              "      --fill-color: #1967D2;\n",
              "      --hover-bg-color: #E2EBFA;\n",
              "      --hover-fill-color: #174EA6;\n",
              "      --disabled-fill-color: #AAA;\n",
              "      --disabled-bg-color: #DDD;\n",
              "  }\n",
              "\n",
              "  [theme=dark] .colab-df-quickchart {\n",
              "      --bg-color: #3B4455;\n",
              "      --fill-color: #D2E3FC;\n",
              "      --hover-bg-color: #434B5C;\n",
              "      --hover-fill-color: #FFFFFF;\n",
              "      --disabled-bg-color: #3B4455;\n",
              "      --disabled-fill-color: #666;\n",
              "  }\n",
              "\n",
              "  .colab-df-quickchart {\n",
              "    background-color: var(--bg-color);\n",
              "    border: none;\n",
              "    border-radius: 50%;\n",
              "    cursor: pointer;\n",
              "    display: none;\n",
              "    fill: var(--fill-color);\n",
              "    height: 32px;\n",
              "    padding: 0;\n",
              "    width: 32px;\n",
              "  }\n",
              "\n",
              "  .colab-df-quickchart:hover {\n",
              "    background-color: var(--hover-bg-color);\n",
              "    box-shadow: 0 1px 2px rgba(60, 64, 67, 0.3), 0 1px 3px 1px rgba(60, 64, 67, 0.15);\n",
              "    fill: var(--button-hover-fill-color);\n",
              "  }\n",
              "\n",
              "  .colab-df-quickchart-complete:disabled,\n",
              "  .colab-df-quickchart-complete:disabled:hover {\n",
              "    background-color: var(--disabled-bg-color);\n",
              "    fill: var(--disabled-fill-color);\n",
              "    box-shadow: none;\n",
              "  }\n",
              "\n",
              "  .colab-df-spinner {\n",
              "    border: 2px solid var(--fill-color);\n",
              "    border-color: transparent;\n",
              "    border-bottom-color: var(--fill-color);\n",
              "    animation:\n",
              "      spin 1s steps(1) infinite;\n",
              "  }\n",
              "\n",
              "  @keyframes spin {\n",
              "    0% {\n",
              "      border-color: transparent;\n",
              "      border-bottom-color: var(--fill-color);\n",
              "      border-left-color: var(--fill-color);\n",
              "    }\n",
              "    20% {\n",
              "      border-color: transparent;\n",
              "      border-left-color: var(--fill-color);\n",
              "      border-top-color: var(--fill-color);\n",
              "    }\n",
              "    30% {\n",
              "      border-color: transparent;\n",
              "      border-left-color: var(--fill-color);\n",
              "      border-top-color: var(--fill-color);\n",
              "      border-right-color: var(--fill-color);\n",
              "    }\n",
              "    40% {\n",
              "      border-color: transparent;\n",
              "      border-right-color: var(--fill-color);\n",
              "      border-top-color: var(--fill-color);\n",
              "    }\n",
              "    60% {\n",
              "      border-color: transparent;\n",
              "      border-right-color: var(--fill-color);\n",
              "    }\n",
              "    80% {\n",
              "      border-color: transparent;\n",
              "      border-right-color: var(--fill-color);\n",
              "      border-bottom-color: var(--fill-color);\n",
              "    }\n",
              "    90% {\n",
              "      border-color: transparent;\n",
              "      border-bottom-color: var(--fill-color);\n",
              "    }\n",
              "  }\n",
              "</style>\n",
              "\n",
              "      <script>\n",
              "        async function quickchart(key) {\n",
              "          const quickchartButtonEl =\n",
              "            document.querySelector('#' + key + ' button');\n",
              "          quickchartButtonEl.disabled = true;  // To prevent multiple clicks.\n",
              "          quickchartButtonEl.classList.add('colab-df-spinner');\n",
              "          try {\n",
              "            const charts = await google.colab.kernel.invokeFunction(\n",
              "                'suggestCharts', [key], {});\n",
              "          } catch (error) {\n",
              "            console.error('Error during call to suggestCharts:', error);\n",
              "          }\n",
              "          quickchartButtonEl.classList.remove('colab-df-spinner');\n",
              "          quickchartButtonEl.classList.add('colab-df-quickchart-complete');\n",
              "        }\n",
              "        (() => {\n",
              "          let quickchartButtonEl =\n",
              "            document.querySelector('#df-b7a7bfe7-c0d3-453e-9157-1dde327b46f5 button');\n",
              "          quickchartButtonEl.style.display =\n",
              "            google.colab.kernel.accessAllowed ? 'block' : 'none';\n",
              "        })();\n",
              "      </script>\n",
              "    </div>\n",
              "\n",
              "  <div id=\"id_9d65148c-bdf2-4866-b61b-b32f47503cb4\">\n",
              "    <style>\n",
              "      .colab-df-generate {\n",
              "        background-color: #E8F0FE;\n",
              "        border: none;\n",
              "        border-radius: 50%;\n",
              "        cursor: pointer;\n",
              "        display: none;\n",
              "        fill: #1967D2;\n",
              "        height: 32px;\n",
              "        padding: 0 0 0 0;\n",
              "        width: 32px;\n",
              "      }\n",
              "\n",
              "      .colab-df-generate:hover {\n",
              "        background-color: #E2EBFA;\n",
              "        box-shadow: 0px 1px 2px rgba(60, 64, 67, 0.3), 0px 1px 3px 1px rgba(60, 64, 67, 0.15);\n",
              "        fill: #174EA6;\n",
              "      }\n",
              "\n",
              "      [theme=dark] .colab-df-generate {\n",
              "        background-color: #3B4455;\n",
              "        fill: #D2E3FC;\n",
              "      }\n",
              "\n",
              "      [theme=dark] .colab-df-generate:hover {\n",
              "        background-color: #434B5C;\n",
              "        box-shadow: 0px 1px 3px 1px rgba(0, 0, 0, 0.15);\n",
              "        filter: drop-shadow(0px 1px 2px rgba(0, 0, 0, 0.3));\n",
              "        fill: #FFFFFF;\n",
              "      }\n",
              "    </style>\n",
              "    <button class=\"colab-df-generate\" onclick=\"generateWithVariable('cor')\"\n",
              "            title=\"Generate code using this dataframe.\"\n",
              "            style=\"display:none;\">\n",
              "\n",
              "  <svg xmlns=\"http://www.w3.org/2000/svg\" height=\"24px\"viewBox=\"0 0 24 24\"\n",
              "       width=\"24px\">\n",
              "    <path d=\"M7,19H8.4L18.45,9,17,7.55,7,17.6ZM5,21V16.75L18.45,3.32a2,2,0,0,1,2.83,0l1.4,1.43a1.91,1.91,0,0,1,.58,1.4,1.91,1.91,0,0,1-.58,1.4L9.25,21ZM18.45,9,17,7.55Zm-12,3A5.31,5.31,0,0,0,4.9,8.1,5.31,5.31,0,0,0,1,6.5,5.31,5.31,0,0,0,4.9,4.9,5.31,5.31,0,0,0,6.5,1,5.31,5.31,0,0,0,8.1,4.9,5.31,5.31,0,0,0,12,6.5,5.46,5.46,0,0,0,6.5,12Z\"/>\n",
              "  </svg>\n",
              "    </button>\n",
              "    <script>\n",
              "      (() => {\n",
              "      const buttonEl =\n",
              "        document.querySelector('#id_9d65148c-bdf2-4866-b61b-b32f47503cb4 button.colab-df-generate');\n",
              "      buttonEl.style.display =\n",
              "        google.colab.kernel.accessAllowed ? 'block' : 'none';\n",
              "\n",
              "      buttonEl.onclick = () => {\n",
              "        google.colab.notebook.generateWithVariable('cor');\n",
              "      }\n",
              "      })();\n",
              "    </script>\n",
              "  </div>\n",
              "\n",
              "    </div>\n",
              "  </div>\n"
            ],
            "application/vnd.google.colaboratory.intrinsic+json": {
              "type": "dataframe",
              "variable_name": "cor",
              "summary": "{\n  \"name\": \"cor\",\n  \"rows\": 2,\n  \"fields\": [\n    {\n      \"column\": 0,\n      \"properties\": {\n        \"dtype\": \"number\",\n        \"std\": 0.7071067811865476,\n        \"min\": 0.0,\n        \"max\": 1.0,\n        \"num_unique_values\": 2,\n        \"samples\": [\n          0.0,\n          1.0\n        ],\n        \"semantic_type\": \"\",\n        \"description\": \"\"\n      }\n    },\n    {\n      \"column\": 1,\n      \"properties\": {\n        \"dtype\": \"number\",\n        \"std\": 0.7071067811865476,\n        \"min\": 0.0,\n        \"max\": 1.0,\n        \"num_unique_values\": 2,\n        \"samples\": [\n          1.0,\n          0.0\n        ],\n        \"semantic_type\": \"\",\n        \"description\": \"\"\n      }\n    }\n  ]\n}"
            }
          },
          "metadata": {},
          "execution_count": 149
        }
      ]
    },
    {
      "cell_type": "markdown",
      "id": "6697fc78",
      "metadata": {
        "id": "6697fc78"
      },
      "source": [
        "## **b) Matriz diagonal**"
      ]
    },
    {
      "cell_type": "markdown",
      "id": "aa913daa",
      "metadata": {
        "id": "aa913daa"
      },
      "source": [
        "Crear una matriz diagonal de orden 4 con números aleatorios con distribución $N(\\mu=6,\\sigma=1.75)$"
      ]
    },
    {
      "cell_type": "code",
      "execution_count": null,
      "id": "f6c2dcaa",
      "metadata": {
        "id": "f6c2dcaa",
        "colab": {
          "base_uri": "https://localhost:8080/"
        },
        "outputId": "b005895c-3918-43e9-9c98-4ec84ef3efcb"
      },
      "outputs": [
        {
          "output_type": "stream",
          "name": "stdout",
          "text": [
            "          0         1         2         3\n",
            "0  4.100146  0.000000  0.000000  0.000000\n",
            "1  0.000000  7.745355  0.000000  0.000000\n",
            "2  0.000000  0.000000  6.495212  0.000000\n",
            "3  0.000000  0.000000  0.000000  3.363984\n"
          ]
        }
      ],
      "source": [
        "np.random.seed(123)\n",
        "random_numbers = np.random.normal(6, 1.75, 4)\n",
        "C = np.diag(random_numbers)\n",
        "C = pd.DataFrame(C)\n",
        "print(C)"
      ]
    },
    {
      "cell_type": "markdown",
      "id": "684585b6",
      "metadata": {
        "id": "684585b6"
      },
      "source": [
        "## **c) Matriz Identidad**"
      ]
    },
    {
      "cell_type": "markdown",
      "id": "5f86bec7",
      "metadata": {
        "id": "5f86bec7"
      },
      "source": [
        "Crear una matriz identidad de orden 5"
      ]
    },
    {
      "cell_type": "code",
      "execution_count": null,
      "id": "b36549d2",
      "metadata": {
        "id": "b36549d2",
        "colab": {
          "base_uri": "https://localhost:8080/"
        },
        "outputId": "fc89503c-4964-404c-994d-ed2fb390aa50"
      },
      "outputs": [
        {
          "output_type": "stream",
          "name": "stdout",
          "text": [
            "[[1. 0. 0. 0. 0.]\n",
            " [0. 1. 0. 0. 0.]\n",
            " [0. 0. 1. 0. 0.]\n",
            " [0. 0. 0. 1. 0.]\n",
            " [0. 0. 0. 0. 1.]]\n"
          ]
        }
      ],
      "source": [
        "D = np.eye(5)\n",
        "print(D)"
      ]
    },
    {
      "cell_type": "markdown",
      "id": "b4b0a11f",
      "metadata": {
        "id": "b4b0a11f"
      },
      "source": [
        "## **d) Matriz nula**"
      ]
    },
    {
      "cell_type": "markdown",
      "id": "2dc995ee",
      "metadata": {
        "id": "2dc995ee"
      },
      "source": [
        "Crear una matriz nula de orden 15 $\\times$ 7"
      ]
    },
    {
      "cell_type": "code",
      "execution_count": null,
      "id": "cb181d0c",
      "metadata": {
        "id": "cb181d0c",
        "colab": {
          "base_uri": "https://localhost:8080/"
        },
        "outputId": "03bf6bbe-3a8c-461b-a4aa-df0ba6db4b2c"
      },
      "outputs": [
        {
          "output_type": "stream",
          "name": "stdout",
          "text": [
            "[[0. 0. 0. 0. 0. 0. 0.]\n",
            " [0. 0. 0. 0. 0. 0. 0.]\n",
            " [0. 0. 0. 0. 0. 0. 0.]\n",
            " [0. 0. 0. 0. 0. 0. 0.]\n",
            " [0. 0. 0. 0. 0. 0. 0.]\n",
            " [0. 0. 0. 0. 0. 0. 0.]\n",
            " [0. 0. 0. 0. 0. 0. 0.]\n",
            " [0. 0. 0. 0. 0. 0. 0.]\n",
            " [0. 0. 0. 0. 0. 0. 0.]\n",
            " [0. 0. 0. 0. 0. 0. 0.]\n",
            " [0. 0. 0. 0. 0. 0. 0.]\n",
            " [0. 0. 0. 0. 0. 0. 0.]\n",
            " [0. 0. 0. 0. 0. 0. 0.]\n",
            " [0. 0. 0. 0. 0. 0. 0.]\n",
            " [0. 0. 0. 0. 0. 0. 0.]]\n"
          ]
        }
      ],
      "source": [
        "E= np.zeros((15, 7))\n",
        "print(E)"
      ]
    },
    {
      "cell_type": "markdown",
      "id": "bc609912",
      "metadata": {
        "id": "bc609912"
      },
      "source": [
        "## **e) Matriz triangular superior**"
      ]
    },
    {
      "cell_type": "markdown",
      "id": "1deb307e",
      "metadata": {
        "id": "1deb307e"
      },
      "source": [
        "Crear una matriz triangular superior de orden 5"
      ]
    },
    {
      "cell_type": "code",
      "execution_count": null,
      "id": "487a5b07",
      "metadata": {
        "id": "487a5b07",
        "colab": {
          "base_uri": "https://localhost:8080/"
        },
        "outputId": "124250ca-ab18-4756-a20e-36659353cb82"
      },
      "outputs": [
        {
          "output_type": "stream",
          "name": "stdout",
          "text": [
            "          0         1         2         3         4\n",
            "0  0.426351  0.893389  0.944160  0.501837  0.623953\n",
            "1  0.000000  0.317285  0.414826  0.866309  0.250455\n",
            "2  0.000000  0.000000  0.519485  0.612895  0.120629\n",
            "3  0.000000  0.000000  0.000000  0.342764  0.304121\n",
            "4  0.000000  0.000000  0.000000  0.000000  0.669314\n"
          ]
        }
      ],
      "source": [
        "triangular_upper_matrix = np.triu(np.random.rand(5, 5))\n",
        "G = pd.DataFrame(triangular_upper_matrix)\n",
        "print(G)"
      ]
    },
    {
      "cell_type": "markdown",
      "id": "40896c0b",
      "metadata": {
        "id": "40896c0b"
      },
      "source": [
        "## **f) Matriz triangular inferior**"
      ]
    },
    {
      "cell_type": "markdown",
      "id": "8976903d",
      "metadata": {
        "id": "8976903d"
      },
      "source": [
        "Crear una matriz triangular inferior de orden 5"
      ]
    },
    {
      "cell_type": "code",
      "execution_count": null,
      "id": "882b1462",
      "metadata": {
        "id": "882b1462",
        "colab": {
          "base_uri": "https://localhost:8080/"
        },
        "outputId": "9f22ca72-80a8-4e06-d5e9-202ee26b2645"
      },
      "outputs": [
        {
          "output_type": "stream",
          "name": "stdout",
          "text": [
            "          0         1         2         3        4\n",
            "0  0.585937  0.000000  0.000000  0.000000  0.00000\n",
            "1  0.763683  0.243666  0.000000  0.000000  0.00000\n",
            "2  0.885327  0.627249  0.723416  0.000000  0.00000\n",
            "3  0.556785  0.158960  0.153071  0.695530  0.00000\n",
            "4  0.691970  0.554383  0.388951  0.925132  0.84167\n"
          ]
        }
      ],
      "source": [
        "triangular_lower_matrix = np.tril(np.random.rand(5, 5))\n",
        "G = pd.DataFrame(triangular_lower_matrix)\n",
        "print(G)"
      ]
    },
    {
      "cell_type": "markdown",
      "id": "79d2fa99",
      "metadata": {
        "id": "79d2fa99"
      },
      "source": [
        "## **g) Matriz transpuesta**"
      ]
    },
    {
      "cell_type": "markdown",
      "id": "7e22814b",
      "metadata": {
        "id": "7e22814b"
      },
      "source": [
        "Si creamos una matriz de orden 3 $\\times$ 6"
      ]
    },
    {
      "cell_type": "code",
      "execution_count": null,
      "id": "7b3966b5",
      "metadata": {
        "id": "7b3966b5",
        "colab": {
          "base_uri": "https://localhost:8080/"
        },
        "outputId": "e08a24b5-f2d2-42db-d2ef-98c05c336c33"
      },
      "outputs": [
        {
          "output_type": "stream",
          "name": "stdout",
          "text": [
            "          0         1         2         3         4         5\n",
            "0  2.782874  3.199469  3.056596  2.698741  2.884280  3.330287\n",
            "1  2.514664  2.914217  3.253187  2.826652  2.864223  2.981058\n",
            "2  3.298278  2.872220  2.911204  2.913130  3.441186  3.437357\n"
          ]
        }
      ],
      "source": [
        "np.random.seed(123)\n",
        "A = np.random.normal(3, 0.2, size=(3, 6))\n",
        "A = pd.DataFrame(A)\n",
        "print(A)"
      ]
    },
    {
      "cell_type": "markdown",
      "id": "c2389855",
      "metadata": {
        "id": "c2389855"
      },
      "source": [
        "La transpuesta es:"
      ]
    },
    {
      "cell_type": "code",
      "execution_count": null,
      "id": "a68b711a",
      "metadata": {
        "scrolled": true,
        "id": "a68b711a",
        "colab": {
          "base_uri": "https://localhost:8080/"
        },
        "outputId": "54794d0b-aeec-47e7-d594-bbb8f2b18a7c"
      },
      "outputs": [
        {
          "output_type": "stream",
          "name": "stdout",
          "text": [
            "          0         1         2\n",
            "0  2.782874  2.514664  3.298278\n",
            "1  3.199469  2.914217  2.872220\n",
            "2  3.056596  3.253187  2.911204\n",
            "3  2.698741  2.826652  2.913130\n",
            "4  2.884280  2.864223  3.441186\n",
            "5  3.330287  2.981058  3.437357\n"
          ]
        }
      ],
      "source": [
        "print(A.T)"
      ]
    },
    {
      "cell_type": "markdown",
      "id": "3a33f925",
      "metadata": {
        "id": "3a33f925"
      },
      "source": [
        "## h) Traza de una matriz"
      ]
    },
    {
      "cell_type": "code",
      "execution_count": null,
      "id": "8dbe4d4e",
      "metadata": {
        "id": "8dbe4d4e",
        "colab": {
          "base_uri": "https://localhost:8080/"
        },
        "outputId": "e32544e0-a3cb-43b6-8d16-db0101b2dd9b"
      },
      "outputs": [
        {
          "output_type": "stream",
          "name": "stdout",
          "text": [
            "          0         1         2         3         4         5         6\n",
            "0  0.002846  0.688223 -0.879536  0.283627 -0.805367 -1.727669 -0.390900\n",
            "1  0.573806  0.338589 -0.011830  2.392365  0.412912  0.978736  2.238143\n",
            "2 -1.294085 -1.038788  1.743712 -0.798063  0.029683  1.069316  0.890706\n",
            "3  1.754886  1.495644  1.069393 -0.772709  0.794863  0.314272 -1.326265\n",
            "4  1.417299  0.807237  0.045490 -0.233092 -1.198301  0.199524  0.468439\n",
            "5 -0.831155  1.162204 -1.097203 -2.123100  1.039727 -0.403366 -0.126030\n",
            "6 -0.837517 -1.605963  1.255237 -0.688869  1.660952  0.807308 -0.314758\n"
          ]
        }
      ],
      "source": [
        "A = np.random.normal(size=(7, 7))\n",
        "A = pd.DataFrame(A)\n",
        "print(A)"
      ]
    },
    {
      "cell_type": "code",
      "source": [],
      "metadata": {
        "id": "ETzNQ6KU2gy9"
      },
      "id": "ETzNQ6KU2gy9",
      "execution_count": null,
      "outputs": []
    },
    {
      "cell_type": "code",
      "execution_count": null,
      "id": "8cdb445f",
      "metadata": {
        "id": "8cdb445f",
        "colab": {
          "base_uri": "https://localhost:8080/"
        },
        "outputId": "cb8f62b2-47b4-4d65-aea2-97f9cf878419"
      },
      "outputs": [
        {
          "output_type": "stream",
          "name": "stdout",
          "text": [
            "Traza de la matriz: -0.6039868517480023\n"
          ]
        }
      ],
      "source": [
        "# Calcular la traza de la matriz\n",
        "trace = np.trace(A)\n",
        "print(\"Traza de la matriz:\", trace)"
      ]
    },
    {
      "cell_type": "code",
      "source": [
        "Mt=np.cov(Zx,Zy,ddof=1)\n",
        "round(np.trace(Mt),1)"
      ],
      "metadata": {
        "colab": {
          "base_uri": "https://localhost:8080/"
        },
        "id": "Cqx4Tmn42inz",
        "outputId": "ae2fdf30-57c6-4dd1-aea0-0158b5af57aa"
      },
      "id": "Cqx4Tmn42inz",
      "execution_count": null,
      "outputs": [
        {
          "output_type": "execute_result",
          "data": {
            "text/plain": [
              "np.float64(2.0)"
            ]
          },
          "metadata": {},
          "execution_count": 177
        }
      ]
    },
    {
      "cell_type": "code",
      "source": [
        "np.std(Zx)"
      ],
      "metadata": {
        "colab": {
          "base_uri": "https://localhost:8080/"
        },
        "id": "sUQ9j_Kx2woD",
        "outputId": "b2841bf4-1059-4f72-bd61-93c870ad8c7e"
      },
      "id": "sUQ9j_Kx2woD",
      "execution_count": null,
      "outputs": [
        {
          "output_type": "execute_result",
          "data": {
            "text/plain": [
              "np.float64(1.0)"
            ]
          },
          "metadata": {},
          "execution_count": 155
        }
      ]
    },
    {
      "cell_type": "code",
      "source": [
        "np.var(Zy)"
      ],
      "metadata": {
        "colab": {
          "base_uri": "https://localhost:8080/"
        },
        "id": "XwAQqr9O2i1s",
        "outputId": "c0d4b1a2-43b3-439a-f90e-476c514a884f"
      },
      "id": "XwAQqr9O2i1s",
      "execution_count": null,
      "outputs": [
        {
          "output_type": "execute_result",
          "data": {
            "text/plain": [
              "np.float64(1.0)"
            ]
          },
          "metadata": {},
          "execution_count": 157
        }
      ]
    },
    {
      "cell_type": "code",
      "source": [],
      "metadata": {
        "id": "nZ9qOUDi3Dfo"
      },
      "id": "nZ9qOUDi3Dfo",
      "execution_count": null,
      "outputs": []
    },
    {
      "cell_type": "code",
      "source": [],
      "metadata": {
        "id": "F5MHOCZM3Dmz"
      },
      "id": "F5MHOCZM3Dmz",
      "execution_count": null,
      "outputs": []
    },
    {
      "cell_type": "markdown",
      "id": "1cba1e61",
      "metadata": {
        "id": "1cba1e61"
      },
      "source": [
        "# **IV.- Suma de matrices**"
      ]
    },
    {
      "cell_type": "markdown",
      "id": "48018705",
      "metadata": {
        "id": "48018705"
      },
      "source": [
        "Se crean 2 matrices de orden 6 $\\times$ 5 :"
      ]
    },
    {
      "cell_type": "code",
      "execution_count": null,
      "id": "5aac4ad3",
      "metadata": {
        "id": "5aac4ad3",
        "colab": {
          "base_uri": "https://localhost:8080/"
        },
        "outputId": "30cde4b2-762f-46e7-a554-da0d22d51e4a"
      },
      "outputs": [
        {
          "output_type": "stream",
          "name": "stdout",
          "text": [
            "Matriz A:\n",
            "[[-0.57860025  1.65143654 -2.42667924 -0.42891263  1.26593626]\n",
            " [-0.8667404  -0.67888615 -0.09470897  1.49138963 -0.638902  ]\n",
            " [-0.44398196 -0.43435128  2.20593008  2.18678609  1.0040539 ]\n",
            " [ 0.3861864   0.73736858  1.49073203 -0.93583387  1.17582904]\n",
            " [-1.25388067 -0.6377515   0.9071052  -1.4286807  -0.14006872]\n",
            " [-0.8617549  -0.25561937 -2.79858911 -1.7715331  -0.69987723]]\n"
          ]
        }
      ],
      "source": [
        "A = np.random.randn(6, 5)\n",
        "print(\"Matriz A:\")\n",
        "print(A)"
      ]
    },
    {
      "cell_type": "code",
      "execution_count": null,
      "id": "df6e16c5",
      "metadata": {
        "scrolled": true,
        "id": "df6e16c5",
        "colab": {
          "base_uri": "https://localhost:8080/"
        },
        "outputId": "a220d763-f5f0-4c35-cf7c-040de944b045"
      },
      "outputs": [
        {
          "output_type": "stream",
          "name": "stdout",
          "text": [
            "\n",
            "Matriz B:\n",
            "[[6.85492486 4.65272863 5.00569183 6.37644542 3.24092731]\n",
            " [5.56725465 3.38926696 1.54466101 4.21820041 6.14761172]\n",
            " [5.6771781  4.97633901 9.78473053 5.82582432 6.95747201]\n",
            " [9.47628668 2.41182935 2.92242358 8.48742445 3.40387453]\n",
            " [5.05936646 7.13863194 6.78141278 8.50977236 7.99128827]\n",
            " [7.13878534 3.45458257 6.58972534 5.62854399 2.34746908]]\n"
          ]
        }
      ],
      "source": [
        "B = np.random.normal(5, 2, size=(6, 5))\n",
        "print(\"\\nMatriz B:\")\n",
        "print(B)"
      ]
    },
    {
      "cell_type": "markdown",
      "id": "ae59099e",
      "metadata": {
        "id": "ae59099e"
      },
      "source": [
        "La suma de matrices se define como:"
      ]
    },
    {
      "cell_type": "code",
      "execution_count": null,
      "id": "e6e72179",
      "metadata": {
        "id": "e6e72179",
        "colab": {
          "base_uri": "https://localhost:8080/"
        },
        "outputId": "85201407-307f-4e24-b3ce-a1f957c4c249"
      },
      "outputs": [
        {
          "output_type": "stream",
          "name": "stdout",
          "text": [
            "Suma de matrices: \n",
            "[[ 6.27632461  6.30416517  2.57901259  5.94753279  4.50686357]\n",
            " [ 4.70051425  2.71038081  1.44995204  5.70959004  5.50870973]\n",
            " [ 5.23319614  4.54198774 11.99066061  8.01261041  7.96152591]\n",
            " [ 9.86247308  3.14919793  4.41315561  7.55159058  4.57970357]\n",
            " [ 3.80548579  6.50088044  7.68851798  7.08109166  7.85121955]\n",
            " [ 6.27703044  3.1989632   3.79113623  3.85701088  1.64759185]]\n"
          ]
        }
      ],
      "source": [
        "print(\"Suma de matrices: \")\n",
        "print(A+B)"
      ]
    },
    {
      "cell_type": "markdown",
      "id": "b001b9cf",
      "metadata": {
        "id": "b001b9cf"
      },
      "source": [
        "# **V.- Producto de un escalar por una matriz**"
      ]
    },
    {
      "cell_type": "markdown",
      "id": "74418d1d",
      "metadata": {
        "id": "74418d1d"
      },
      "source": [
        "Se define una matriz de orden 8 $\\times$ 5:"
      ]
    },
    {
      "cell_type": "code",
      "execution_count": null,
      "id": "ce34531b",
      "metadata": {
        "id": "ce34531b",
        "colab": {
          "base_uri": "https://localhost:8080/"
        },
        "outputId": "f39d289f-f56e-4c3e-df04-a1e0a511a5fb"
      },
      "outputs": [
        {
          "output_type": "stream",
          "name": "stdout",
          "text": [
            "\n",
            "Matriz C:\n",
            "          0         1         2         3         4\n",
            "0  1.417299  0.807237  0.045490 -0.233092 -1.198301\n",
            "1  0.199524  0.468439 -0.831155  1.162204 -1.097203\n",
            "2 -2.123100  1.039727 -0.403366 -0.126030 -0.837517\n",
            "3 -1.605963  1.255237 -0.688869  1.660952  0.807308\n",
            "4 -0.314758 -1.085902 -0.732462 -1.212523  2.087113\n",
            "5  0.164441  1.150206 -1.267352  0.181035  1.177862\n",
            "6 -0.335011  1.031114 -1.084568 -1.363472  0.379401\n",
            "7 -0.379176  0.642055 -1.977888  0.712265  2.598304\n"
          ]
        }
      ],
      "source": [
        "C = np.random.normal(size=(8, 5))\n",
        "C = pd.DataFrame(C)\n",
        "print(\"\\nMatriz C:\")\n",
        "print(C)"
      ]
    },
    {
      "cell_type": "markdown",
      "id": "4fdad0c5",
      "metadata": {
        "id": "4fdad0c5"
      },
      "source": [
        "Si se desea calcular: $\\sqrt{7}\\left[C\\right]_{8\\times 5}$"
      ]
    },
    {
      "cell_type": "code",
      "execution_count": null,
      "id": "a2063bbf",
      "metadata": {
        "id": "a2063bbf",
        "colab": {
          "base_uri": "https://localhost:8080/"
        },
        "outputId": "2e8f99cc-c8f5-44b3-c8af-dc01d68c9e49"
      },
      "outputs": [
        {
          "output_type": "stream",
          "name": "stdout",
          "text": [
            "Matriz resultado: \n",
            "          0         1         2         3         4\n",
            "0  3.749821  2.135747  0.120355 -0.616704 -3.170407\n",
            "1  0.527891  1.239373 -2.199029  3.074903 -2.902926\n",
            "2 -5.617196  2.750859 -1.067206 -0.333443 -2.215861\n",
            "3 -4.248978  3.321046 -1.822576  4.394467  2.135937\n",
            "4 -0.832772 -2.873028 -1.937912 -3.208035  5.521983\n",
            "5  0.435071  3.043158 -3.353098  0.478974  3.116330\n",
            "6 -0.886355  2.728072 -2.869497 -3.607407  1.003800\n",
            "7 -1.003207  1.698717 -5.233000  1.884475  6.874466\n"
          ]
        }
      ],
      "source": [
        "print(\"Matriz resultado: \")\n",
        "print(np.sqrt(7)*C)"
      ]
    },
    {
      "cell_type": "code",
      "execution_count": null,
      "id": "cadd325f",
      "metadata": {
        "id": "cadd325f",
        "colab": {
          "base_uri": "https://localhost:8080/"
        },
        "outputId": "56d6026d-2567-4cc5-f4b9-4aa6ac0c9b26"
      },
      "outputs": [
        {
          "output_type": "stream",
          "name": "stdout",
          "text": [
            "¿Son iguales?:  True\n"
          ]
        }
      ],
      "source": [
        "print(\"¿Son iguales?: \", np.allclose(C[0:0],np.sqrt(7)*C[0:0]))"
      ]
    },
    {
      "cell_type": "markdown",
      "id": "c223c46c",
      "metadata": {
        "id": "c223c46c"
      },
      "source": [
        "Si se definen dos matrices de orden 7 $\\times$ 4:"
      ]
    },
    {
      "cell_type": "code",
      "execution_count": null,
      "id": "c391458f",
      "metadata": {
        "id": "c391458f"
      },
      "outputs": [],
      "source": [
        "A = np.random.uniform(10, 21, size=(7, 4))\n",
        "print(\"Matriz A:\")\n",
        "print(A)"
      ]
    },
    {
      "cell_type": "code",
      "execution_count": null,
      "id": "6b0c4af8",
      "metadata": {
        "id": "6b0c4af8"
      },
      "outputs": [],
      "source": [
        "B = np.random.uniform(14, 26, size=(7, 4))\n",
        "print(\"\\nMatriz B:\")\n",
        "print(B)"
      ]
    },
    {
      "cell_type": "markdown",
      "id": "9eca43e6",
      "metadata": {
        "id": "9eca43e6"
      },
      "source": [
        "Se desea calcular la matriz: $P=2.35\\cdot A+ln13\\cdot B$"
      ]
    },
    {
      "cell_type": "code",
      "execution_count": null,
      "id": "181cf631",
      "metadata": {
        "id": "181cf631"
      },
      "outputs": [],
      "source": [
        "print(2.35*A)"
      ]
    },
    {
      "cell_type": "code",
      "execution_count": null,
      "id": "28825a3b",
      "metadata": {
        "id": "28825a3b"
      },
      "outputs": [],
      "source": [
        "print(np.log(13)*B)"
      ]
    },
    {
      "cell_type": "code",
      "execution_count": null,
      "id": "b433d286",
      "metadata": {
        "id": "b433d286"
      },
      "outputs": [],
      "source": [
        "P = 2.35*A+np.log(13)*B\n",
        "print(\"Matriz resultado: \")\n",
        "print(P)"
      ]
    },
    {
      "cell_type": "markdown",
      "id": "ff1b204b",
      "metadata": {
        "id": "ff1b204b"
      },
      "source": [
        "Se desea calcular la matriz: $Q = \\sqrt{33}\\cdot A + \\frac{17}{\\ln 8}\\cdot B$"
      ]
    },
    {
      "cell_type": "code",
      "execution_count": null,
      "id": "732b6d5c",
      "metadata": {
        "id": "732b6d5c"
      },
      "outputs": [],
      "source": [
        "print(np.sqrt(33)*A)"
      ]
    },
    {
      "cell_type": "code",
      "execution_count": null,
      "id": "633e63b1",
      "metadata": {
        "id": "633e63b1"
      },
      "outputs": [],
      "source": [
        "print((17)/(np.log(8))*B)"
      ]
    },
    {
      "cell_type": "code",
      "execution_count": null,
      "id": "3981c1d4",
      "metadata": {
        "scrolled": false,
        "id": "3981c1d4"
      },
      "outputs": [],
      "source": [
        "Q = np.sqrt(33)*A + (17)/(np.log(8))*B\n",
        "print(\"Matriz resultado: \")\n",
        "print(Q)"
      ]
    },
    {
      "cell_type": "markdown",
      "id": "0038728d",
      "metadata": {
        "id": "0038728d"
      },
      "source": [
        "# **VI.- Multiplicación de matrices**"
      ]
    },
    {
      "cell_type": "markdown",
      "id": "8fccf9b5",
      "metadata": {
        "id": "8fccf9b5"
      },
      "source": [
        "Se define dos matrices y se requiere calcular: $A_{5\\times 6}\\times B_{6\\times 3}$"
      ]
    },
    {
      "cell_type": "code",
      "execution_count": null,
      "id": "f200f8be",
      "metadata": {
        "id": "f200f8be"
      },
      "outputs": [],
      "source": [
        "A = np.random.uniform(1, 3, size=(5, 6))\n",
        "print(\"Matriz A:\")\n",
        "print(A)"
      ]
    },
    {
      "cell_type": "code",
      "execution_count": null,
      "id": "d17a316d",
      "metadata": {
        "id": "d17a316d"
      },
      "outputs": [],
      "source": [
        "B = np.random.uniform(2, 9, size=(6, 3))\n",
        "print(\"\\nMatriz B:\")\n",
        "print(B)"
      ]
    },
    {
      "cell_type": "code",
      "execution_count": null,
      "id": "18d021ab",
      "metadata": {
        "id": "18d021ab"
      },
      "outputs": [],
      "source": [
        "print(\"El producto A y B\")\n",
        "print(np.dot(A,B))"
      ]
    },
    {
      "cell_type": "markdown",
      "id": "d656cc37",
      "metadata": {
        "id": "d656cc37"
      },
      "source": [
        "Si se desea calcular: $\\frac{1}{2}\\cdot A\\times e^3\\cdot B$"
      ]
    },
    {
      "cell_type": "code",
      "execution_count": null,
      "id": "4e559e61",
      "metadata": {
        "id": "4e559e61"
      },
      "outputs": [],
      "source": [
        "print(1/2*A)"
      ]
    },
    {
      "cell_type": "code",
      "execution_count": null,
      "id": "d22dccb1",
      "metadata": {
        "id": "d22dccb1"
      },
      "outputs": [],
      "source": [
        "print(np.exp(3)*B)"
      ]
    },
    {
      "cell_type": "code",
      "execution_count": null,
      "id": "7968c295",
      "metadata": {
        "id": "7968c295"
      },
      "outputs": [],
      "source": [
        "R = np.dot(1/2*A, np.exp(3)*B)\n",
        "print(\"Matriz resultado:\")\n",
        "print(R)"
      ]
    },
    {
      "cell_type": "markdown",
      "id": "1c8003c8",
      "metadata": {
        "id": "1c8003c8"
      },
      "source": [
        "# **VII.- Determinante de una matriz**"
      ]
    },
    {
      "cell_type": "markdown",
      "id": "ed7187ac",
      "metadata": {
        "id": "ed7187ac"
      },
      "source": [
        "Se crea una matriz cuadrada de orden 6 $\\times$ 6:"
      ]
    },
    {
      "cell_type": "code",
      "execution_count": null,
      "id": "c07ed75e",
      "metadata": {
        "id": "c07ed75e",
        "colab": {
          "base_uri": "https://localhost:8080/"
        },
        "outputId": "c229a41c-67d1-4993-c5bb-6ddbf3abdf54"
      },
      "outputs": [
        {
          "output_type": "stream",
          "name": "stdout",
          "text": [
            "Matriz A:\n",
            "[[7.2682 3.5753 3.0417 5.9618 7.4752 4.8080]\n",
            " [9.8269 7.1635 5.3284 4.5291 4.0886 7.5614]\n",
            " [4.9472 1.5371 4.5824 7.6420 2.6424 2.5791]\n",
            " [5.7840 5.7864 6.7096 8.6449 7.5201 6.4992]\n",
            " [7.5020 3.9066 4.2561 3.0544 3.6434 6.6788]\n",
            " [1.8289 4.9033 4.8778 5.4432 4.8325 3.8104]]\n"
          ]
        }
      ],
      "source": [
        "np.random.seed(123)\n",
        "A = np.random.uniform(1, 10, size=(6, 6))\n",
        "\n",
        "print(\"Matriz A:\")\n",
        "print(A)"
      ]
    },
    {
      "cell_type": "markdown",
      "id": "05875fa6",
      "metadata": {
        "id": "05875fa6"
      },
      "source": [
        "La determinante es:"
      ]
    },
    {
      "cell_type": "code",
      "execution_count": null,
      "id": "590005e7",
      "metadata": {
        "id": "590005e7"
      },
      "outputs": [],
      "source": [
        "print(\"El determinante de la matriz es: \", np.linalg.det(A))"
      ]
    },
    {
      "cell_type": "markdown",
      "id": "16e16a75",
      "metadata": {
        "id": "16e16a75"
      },
      "source": [
        "Por ejemplo, se declara la siguiente matriz B:\n",
        "$$B=\\begin{pmatrix}3&\\sqrt{11}&e^{-2}&5\\\\ \\frac{1}{16}&1.1&0&2^e\\\\ 5&\\frac{1}{log18}&1&2\\\\ 4&-1&0&7\\end{pmatrix}$$"
      ]
    },
    {
      "cell_type": "code",
      "execution_count": null,
      "id": "4ea5dc27",
      "metadata": {
        "id": "4ea5dc27"
      },
      "outputs": [],
      "source": [
        "B=np.array([[3,np.sqrt(11),np.exp(-2),5],[1/16,1.1,0,2**(np.exp(1))],\n",
        "      [5,1/(np.log10(18)),1,2],[4,-1,0,7]])\n",
        "print(\"Matriz B: \")\n",
        "print(B)"
      ]
    },
    {
      "cell_type": "code",
      "execution_count": null,
      "id": "dfd96b06",
      "metadata": {
        "id": "dfd96b06"
      },
      "outputs": [],
      "source": [
        "print(\"El determinante de la matriz B es:\",np.linalg.det(B))"
      ]
    },
    {
      "cell_type": "markdown",
      "id": "28ae6d71",
      "metadata": {
        "id": "28ae6d71"
      },
      "source": [
        "Por ejemplo, se declara la matriz C:\n",
        "$$C=\\begin{pmatrix}\\frac{1}{28}&\\sqrt{7}&\\frac{1}{\\sqrt{11}}&e^{\\sqrt{8}}&cos\\left(5\\right)\\\\ sen\\left(20\\right)&7&6.25&ln10&4\\\\ 1&2&e&10&7\\\\ 6.75&4^e&\\sqrt[3]{11}&1&0\\\\ 3&3.25&\\sqrt[5]{10}&20&7\\end{pmatrix}$$"
      ]
    },
    {
      "cell_type": "code",
      "execution_count": null,
      "id": "ea846735",
      "metadata": {
        "id": "ea846735"
      },
      "outputs": [],
      "source": [
        "import math\n",
        "\n",
        "C=np.array([[1/28, math.sqrt(7), 1/(math.sqrt(11)), math.exp(math.sqrt(8)), math.cos(5)],\n",
        "[math.sin(20),7,6.25,math.log(10),4], [1,2,math.exp(1),10,7],\n",
        "[6.75,4**math.exp(1),11**(1/3),1,0],[3,3.25,10**(1/5),20,7]])\n",
        "print(\"Matriz C:\")\n",
        "print(C)"
      ]
    },
    {
      "cell_type": "code",
      "source": [
        "T=np.corrcoef(X,Y)\n",
        "T"
      ],
      "metadata": {
        "colab": {
          "base_uri": "https://localhost:8080/"
        },
        "id": "ZAY3-_Gi44ZB",
        "outputId": "a55c059d-c691-45a7-f791-bf4e3b136ea0"
      },
      "id": "ZAY3-_Gi44ZB",
      "execution_count": null,
      "outputs": [
        {
          "output_type": "execute_result",
          "data": {
            "text/plain": [
              "array([[1.0000, 0.0000],\n",
              "       [0.0000, 1.0000]])"
            ]
          },
          "metadata": {},
          "execution_count": 186
        }
      ]
    },
    {
      "cell_type": "code",
      "source": [
        "np.linalg.det(T)"
      ],
      "metadata": {
        "colab": {
          "base_uri": "https://localhost:8080/"
        },
        "id": "HDJ13Kwe44g5",
        "outputId": "a59107e4-94cb-4a50-edba-426148bb40f6"
      },
      "id": "HDJ13Kwe44g5",
      "execution_count": null,
      "outputs": [
        {
          "output_type": "execute_result",
          "data": {
            "text/plain": [
              "np.float64(1.0)"
            ]
          },
          "metadata": {},
          "execution_count": 188
        }
      ]
    },
    {
      "cell_type": "code",
      "execution_count": null,
      "id": "0d6ce190",
      "metadata": {
        "id": "0d6ce190"
      },
      "outputs": [],
      "source": [
        "print(\"El determinante de la matriz C es:\",np.linalg.det(C))"
      ]
    },
    {
      "cell_type": "markdown",
      "id": "32ed0d84",
      "metadata": {
        "id": "32ed0d84"
      },
      "source": [
        "# **VIII.- Rango de una matriz**"
      ]
    },
    {
      "cell_type": "markdown",
      "id": "11034399",
      "metadata": {
        "id": "11034399"
      },
      "source": [
        "Se crea una matriz cuadrada de orden 5 $\\times$ 5:"
      ]
    },
    {
      "cell_type": "code",
      "execution_count": null,
      "id": "8b43393b",
      "metadata": {
        "id": "8b43393b",
        "colab": {
          "base_uri": "https://localhost:8080/"
        },
        "outputId": "18c9aa56-3b0f-4afa-f836-e161482a4890"
      },
      "outputs": [
        {
          "output_type": "stream",
          "name": "stdout",
          "text": [
            "Matriz A:\n",
            "[[28.10819883 17.43962271 15.89813779 24.334184   28.70619321]\n",
            " [21.00076796 35.49986916 27.8055732  22.50422944 20.19505547]\n",
            " [18.92262842 28.95529239 21.40287836 11.55162531 20.34915064]\n",
            " [29.18788055 14.74478499 14.56174566 23.82033572 23.82751726]\n",
            " [26.49442492 32.08522665 28.83583845 25.88661128 28.78352795]]\n"
          ]
        }
      ],
      "source": [
        "np.random.seed(123)\n",
        "A = np.random.uniform(10, 36, size=(5, 5))\n",
        "print(\"Matriz A:\")\n",
        "print(A)"
      ]
    },
    {
      "cell_type": "code",
      "execution_count": null,
      "id": "924dc48a",
      "metadata": {
        "id": "924dc48a",
        "colab": {
          "base_uri": "https://localhost:8080/"
        },
        "outputId": "d2cee053-57cb-4d76-b567-e3b229d863a8"
      },
      "outputs": [
        {
          "output_type": "stream",
          "name": "stdout",
          "text": [
            "El rango de A es: 5\n"
          ]
        }
      ],
      "source": [
        "print(\"El rango de A es:\", np.linalg.matrix_rank(A))"
      ]
    },
    {
      "cell_type": "code",
      "execution_count": null,
      "id": "a6f4cc5d",
      "metadata": {
        "id": "a6f4cc5d"
      },
      "outputs": [],
      "source": [
        "print(\"El rango de B es:\", np.linalg.matrix_rank(B))\n",
        "print(\"El rango de C es:\", np.linalg.matrix_rank(C))"
      ]
    },
    {
      "cell_type": "markdown",
      "id": "3ad62607",
      "metadata": {
        "id": "3ad62607"
      },
      "source": [
        "# **IX.- Inversa de una matriz**"
      ]
    },
    {
      "cell_type": "code",
      "execution_count": null,
      "id": "e21a1d9c",
      "metadata": {
        "id": "e21a1d9c",
        "colab": {
          "base_uri": "https://localhost:8080/"
        },
        "outputId": "d39734dd-d43a-47e5-e465-7d54839d60f0"
      },
      "outputs": [
        {
          "output_type": "stream",
          "name": "stdout",
          "text": [
            "La inversa de A es:\n",
            "[[-0.14481739 -0.03373116  0.074135    0.18071474 -0.03391556]\n",
            " [ 0.16365236  0.16004467  0.03436504 -0.09211622 -0.22354263]\n",
            " [-0.29396284 -0.19918841 -0.01575983  0.13489937  0.33239697]\n",
            " [ 0.10367512  0.11775645 -0.11649312 -0.0601417  -0.05387291]\n",
            " [ 0.15213208 -0.05370893  0.014011   -0.14471592  0.03059496]]\n"
          ]
        }
      ],
      "source": [
        "print(\"La inversa de A es:\")\n",
        "print(np.linalg.inv(A))"
      ]
    },
    {
      "cell_type": "code",
      "execution_count": null,
      "id": "591af3e3",
      "metadata": {
        "id": "591af3e3"
      },
      "outputs": [],
      "source": [
        "print(\"La inversa de B es:\")\n",
        "print(np.linalg.inv(B))"
      ]
    },
    {
      "cell_type": "code",
      "execution_count": null,
      "id": "d29d0aa5",
      "metadata": {
        "id": "d29d0aa5"
      },
      "outputs": [],
      "source": [
        "print(\"La inversa de C es:\")\n",
        "print(np.linalg.inv(C))"
      ]
    },
    {
      "cell_type": "code",
      "source": [
        "M=np.array([[4,4.001],[4.001,4.002]])\n",
        "M"
      ],
      "metadata": {
        "colab": {
          "base_uri": "https://localhost:8080/"
        },
        "id": "ju72UEgX-g7L",
        "outputId": "a35c2dd7-486a-418d-8cea-c8d351f500a7"
      },
      "id": "ju72UEgX-g7L",
      "execution_count": null,
      "outputs": [
        {
          "output_type": "execute_result",
          "data": {
            "text/plain": [
              "array([[4.0000, 4.0010],\n",
              "       [4.0010, 4.0020]])"
            ]
          },
          "metadata": {},
          "execution_count": 189
        }
      ]
    },
    {
      "cell_type": "code",
      "source": [
        "np.linalg.inv(M)"
      ],
      "metadata": {
        "colab": {
          "base_uri": "https://localhost:8080/"
        },
        "id": "SwXaFb89-hB2",
        "outputId": "869abf6b-20d2-4b50-c940-a81765a3a0c8"
      },
      "id": "SwXaFb89-hB2",
      "execution_count": null,
      "outputs": [
        {
          "output_type": "execute_result",
          "data": {
            "text/plain": [
              "array([[-4001999.9794, 4000999.9794],\n",
              "       [4000999.9794, -3999999.9794]])"
            ]
          },
          "metadata": {},
          "execution_count": 190
        }
      ]
    },
    {
      "cell_type": "code",
      "source": [
        "M=np.array([[4,4.001],[4.001,4.002001]])\n",
        "M"
      ],
      "metadata": {
        "colab": {
          "base_uri": "https://localhost:8080/"
        },
        "id": "KCyZSGD3_Y4K",
        "outputId": "88326d46-a572-433f-903e-d78aba01da41"
      },
      "id": "KCyZSGD3_Y4K",
      "execution_count": null,
      "outputs": [
        {
          "output_type": "execute_result",
          "data": {
            "text/plain": [
              "array([[4.0000, 4.0010],\n",
              "       [4.0010, 4.0020]])"
            ]
          },
          "metadata": {},
          "execution_count": 191
        }
      ]
    },
    {
      "cell_type": "code",
      "source": [
        "np.linalg.inv(M)"
      ],
      "metadata": {
        "colab": {
          "base_uri": "https://localhost:8080/"
        },
        "id": "c9eB5nax_bsw",
        "outputId": "f6b96ec5-3c7b-4fcc-8612-8950d45c22fa"
      },
      "id": "c9eB5nax_bsw",
      "execution_count": null,
      "outputs": [
        {
          "output_type": "execute_result",
          "data": {
            "text/plain": [
              "array([[1334000.3344, -1333666.6677],\n",
              "       [-1333666.6677, 1333333.3344]])"
            ]
          },
          "metadata": {},
          "execution_count": 192
        }
      ]
    },
    {
      "cell_type": "markdown",
      "id": "20011513",
      "metadata": {
        "id": "20011513"
      },
      "source": [
        "# **SECCIÓN 2: APLICACIONES DE MATRICES**"
      ]
    },
    {
      "cell_type": "markdown",
      "id": "376451f9",
      "metadata": {
        "id": "376451f9"
      },
      "source": [
        "## Ejercicio 01"
      ]
    },
    {
      "cell_type": "markdown",
      "id": "6ebb71e0",
      "metadata": {
        "id": "6ebb71e0"
      },
      "source": [
        "Se presenta el siguiente sistema de ecuaciones lineales que relaciona las variables en entidades financieras respecto al saldo final de operaciones de un año en particular:\n",
        "- **GO**: Gasto operativo (miles de dólares)\n",
        "- **LIQ**: Liquidez corriente (miles de dólares)\n",
        "- **MOR**: Morosidad de principal cartera de clientes (miles de clientes)\n",
        "- **PAC**: Pasivo corriente (miles de dólares)\n",
        "- **ACC**: Activo corriente (miles de dólares)\n",
        "- **PAT**: Patrimonio neto (miles de dólares)\n",
        "- **CCP**: Cuentas por pagar a proveedores (miles de dólares)\n",
        "\n",
        "El sistema, representado de manera matricial, se presenta a continuación:\n",
        "$$\\begin{pmatrix}\n",
        "    0.176&\t0.118&\t0.673&\t0.534&\t0.177&\t0.034&\t0.178 \\\\\n",
        "    0.796&\t0.247&\t0.031&\t0.672&\t0.944&\t0.111&\t0.736 \\\\\n",
        "    0.337&\t0.184&\t0.088&\t0.911&\t0.210&\t0.958&\t0.444 \\\\\n",
        "    0.386&\t0.597&\t0.492&\t0.821&\t0.493&\t0.758&\t0.441 \\\\\n",
        "    0.178&\t0.863&\t0.952&\t0.336&\t0.585&\t0.290&\t0.139 \\\\\n",
        "    0.509&\t0.230&  0.687&\t0.877&\t0.149&\t0.460&\t0.709 \\\\\n",
        "    0.423&\t0.451&\t0.826&\t0.963&\t0.040&\t0.213&  0.667 \\\\\n",
        "   \\end{pmatrix} \\begin{pmatrix} GO \\\\ LIQ \\\\ MOR \\\\ PAC \\\\ ACC \\\\ PAT \\\\ CCP  \\end{pmatrix} = \\begin{pmatrix} 0.831 \\\\\n",
        "0.143 \\\\\n",
        "0.724 \\\\\n",
        "0.941 \\\\\n",
        "0.922 \\\\\n",
        "0.222 \\\\\n",
        "0.468 \\\\\n",
        "   \\end{pmatrix}$$\n",
        "Determine la solución del sistema"
      ]
    },
    {
      "cell_type": "code",
      "execution_count": null,
      "id": "e482fbbb",
      "metadata": {
        "id": "e482fbbb"
      },
      "outputs": [],
      "source": [
        "# Definir la matriz de coeficientes A\n",
        "A = np.array([\n",
        "    [0.176, 0.118, 0.673, 0.534, 0.177, 0.034, 0.178],\n",
        "    [0.796, 0.247, 0.031, 0.672, 0.944, 0.111, 0.736],\n",
        "    [0.337, 0.184, 0.088, 0.911, 0.210, 0.958, 0.444],\n",
        "    [0.386, 0.597, 0.492, 0.821, 0.493, 0.758, 0.441],\n",
        "    [0.178, 0.863, 0.952, 0.336, 0.585, 0.290, 0.139],\n",
        "    [0.509, 0.230, 0.687, 0.877, 0.149, 0.460, 0.709],\n",
        "    [0.423, 0.451, 0.826, 0.963, 0.040, 0.213, 0.667]\n",
        "])\n",
        "\n",
        "# Definir el vector de constantes b\n",
        "b = np.array([0.831, 0.143, 0.724, 0.941, 0.922, 0.222, 0.468])"
      ]
    },
    {
      "cell_type": "code",
      "execution_count": null,
      "id": "1e8679fb",
      "metadata": {
        "id": "1e8679fb"
      },
      "outputs": [],
      "source": [
        "# Mostrar la solución en formato numérico\n",
        "# Calcular la inversa de A\n",
        "A_inv = np.linalg.inv(A)\n",
        "\n",
        "# Calcular la solución\n",
        "solution = np.dot(A_inv,b)\n",
        "\n",
        "numeric_solution = solution\n",
        "print(\"La solución del sistema es:\")\n",
        "for var, value in zip(['GO', 'LIQ', 'MOR', 'PAC', 'ACC', 'PAT', 'CCP'], numeric_solution):\n",
        "    print(f\"{var} = {value}\")"
      ]
    },
    {
      "cell_type": "markdown",
      "id": "e5d89634",
      "metadata": {
        "id": "e5d89634"
      },
      "source": [
        "## **Ejercicio 02**"
      ]
    },
    {
      "cell_type": "markdown",
      "source": [
        "## 🧠 Objetivo:\n",
        "\n",
        "Estimar la composición óptima de un portafolio de inversión que maximice el rendimiento esperado y minimice el riesgo, utilizando un conjunto de activos financieros como acciones, bonos y otros instrumentos. Este proceso involucra la asignación de pesos a cada activo en el portafolio con base en sus rendimientos esperados, volatilidad y correlaciones entre activos.\n",
        "\n",
        "## 📐 Fundamento matemático involucrado:\n",
        "\n",
        "### Álgebra lineal:\n",
        "\n",
        "* **Representación de los activos como vectores de características:**\n",
        "    Sea $\\mathbf{r} = (r_1, r_2, ..., r_n)$ el vector de rendimientos históricos de los $n$ activos del portafolio.\n",
        "\n",
        "* **Matriz de rendimientos:**\n",
        "    $\\mathbf{R} \\in \\mathbb{R}^{T \\times n}$ donde $T$ es el número de períodos de tiempo (por ejemplo, días, meses) y $n$ es el número de activos en el portafolio.\n",
        "\n",
        "* **Matriz de varianzas-covarianzas:**\n",
        "    La matriz $\\mathbf{\\sum} \\in \\mathbb{R}^{n \\times n}$ es la matriz que contiene la covarianza entre los activos, que se puede calcular como:\n",
        "    $\\mathbf{\\Sigma}_{ij} = \\text{Cov}(r_i, r_j)$ donde $r_i$ y $r_j$ son los rendimientos de los activos $i$ y $j$.\n",
        "\n",
        "* **Vectores de pesos:**\n",
        "    Sea $\\mathbf{w} = (w_1, w_2, ..., w_n)$ el vector de pesos del portafolio, que indica la proporción invertida en cada activo. Estos pesos deben satisfacer la restricción:\n",
        "    $\\sum_{i=1}^n w_i = 1$\n",
        "\n",
        "### Optimización:\n",
        "\n",
        "* **Maximización de la función de rendimiento esperado:**\n",
        "    El rendimiento esperado del portafolio es:\n",
        "    $\\mathbb{E}[R_p] = \\mathbf{w}^T \\mathbf{r}$ donde $\\mathbf{r}$ es el vector de rendimientos esperados de los activos.\n",
        "\n",
        "* **Minimización del riesgo (volatilidad):**\n",
        "    El riesgo o volatilidad del portafolio está dado por la desviación estándar de su rendimiento, que es:\n",
        "    $\\sigma_p = \\sqrt{\\mathbf{w}^T \\mathbf{\\Sigma} \\mathbf{w}}$ donde $\\mathbf{\\Sigma}$ es la matriz de varianzas-covarianzas de los activos.\n",
        "\n",
        "* **Función objetivo de optimización:**\n",
        "    La función objetivo de la optimización de la cartera es la relación entre riesgo y rendimiento, conocida como la frontera eficiente. El objetivo es maximizar el rendimiento esperado del portafolio para un nivel dado de riesgo. Esto se formula como:\n",
        "    $\\text{Maximizar} \\quad \\mathbf{w}^T \\mathbf{r} - \\lambda \\sqrt{\\mathbf{w}^T \\mathbf{\\Sigma} \\mathbf{w}}$ donde $\\lambda$ es un parámetro que controla el trade-off entre el rendimiento y el riesgo.\n",
        "\n",
        "### Restricciones:\n",
        "\n",
        "* Los pesos del portafolio deben sumar 1: $\\sum_{i=1}^n w_i = 1$\n",
        "\n",
        "* Los pesos no pueden ser negativos si se asume que no se permiten ventas en corto (es decir, no se pueden tener pesos negativos): $w_i \\geq 0 \\quad \\forall i$"
      ],
      "metadata": {
        "id": "GslOo1h70tZs"
      },
      "id": "GslOo1h70tZs"
    },
    {
      "cell_type": "markdown",
      "id": "c966ba4d",
      "metadata": {
        "id": "c966ba4d"
      },
      "source": [
        "Supongamos que tienes un portafolio con cinco activos financieros. Se te proporciona la siguiente información:\n",
        "\n",
        "**Rendimientos esperados:** Un vector que contiene el rendimiento esperado de cada activo.\n",
        "$$R= \\begin{pmatrix}0.08 \\\\ 0.12 \\\\ 0.10 \\\\ 0.14 \\\\ 0.09 \\end{pmatrix}$$\n",
        "\n",
        "**Matriz de varianza-covarianza:**\n",
        "$$\\Sigma= \\begin{pmatrix}0.04 & 0.002 & 0.001 & 0.003 & 0.002 \\\\\n",
        "0.002 & 0.03 & 0.0025 & 0.002 & 0.001 \\\\\n",
        "0.001 & 0.0025 & 0.02 & 0.0015 & 0.001 \\\\\n",
        "0.003 & 0.002 & 0.0015 & 0.025 & 0.002 \\\\\n",
        "0.002 & 0.001 & 0.001 & 0.002 & 0.015 \\end{pmatrix}$$\n",
        "\n",
        "**Pesos del portafolio:**\n",
        "$$W= \\begin{pmatrix}0.20 \\\\ 0.25 \\\\ 0.15 \\\\ 0.30 \\\\ 0.10 \\end{pmatrix}$$\n",
        "\n",
        "Hallar el rendimiento esperado y la varianza del portafolio"
      ]
    },
    {
      "cell_type": "markdown",
      "id": "e14477a5",
      "metadata": {
        "id": "e14477a5"
      },
      "source": [
        "**RENDIMIENTO ESPERADO**\n",
        "$$R_p= w^{T}R$$"
      ]
    },
    {
      "cell_type": "code",
      "execution_count": null,
      "id": "35143ee6",
      "metadata": {
        "id": "35143ee6"
      },
      "outputs": [],
      "source": [
        "# Datos\n",
        "R = np.array([0.08, 0.12, 0.10, 0.14, 0.09])\n",
        "w = np.array([0.20, 0.25, 0.15, 0.30, 0.10])\n",
        "\n",
        "# Rendimiento esperado del portafolio\n",
        "R_p = np.dot(w, R)\n",
        "\n",
        "print(f\"Rendimiento esperado del portafolio: {R_p:.4f}\")"
      ]
    },
    {
      "cell_type": "markdown",
      "id": "cbf62206",
      "metadata": {
        "id": "cbf62206"
      },
      "source": [
        "**VARIANZA DEL PORTAFOLIO**\n",
        "$$\\sigma^2_p = w^T\\Sigma w$$"
      ]
    },
    {
      "cell_type": "code",
      "execution_count": null,
      "id": "ad828f24",
      "metadata": {
        "scrolled": false,
        "id": "ad828f24"
      },
      "outputs": [],
      "source": [
        "# Matriz de varianza-covarianza\n",
        "Sigma = np.array([\n",
        "    [0.04, 0.002, 0.001, 0.003, 0.002],\n",
        "    [0.002, 0.03, 0.0025, 0.002, 0.001],\n",
        "    [0.001, 0.0025, 0.02, 0.0015, 0.001],\n",
        "    [0.003, 0.002, 0.0015, 0.025, 0.002],\n",
        "    [0.002, 0.001, 0.001, 0.002, 0.015]\n",
        "])\n",
        "\n",
        "# Varianza del portafolio\n",
        "sigma_p_squared = np.dot(w.T, np.dot(Sigma, w))\n",
        "\n",
        "# Desviación estándar del portafolio\n",
        "sigma_p = np.sqrt(sigma_p_squared)\n",
        "\n",
        "print(f\"Varianza del portafolio: {sigma_p_squared:.4f}\")\n",
        "print(f\"Desviación estándar del portafolio: {sigma_p:.4f}\")"
      ]
    },
    {
      "cell_type": "markdown",
      "id": "8ad4236f",
      "metadata": {
        "id": "8ad4236f"
      },
      "source": [
        "### **Caso de aplicación con datos reales**"
      ]
    },
    {
      "cell_type": "markdown",
      "id": "9434aa2f",
      "metadata": {
        "id": "9434aa2f"
      },
      "source": [
        "Un inversionista desea construir un portafolio óptimo utilizando 40 acciones del S&P 500. Su objetivo es minimizar el riesgo (desviación estándar del portafolio) dado un nivel de rendimiento esperado."
      ]
    },
    {
      "cell_type": "code",
      "execution_count": null,
      "id": "6d90162d",
      "metadata": {
        "id": "6d90162d"
      },
      "outputs": [],
      "source": [
        "import numpy as np\n",
        "import pandas as pd\n",
        "import yfinance as yf\n",
        "import scipy.optimize as sco\n",
        "import matplotlib.pyplot as plt\n",
        "import time\n",
        "\n",
        "# 1. Definir las acciones y el periodo de análisis (40 tickers)\n",
        "tickers = [\n",
        "    \"AAPL\", \"MSFT\", \"GOOGL\", \"AMZN\", \"TSLA\", \"META\", \"NVDA\", \"JPM\", \"JNJ\", \"PG\",\n",
        "    \"V\", \"DIS\", \"NFLX\", \"ADBE\", \"PYPL\", \"INTC\", \"CSCO\", \"CMCSA\", \"PEP\", \"KO\",\n",
        "    \"XOM\", \"BA\", \"WMT\", \"CVX\", \"NKE\", \"MRK\", \"ORCL\", \"T\", \"CRM\", \"ABT\",\n",
        "    \"ACN\", \"IBM\", \"QCOM\", \"TXN\", \"MDT\", \"COST\", \"LIN\", \"SBUX\", \"GILD\", \"CVS\"\n",
        "]\n",
        "\n",
        "start_date = \"2013-01-01\"\n",
        "end_date = \"2025-07-31\"\n",
        "\n",
        "# 2. Descargar datos de Yahoo Finance\n",
        "data = yf.download(tickers, start=start_date, end=end_date)[\"Close\"]\n",
        "\n",
        "# Mostrar las primeras filas para verificar\n",
        "print(data.head())"
      ]
    },
    {
      "cell_type": "code",
      "execution_count": null,
      "id": "c1625d6f",
      "metadata": {
        "id": "c1625d6f"
      },
      "outputs": [],
      "source": [
        "# Gráfico de evolución de los precios ajustados\n",
        "plt.figure(figsize=(12, 6))\n",
        "\n",
        "for ticker in tickers:\n",
        "    plt.plot(data.index, data[ticker], label=ticker)\n",
        "\n",
        "plt.xlabel(\"Fecha\")\n",
        "plt.ylabel(\"Precio Ajustado ($)\")\n",
        "plt.title(\"Evolución de los Precios Ajustados de las Acciones\")\n",
        "plt.legend(loc=\"upper left\", fontsize=8)\n",
        "plt.grid(False)\n",
        "\n",
        "plt.show()"
      ]
    },
    {
      "cell_type": "code",
      "execution_count": null,
      "id": "245cf4d0",
      "metadata": {
        "id": "245cf4d0"
      },
      "outputs": [],
      "source": [
        "# 3. Calcular rendimientos logarítmicos\n",
        "returns = np.log(data / data.shift(1)).dropna()\n",
        "returns"
      ]
    },
    {
      "cell_type": "code",
      "execution_count": null,
      "id": "22c76de5",
      "metadata": {
        "id": "22c76de5"
      },
      "outputs": [],
      "source": [
        "# Gráfico de rendimientos logarítmicos\n",
        "plt.figure(figsize=(12, 6))\n",
        "\n",
        "for ticker in tickers:\n",
        "    plt.plot(returns.index, returns[ticker], label=ticker, alpha=0.7)\n",
        "\n",
        "plt.xlabel(\"Fecha\")\n",
        "plt.ylabel(\"Rendimiento Logarítmico\")\n",
        "plt.title(\"Evolución de los Rendimientos Logarítmicos de las Acciones\")\n",
        "plt.legend(loc=\"upper right\", fontsize=8)\n",
        "plt.axhline(y=0, color=\"black\", linestyle=\"--\", linewidth=1)  # Línea base en 0\n",
        "plt.grid(False)\n",
        "\n",
        "plt.show()"
      ]
    },
    {
      "cell_type": "code",
      "execution_count": null,
      "id": "6932da15",
      "metadata": {
        "id": "6932da15"
      },
      "outputs": [],
      "source": [
        "# 4. Cálculo de los rendimientos esperados y matriz de covarianza\n",
        "expected_returns = returns.mean()  # Rendimiento anualizado\n",
        "expected_returns"
      ]
    },
    {
      "cell_type": "code",
      "execution_count": null,
      "id": "501af62a",
      "metadata": {
        "id": "501af62a"
      },
      "outputs": [],
      "source": [
        "cov_matrix = returns.cov()  # Matriz de covarianza anualizada\n",
        "cov_matrix"
      ]
    },
    {
      "cell_type": "code",
      "execution_count": null,
      "id": "ac3f08b9",
      "metadata": {
        "id": "ac3f08b9"
      },
      "outputs": [],
      "source": [
        "# 5. Función de minimización de la varianza del portafolio\n",
        "def portfolio_volatility(weights, cov_matrix):\n",
        "    return np.sqrt(weights.T @ cov_matrix @ weights)  # σ_p = sqrt(W' * Σ * W)"
      ]
    },
    {
      "cell_type": "code",
      "execution_count": null,
      "id": "67e5f480",
      "metadata": {
        "id": "67e5f480"
      },
      "outputs": [],
      "source": [
        "# 6. Restricciones y optimización del portafolio de mínima varianza\n",
        "num_assets = len(tickers)\n",
        "init_guess = np.ones(num_assets) / num_assets  # Pesos iniciales (iguales)\n",
        "bounds = [(0, 1) for _ in range(num_assets)]  # Cada peso entre 0 y 1\n",
        "constraints = [{\"type\": \"eq\", \"fun\": lambda w: np.sum(w) - 1}]  # Suma de pesos = 1\n",
        "\n",
        "# Optimización para minimizar la varianza\n",
        "opt_results = sco.minimize(portfolio_volatility, init_guess, args=(cov_matrix,),\n",
        "                           method=\"SLSQP\", bounds=bounds, constraints=constraints)"
      ]
    },
    {
      "cell_type": "code",
      "execution_count": null,
      "id": "c83e9d63",
      "metadata": {
        "id": "c83e9d63"
      },
      "outputs": [],
      "source": [
        "# 7. Resultados óptimos\n",
        "optimal_weights = opt_results.x\n",
        "min_variance = portfolio_volatility(optimal_weights, cov_matrix)"
      ]
    },
    {
      "cell_type": "code",
      "execution_count": null,
      "id": "c9f3aa5f",
      "metadata": {
        "id": "c9f3aa5f"
      },
      "outputs": [],
      "source": [
        "# 8. Mostrar resultados\n",
        "print(\"\\nPesos Óptimos del Portafolio de Mínima Varianza:\")\n",
        "for ticker, weight in zip(tickers, optimal_weights):\n",
        "    print(f\"{ticker}: {weight:.4f}\")\n",
        "\n",
        "print(f\"\\nDesviación estándar del portafolio óptimo: {min_variance:.4%}\")"
      ]
    },
    {
      "cell_type": "code",
      "execution_count": null,
      "id": "d171ed09",
      "metadata": {
        "id": "d171ed09"
      },
      "outputs": [],
      "source": [
        "# 9. Gráfico de distribución de pesos\n",
        "plt.figure(figsize=(10, 5))\n",
        "plt.bar(tickers, optimal_weights, color=\"skyblue\")\n",
        "plt.xlabel(\"Acciones\")\n",
        "plt.ylabel(\"Peso en el portafolio\")\n",
        "plt.title(\"Distribución de Pesos en el Portafolio Óptimo\")\n",
        "plt.xticks(rotation=45)\n",
        "plt.show()"
      ]
    },
    {
      "cell_type": "markdown",
      "id": "c843b8b2",
      "metadata": {
        "id": "c843b8b2"
      },
      "source": [
        "## **Ejercicio 03**"
      ]
    },
    {
      "cell_type": "markdown",
      "id": "f92f3ae8",
      "metadata": {
        "id": "f92f3ae8"
      },
      "source": [
        "## 🧠 Objetivo:\n",
        "\n",
        "El objetivo de un modelo de regresión lineal es predecir el valor de una variable dependiente (o resultado) en función de una o más variables independientes (o características). El modelo intenta aprender la relación lineal entre las variables, lo que permite hacer predicciones basadas en los datos. Este tipo de regresión es útil cuando se espera que la relación entre las variables sea lineal y se quiere entender cómo cambian los resultados en respuesta a los cambios en las variables predictoras.\n",
        "\n",
        "## 📐 Fundamento matemático involucrado:\n",
        "\n",
        "### Regresión Lineal Simple:\n",
        "\n",
        "La regresión lineal simple se usa cuando existe una sola variable independiente (o predictor). La relación se describe con la siguiente ecuación:\n",
        "$y = \\beta_0 + \\beta_1 x_1 + \\epsilon$\n",
        "\n",
        "donde:\n",
        "\n",
        "* $y$ es la variable dependiente (el valor que queremos predecir),\n",
        "* $x_1$ es la variable independiente (la característica o predictor),\n",
        "* $\\beta_0$ es el intercepto o constante (el valor de $y$ cuando $x_1 = 0$),\n",
        "* $\\beta_1$ es el coeficiente o pendiente de la variable independiente (representa el cambio en $y$ por cada unidad de cambio en $x_1$),\n",
        "* $\\epsilon$ es el término de error (que captura las variaciones no explicadas por el modelo).\n",
        "\n",
        "### Regresión Lineal Múltiple:\n",
        "\n",
        "En la regresión lineal múltiple, la ecuación se generaliza a varias variables independientes, como sigue:\n",
        "\n",
        "$y = \\beta_0 + \\beta_1 x_1 + \\beta_2 x_2 + \\dots + \\beta_n x_n + \\epsilon$\n",
        "\n",
        "Aquí:\n",
        "\n",
        "* $y$ es la variable dependiente,\n",
        "* $x_1, x_2, ..., x_n$ son las variables independientes,\n",
        "* $\\beta_1, \\beta_2, ..., \\beta_n$ son los coeficientes que representan el impacto de cada variable independiente sobre la variable dependiente,\n",
        "* $\\beta_0$ es la constante o intercepto,\n",
        "* $\\epsilon$ es el término de error.\n",
        "\n",
        "### Optimización de los coeficientes:\n",
        "\n",
        "Para encontrar los valores óptimos de los coeficientes $\\beta_0, \\beta_1, \\dots, \\beta_n$, se utiliza el método de mínimos cuadrados ordinarios (OLS), que consiste en minimizar la suma de los cuadrados de los residuos (la diferencia entre los valores predichos y los valores observados). El objetivo es encontrar los coeficientes $\\beta$ que minimicen la siguiente función de error:\n",
        "\n",
        "$$J(\\beta) = \\sum_{i=1}^{m} \\left( y_i - (\\beta_0 + \\beta_1 x_{i1} + \\beta_2 x_{i2} + \\dots + \\beta_n x_{in}) \\right)^2$$\n",
        "\n",
        "### Estimar los parámetros:\n",
        "\n",
        "La estimación de los parámetros $\\beta_0, \\beta_1, \\dots, \\beta_n$ puede realizarse utilizando la fórmula matricial para la regresión lineal múltiple:\n",
        "\n",
        "$\\hat{\\beta} = (X^T X)^{-1} X^T y$\n",
        "\n",
        "donde:\n",
        "\n",
        "* $X$ es la matriz de diseño que contiene las variables independientes ($n$ características por cada observación),\n",
        "* $y$ es el vector de valores observados de la variable dependiente,\n",
        "* $X^T$ es la transpuesta de la matriz $X$,\n",
        "* $(X^T X)^{-1}$ es la inversa de $X^T X$,\n",
        "* $\\hat{\\beta}$ es el vector estimado de los coeficientes.\n",
        "\n",
        "Este procedimiento encuentra la mejor aproximación de los coeficientes que minimizan el error cuadrático medio.\n",
        "\n",
        "### Evaluación del Modelo:\n",
        "\n",
        "Una vez estimados los parámetros del modelo, es fundamental evaluar su desempeño utilizando métricas como el error cuadrático medio (MSE) o el coeficiente de determinación ($R^2$), que mide qué proporción de la variabilidad de la variable dependiente es explicada por el modelo.\n",
        "\n",
        "**Error Cuadrático Medio (MSE):**\n",
        "\n",
        "$MSE = \\frac{1}{n} \\sum_{i=1}^{n} (y_i - \\hat{y}_i)^2$\n",
        "\n",
        "donde $y_i$ es el valor observado y $\\hat{y}_i$ es el valor predicho.\n",
        "\n",
        "**Coeficiente de determinación ($R^2$):**\n",
        "\n",
        "$R^2 = 1 - \\frac{\\sum_{i=1}^{n} (y_i - \\hat{y}_i)^2}{\\sum_{i=1}^{n} (y_i - \\bar{y})^2}$\n",
        "\n",
        "donde $\\bar{y}$ es el promedio de los valores observados. Un $R^2$ cercano a 1 indica que el modelo explica la mayoría de la variabilidad en los datos."
      ]
    },
    {
      "cell_type": "code",
      "execution_count": null,
      "id": "6ed4d076",
      "metadata": {
        "id": "6ed4d076"
      },
      "outputs": [],
      "source": [
        "import numpy as np\n",
        "import pandas as pd\n",
        "\n",
        "# Definir el número de muestras\n",
        "n_samples = 677\n",
        "\n",
        "# Generar variables independientes aleatorias\n",
        "# Suposiciones de parámetros: media y desviación estándar\n",
        "empleados = np.random.normal(loc=150, scale=50, size=n_samples)  # Número de empleados\n",
        "gastos_marketing = np.random.normal(loc=50000, scale=20000, size=n_samples)  # Gastos en marketing\n",
        "gastos_materias_primas = np.random.normal(loc=30000, scale=10000, size=n_samples)  # Gastos en materias primas\n",
        "maquinas_operativas = np.random.normal(loc=50, scale=10, size=n_samples)  # Número de máquinas operativas\n",
        "productos_fabricados = np.random.normal(loc=10000, scale=3000, size=n_samples)  # Productos fabricados\n",
        "tiendas_operativas = np.random.normal(loc=10, scale=3, size=n_samples)  # Tiendas operativas\n",
        "gasto_investigacion = np.random.normal(loc=20000, scale=5000, size=n_samples)  # Gasto en I+D\n",
        "\n",
        "# Generar término de error aleatorio\n",
        "error = np.random.normal(loc=0, scale=80000, size=n_samples)  # Error aleatorio\n",
        "\n",
        "# Generar la variable dependiente (Ingreso Total Mensual)\n",
        "ingreso_total_mensual = (1000 * empleados + 8 * gastos_marketing + 6 * gastos_materias_primas +\n",
        "                         50000 * maquinas_operativas + 100 * productos_fabricados + 50000 * tiendas_operativas +\n",
        "                         5 * gasto_investigacion + error)\n",
        "\n",
        "# Crear un DataFrame con las variables simuladas\n",
        "data = pd.DataFrame({\n",
        "    'Ingreso Total Mensual': ingreso_total_mensual,\n",
        "    'Empleados': empleados,\n",
        "    'Gastos Marketing': gastos_marketing,\n",
        "    'Gastos Materias Primas': gastos_materias_primas,\n",
        "    'Máquinas Operativas': maquinas_operativas,\n",
        "    'Productos Fabricados': productos_fabricados,\n",
        "    'Tiendas Operativas': tiendas_operativas,\n",
        "    'Gasto Investigación': gasto_investigacion\n",
        "})\n",
        "\n",
        "# Mostrar las primeras filas del DataFrame\n",
        "print(data.head())"
      ]
    },
    {
      "cell_type": "code",
      "execution_count": null,
      "id": "d3f99ce3",
      "metadata": {
        "id": "d3f99ce3"
      },
      "outputs": [],
      "source": [
        "import numpy as np\n",
        "import pandas as pd\n",
        "\n",
        "# Definimos el tamaño de la muestra\n",
        "n = len(data)\n",
        "\n",
        "# -- Diseñando la matriz X\n",
        "# Seleccionamos las variables predictoras: Empleados, Gastos Marketing, Gastos Materias Primas, etc.\n",
        "ind = data[['Empleados', 'Gastos Marketing', 'Gastos Materias Primas', 'Máquinas Operativas',\n",
        "            'Productos Fabricados', 'Tiendas Operativas', 'Gasto Investigación']].values\n",
        "\n",
        "# Añadimos la constante (1) para el término de intersección\n",
        "constante = np.ones(n)\n",
        "X = np.column_stack((constante, ind))\n",
        "\n",
        "# -- Diseñando la matriz Y (la variable dependiente: Ingreso Total Mensual)\n",
        "Y = data['Ingreso Total Mensual'].values\n",
        "\n",
        "# -- Cálculo de beta (estimación de los parámetros)\n",
        "# Calculamos (X^T * X)^-1 * X^T * Y\n",
        "X_transpose_X_inv = np.linalg.inv(X.T @ X)\n",
        "beta = X_transpose_X_inv @ X.T @ Y\n",
        "\n",
        "# Mostramos los resultados\n",
        "numeric_solution = beta\n",
        "print(\"La solución del sistema es:\")\n",
        "for var, value in zip(['BO', 'B1', 'B2', 'B3', 'B4', 'B5', 'B6', 'B7'], numeric_solution):\n",
        "    print(f\"{var} = {value}\")"
      ]
    },
    {
      "cell_type": "code",
      "execution_count": null,
      "id": "cb902307",
      "metadata": {
        "id": "cb902307"
      },
      "outputs": [],
      "source": [
        "# 3.- Cálculo del error estándar\n",
        "# -- Cálculo de los valores ajustados\n",
        "y_hat = X @ beta\n",
        "\n",
        "# -- Estimación del sigma cuadrado\n",
        "mu2 = np.sum((Y - y_hat) ** 2)\n",
        "sigma2 = mu2 / (n - X.shape[1])\n",
        "print(\"Sigma2:\", sigma2)"
      ]
    },
    {
      "cell_type": "code",
      "execution_count": null,
      "id": "65c9879c",
      "metadata": {
        "id": "65c9879c"
      },
      "outputs": [],
      "source": [
        "# -- Hallar la matriz de covarianzas\n",
        "matriz_cov = sigma2 * X_transpose_X_inv\n",
        "print(\"Matriz de covarianzas:\\n\", matriz_cov)"
      ]
    },
    {
      "cell_type": "code",
      "execution_count": null,
      "id": "dbfb3e27",
      "metadata": {
        "id": "dbfb3e27"
      },
      "outputs": [],
      "source": [
        "# -- Cálculo del error estándar\n",
        "ee_b = np.sqrt(np.diag(matriz_cov))\n",
        "\n",
        "# Bucle para imprimir el error estándar de cada beta\n",
        "for i in range(len(ee_b)):\n",
        "    print(f\"Error estándar de beta{i}:\", ee_b[i])"
      ]
    },
    {
      "cell_type": "code",
      "execution_count": null,
      "id": "f53afab6",
      "metadata": {
        "id": "f53afab6"
      },
      "outputs": [],
      "source": [
        "# 4.- Cálculo del coeficiente R2\n",
        "# -- Cálculo de SCE\n",
        "SCR = mu2\n",
        "print(\"SCE:\", SCR)"
      ]
    },
    {
      "cell_type": "code",
      "execution_count": null,
      "id": "c1d9e7a8",
      "metadata": {
        "id": "c1d9e7a8"
      },
      "outputs": [],
      "source": [
        "# -- Cálculo de SCR\n",
        "y_media = np.mean(Y)\n",
        "SCE = np.sum((y_hat - y_media) ** 2)\n",
        "print(\"SCE:\", SCE)"
      ]
    },
    {
      "cell_type": "code",
      "execution_count": null,
      "id": "e4d4353a",
      "metadata": {
        "id": "e4d4353a"
      },
      "outputs": [],
      "source": [
        "# -- Cálculo de SCT\n",
        "SCT = SCE + SCR\n",
        "print(\"SCT:\", SCT)"
      ]
    },
    {
      "cell_type": "code",
      "execution_count": null,
      "id": "ab61c804",
      "metadata": {
        "id": "ab61c804"
      },
      "outputs": [],
      "source": [
        "# -- Cálculo del indicador\n",
        "R2 = 1 - SCR / SCT\n",
        "print(\"R2:\", R2)"
      ]
    },
    {
      "cell_type": "code",
      "execution_count": null,
      "id": "c3469255",
      "metadata": {
        "id": "c3469255"
      },
      "outputs": [],
      "source": [
        "# 5.- Gráfica de dispersión entre variables\n",
        "# a) Matriz de correlación\n",
        "correlation_matrix = data[['Ingreso Total Mensual','Empleados', 'Gastos Marketing', 'Gastos Materias Primas',\n",
        "                           'Máquinas Operativas',\n",
        "            'Productos Fabricados', 'Tiendas Operativas', 'Gasto Investigación']].corr()\n",
        "print(\"Matriz de correlación:\\n\", correlation_matrix)"
      ]
    },
    {
      "cell_type": "code",
      "execution_count": null,
      "id": "f0654785",
      "metadata": {
        "id": "f0654785"
      },
      "outputs": [],
      "source": [
        "import numpy as np\n",
        "import pandas as pd\n",
        "import matplotlib.pyplot as plt\n",
        "\n",
        "# Supongamos que 'data' es el DataFrame que contiene las variables\n",
        "\n",
        "# Cálculo de la matriz de correlación\n",
        "correlation_matrix = data[['Ingreso Total Mensual', 'Empleados', 'Gastos Marketing',\n",
        "                           'Gastos Materias Primas', 'Máquinas Operativas',\n",
        "                           'Productos Fabricados', 'Tiendas Operativas',\n",
        "                           'Gasto Investigación']].corr()\n",
        "\n",
        "plt.figure(figsize=(10, 8))\n",
        "plt.imshow(correlation_matrix, interpolation='nearest', cmap='coolwarm')\n",
        "plt.title(\"Matriz de Correlación\", fontsize=16)\n",
        "plt.colorbar()\n",
        "plt.xticks(np.arange(len(correlation_matrix.columns)), correlation_matrix.columns, rotation=45, ha='right')\n",
        "plt.yticks(np.arange(len(correlation_matrix.columns)), correlation_matrix.columns)\n",
        "\n",
        "for i in range(len(correlation_matrix.columns)):\n",
        "    for j in range(len(correlation_matrix.columns)):\n",
        "        plt.text(j, i, f\"{correlation_matrix.iloc[i, j]:.2f}\", ha='center', va='center', color='black', fontsize=12)\n",
        "\n",
        "plt.xlabel(\"Variables\", fontsize=14)\n",
        "plt.ylabel(\"Variables\", fontsize=14)\n",
        "plt.show()"
      ]
    },
    {
      "cell_type": "code",
      "execution_count": null,
      "id": "e9105460",
      "metadata": {
        "id": "e9105460"
      },
      "outputs": [],
      "source": [
        "import numpy as np\n",
        "import matplotlib.pyplot as plt\n",
        "\n",
        "# Supongamos que 'data' es el DataFrame con las variables\n",
        "\n",
        "# Gráficos de dispersión con líneas de ajuste\n",
        "fig, axs = plt.subplots(4, 2, figsize=(14, 10))\n",
        "\n",
        "# Lista de variables explicativas\n",
        "variables = ['Empleados', 'Gastos Marketing',\n",
        "                           'Gastos Materias Primas', 'Máquinas Operativas',\n",
        "                           'Productos Fabricados', 'Tiendas Operativas',\n",
        "                           'Gasto Investigación']\n",
        "\n",
        "# Recorremos las variables para crear gráficos de dispersión\n",
        "for i, var in enumerate(variables):\n",
        "    ax = axs[i // 2, i % 2]\n",
        "    ax.scatter(data[var], data['Ingreso Total Mensual'], color=\"blue\")\n",
        "    # Ajuste de línea\n",
        "    coef = np.polyfit(data[var], data['Ingreso Total Mensual'], 1)  # Coeficientes de la línea de ajuste\n",
        "    poly = np.poly1d(coef)\n",
        "    ax.plot(data[var], poly(data[var]), color=\"red\", linewidth=3)  # Línea ajustada\n",
        "    ax.set_xlabel(var)  # Etiqueta del eje x\n",
        "    ax.set_ylabel('Ingreso mensual')  # Etiqueta del eje y\n",
        "\n",
        "plt.tight_layout()  # Ajuste de espacio entre subgráficos\n",
        "plt.show()  # Mostrar la gráfica\n"
      ]
    },
    {
      "cell_type": "code",
      "execution_count": null,
      "id": "1422705d",
      "metadata": {
        "id": "1422705d"
      },
      "outputs": [],
      "source": [
        "import statsmodels.api as sm\n",
        "\n",
        "# Ajustar el modelo de regresión\n",
        "X = data[['Empleados', 'Gastos Marketing',\n",
        "                           'Gastos Materias Primas', 'Máquinas Operativas',\n",
        "                           'Productos Fabricados', 'Tiendas Operativas',\n",
        "                           'Gasto Investigación']]\n",
        "Y = data['Ingreso Total Mensual']\n",
        "\n",
        "# Agregar una constante a la matriz de predictores\n",
        "X = sm.add_constant(X)\n",
        "\n",
        "# Crear el modelo de regresión\n",
        "model = sm.OLS(Y, X).fit()\n",
        "\n",
        "# Mostrar los resultados del resumen del modelo\n",
        "print(model.summary())"
      ]
    },
    {
      "cell_type": "markdown",
      "id": "0de9f3a6",
      "metadata": {
        "id": "0de9f3a6"
      },
      "source": [
        "### **APLICACIÓN**"
      ]
    },
    {
      "cell_type": "markdown",
      "id": "ed222b76",
      "metadata": {
        "id": "ed222b76"
      },
      "source": [
        "Supongamos que queremos sugerir películas a un usuario basándonos en sus gustos y hábitos de consumo. Para ello, podemos representar cada película como un vector de características que describa sus atributos más relevantes. Un ejemplo de conjunto de variables podría incluir:  \n",
        "\n",
        "1. **Género Acción** (1 si es de acción, 0 si no)  \n",
        "2. **Género Comedia** (1 si es comedia, 0 si no)  \n",
        "3. **Género Drama** (1 si es drama, 0 si no)  \n",
        "4. **Género Ciencia Ficción** (1 si es sci-fi, 0 si no)  \n",
        "5. **Duración** (en minutos)  \n",
        "6. **Puntuación en IMDb** (0 a 10)  \n",
        "7. **Número de votos en IMDb**  \n",
        "8. **Popularidad** (escala 0–100, según consultas y menciones)  \n",
        "9. **Presupuesto** (en millones de dólares)  \n",
        "10. **Ingresos en taquilla** (en millones de dólares)  \n",
        "11. **Año de estreno**  \n",
        "12. **Edad mínima recomendada** (clasificación por edades)  \n",
        "13. **Presencia de un actor/actriz favorito del usuario** (1 si sí, 0 si no)  \n",
        "14. **Pertenencia a una saga/franquicia conocida** (1 si sí, 0 si no)  \n",
        "15. **Cantidad de premios importantes ganados** (Óscar, Globos de Oro, BAFTA, etc.)  \n",
        "\n",
        "Una vez que el usuario define sus preferencias mediante un vector `U` que refleja la importancia que otorga a cada una de estas características, podemos calcular la **similitud del coseno** entre `U` y el vector de cada película `P_i`.  \n",
        "\n",
        "Este valor indicará qué tan cercana es cada película a los gustos del usuario, permitiendo generar una lista ordenada de recomendaciones personalizadas.\n"
      ]
    },
    {
      "cell_type": "code",
      "execution_count": null,
      "id": "2ed49575",
      "metadata": {
        "id": "2ed49575"
      },
      "outputs": [],
      "source": [
        "import numpy as np\n",
        "\n",
        "# Fijar semilla para reproducibilidad\n",
        "np.random.seed(42)\n",
        "\n",
        "# Número de películas\n",
        "num_peliculas = 5000\n",
        "\n",
        "# Variables binarias de géneros\n",
        "genero_accion = np.random.choice([0, 1], size=num_peliculas)\n",
        "genero_comedia = np.random.choice([0, 1], size=num_peliculas)\n",
        "genero_drama = np.random.choice([0, 1], size=num_peliculas)\n",
        "genero_scifi = np.random.choice([0, 1], size=num_peliculas)\n",
        "\n",
        "# Variables numéricas\n",
        "duracion = np.random.randint(80, 180, size=num_peliculas)  # minutos\n",
        "imdb = np.random.uniform(4.0, 10.0, size=num_peliculas)  # puntuación IMDb\n",
        "votos_imdb = np.random.randint(1000, 1_500_000, size=num_peliculas)  # número de votos\n",
        "popularidad = np.random.uniform(0, 100, size=num_peliculas)  # popularidad\n",
        "presupuesto = np.random.uniform(1, 300, size=num_peliculas)  # millones USD\n",
        "ingresos = np.random.uniform(10, 2000, size=num_peliculas)  # millones USD\n",
        "anio_estreno = np.random.randint(1980, 2025, size=num_peliculas)  # año\n",
        "edad_minima = np.random.choice([0, 7, 12, 15, 18], size=num_peliculas)  # clasificación de edad\n",
        "actor_favorito = np.random.choice([0, 1], size=num_peliculas)  # presencia de actor favorito\n",
        "franquicia = np.random.choice([0, 1], size=num_peliculas)  # pertenece a saga\n",
        "premios = np.random.randint(0, 15, size=num_peliculas)  # número de premios importantes"
      ]
    },
    {
      "cell_type": "code",
      "execution_count": null,
      "id": "e75d5b36",
      "metadata": {
        "id": "e75d5b36"
      },
      "outputs": [],
      "source": [
        "# Crear la matriz de características\n",
        "peliculas = np.column_stack([\n",
        "    genero_accion,\n",
        "    genero_comedia,\n",
        "    genero_drama,\n",
        "    genero_scifi,\n",
        "    duracion,\n",
        "    imdb,\n",
        "    votos_imdb,\n",
        "    popularidad,\n",
        "    presupuesto,\n",
        "    ingresos,\n",
        "    anio_estreno,\n",
        "    edad_minima,\n",
        "    actor_favorito,\n",
        "    franquicia,\n",
        "    premios\n",
        "])\n",
        "\n",
        "# Mostrar las 5 primeras películas\n",
        "import pandas as pd\n",
        "columnas = [\n",
        "    \"Género Acción\", \"Género Comedia\", \"Género Drama\", \"Género Sci-Fi\",\n",
        "    \"Duración (min)\", \"IMDb\", \"Votos IMDb\", \"Popularidad\",\n",
        "    \"Presupuesto (M USD)\", \"Ingresos (M USD)\", \"Año estreno\",\n",
        "    \"Edad mínima\", \"Actor favorito\", \"Franquicia\", \"Premios\"\n",
        "]\n",
        "df_peliculas = pd.DataFrame(peliculas, columns=columnas)\n",
        "df_peliculas"
      ]
    },
    {
      "cell_type": "code",
      "execution_count": null,
      "id": "2bc90c28",
      "metadata": {
        "id": "2bc90c28"
      },
      "outputs": [],
      "source": [
        "# Definir el vector de usuario U con los mismos rangos\n",
        "U = np.array([\n",
        "    np.random.choice([0, 1]),  # Género Acción\n",
        "    np.random.choice([0, 1]),  # Género Comedia\n",
        "    np.random.choice([0, 1]),  # Género Drama\n",
        "    np.random.choice([0, 1]),  # Género Sci-Fi\n",
        "    np.random.randint(80, 180),  # Duración (min)\n",
        "    np.random.uniform(4.0, 10.0),  # IMDb\n",
        "    np.random.randint(1000, 1_500_000),  # Votos IMDb\n",
        "    np.random.uniform(0, 100),  # Popularidad\n",
        "    np.random.uniform(1, 300),  # Presupuesto (M USD)\n",
        "    np.random.uniform(10, 2000),  # Ingresos (M USD)\n",
        "    np.random.randint(1980, 2025),  # Año estreno\n",
        "    np.random.choice([0, 7, 12, 15, 18]),  # Edad mínima\n",
        "    np.random.choice([0, 1]),  # Actor favorito\n",
        "    np.random.choice([0, 1]),  # Franquicia\n",
        "    np.random.randint(0, 15)  # Premios\n",
        "])\n",
        "U"
      ]
    },
    {
      "cell_type": "code",
      "execution_count": null,
      "id": "5ea27b2c",
      "metadata": {
        "id": "5ea27b2c"
      },
      "outputs": [],
      "source": [
        "# Función para calcular la similitud del coseno\n",
        "def cosine_similarity(a, b):\n",
        "    return np.dot(a, b) / (np.linalg.norm(a) * np.linalg.norm(b))"
      ]
    },
    {
      "cell_type": "code",
      "source": [
        "from sklearn.metrics.pairwise import cosine_similarity\n",
        "import pandas as pd\n",
        "import numpy as np\n",
        "\n",
        "# Calcular la similitud del coseno entre U y cada película\n",
        "similitudes = np.array([\n",
        "    cosine_similarity(U.reshape(1, -1), pelicula.reshape(1, -1))[0][0]\n",
        "    for pelicula in peliculas\n",
        "])\n",
        "\n",
        "# Crear un DataFrame para visualizar los resultados con las nuevas variables\n",
        "df = pd.DataFrame(peliculas, columns=[\n",
        "    'Género Acción', 'Género Comedia', 'Género Drama', 'Género Sci-Fi',\n",
        "    'Duración (min)', 'IMDb', 'Votos IMDb', 'Popularidad',\n",
        "    'Presupuesto (M USD)', 'Ingresos (M USD)', 'Año Estreno',\n",
        "    'Edad mínima', 'Actor favorito', 'Franquicia', 'Premios'\n",
        "])\n",
        "\n",
        "# Agregar la similitud\n",
        "df['Similitud'] = similitudes\n",
        "\n",
        "# Ordenar por similitud (de mayor a menor)\n",
        "df_sorted = df.sort_values(by=\"Similitud\", ascending=False)\n",
        "\n",
        "# Mostrar las 5 películas más cercanas\n",
        "print(\"🎬 10 películas más cercanas al usuario:\")\n",
        "df_sorted.head(10)"
      ],
      "metadata": {
        "id": "KzgGaJF13Tmc"
      },
      "id": "KzgGaJF13Tmc",
      "execution_count": null,
      "outputs": []
    },
    {
      "cell_type": "markdown",
      "id": "01130467",
      "metadata": {
        "id": "01130467"
      },
      "source": [
        "# **SECCIÓN 4: VECTORES Y VALORES PROPIOS**"
      ]
    },
    {
      "cell_type": "markdown",
      "id": "0f44f9c8",
      "metadata": {
        "id": "0f44f9c8"
      },
      "source": [
        "## **Polinomio característico**"
      ]
    },
    {
      "cell_type": "markdown",
      "id": "a92daceb",
      "metadata": {
        "id": "a92daceb"
      },
      "source": [
        "Son esenciales para la Geometría los conceptos o elementos que permanecen invariantes bajo una transformación, pues mediante ellos es posible entender mejor el efecto de ésta. En el caso de las transformaciones lineales de un espacio vectorial en sí mismo, es importante determinar las direcciones que permanecen invariantes, es decir, aquellos subespacios de dimensión 1 cuyos elementos se transforman en otros pertenecientes al mismo subespacio.\n",
        "\n",
        "**Definición** Si $T: V \\rightarrow V$ es una transformación lineal, decimos que\n",
        "$v \\in V$ es un *vector propio* de $T$ si su transformado es múltiplo del\n",
        "vector, es decir, si para algún $\\lambda \\in \\mathbb{R}$ se tiene que\n",
        "    $$T(v) = \\lambda v$$\n",
        "El escalar $\\lambda$ se denomina *valor propio* de T.\n",
        "\n",
        "**Observación.** Como cualquier transformación lineal lleva al vector cero en el\n",
        "vector cero, este vector es vector propio de cualquier transformación lineal,\n",
        "por eso lo interesante es determinar los vectores propios no cero de una transformación lineal."
      ]
    },
    {
      "cell_type": "markdown",
      "id": "adf10488",
      "metadata": {
        "id": "adf10488"
      },
      "source": [
        "En general no es tan sencillo entender el efecto geométrico de una cierta\n",
        "transformación lineal; para esos casos existe un instrumento algebraico que\n",
        "mecaniza la obtención de los elementos invariantes mediante la determinación\n",
        "de los valores y vectores característicos. El procedimiento es el siguiente:\n",
        "\n",
        "Sabemos que, dada $T: V \\rightarrow V$ lineal y fijada una base en $V$, existe una única matriz $M_T$ que al muliplicar por la izquierda al vector columna formado con las coordenadas de un vector $v$ en términos de esa base, produce el vector columna transformado del vector dado; en el caso de un vector propio, ese transformado debe ser $\\lambda v$:\n",
        "$$M_{T}v = \\lambda v,$$\n",
        "que también puede escribirse como\n",
        "$$M_{T}v - \\lambda v = 0,$$\n",
        "y si denotamos por $I$ la matriz identidad, podemos introducirla en el segundo\n",
        "sumando del lado izquierdo así:\n",
        "$$M_{T}v - \\lambda I v = 0.$$\n",
        "Por la propiedad distributiva del producto de matrices, el lado izquierdo\n",
        "puede escribirse en la forma\n",
        "$$(M_{T} - \\lambda I) v = 0.$$\n",
        "\n",
        "Ahora, esta ecuación matricial para $v$ admite soluciones no triviales si y solamente si el determinante de la matriz $M_{T} - \\lambda I$ es cero. Como el determinante es una expresión polinomial en las entradas de la correspondiente matriz se tiene la siguiente definición.\n",
        "\n",
        "**Definición.** El polinomio característico de $T$ es $$p(\\lambda) := \\det(M_{T} - \\lambda I). \\qquad (1)$$\n",
        "\n",
        "Por definición, las raíces del polinomio característico son los valores propios de $T$."
      ]
    },
    {
      "cell_type": "code",
      "execution_count": null,
      "id": "4d1f3662",
      "metadata": {
        "id": "4d1f3662"
      },
      "outputs": [],
      "source": [
        "import sympy as sym\n",
        "\n",
        "# Implementación de la función\n",
        "def matriz_de(transformacion):\n",
        "    transformacion = sym.sympify(transformacion)\n",
        "    Matriz = sym.Matrix([])\n",
        "    for key in transformacion:\n",
        "        Matriz = Matriz.col_insert(key.index(1), sym.Matrix(transformacion[key]))\n",
        "    return Matriz"
      ]
    },
    {
      "cell_type": "code",
      "execution_count": null,
      "id": "a6a51f13",
      "metadata": {
        "id": "a6a51f13"
      },
      "outputs": [],
      "source": [
        "def polinomio_caracteristico(transformacion):\n",
        "    MT = matriz_de(transformacion) # Cálculo de la matriz de 'transformacion'\n",
        "    nn = len(tuple(transformacion.keys())[0]) # Dimensión de R^n\n",
        "    identidad = sym.eye(nn) # Crear la matriz identidad de tamaño n x n\n",
        "    MT_menos_XI = MT - (sym.sympify('X'))*identidad # MT - X*I, en este caso usamos la leta X en vez de \\lambda\n",
        "    return sym.factor(MT_menos_XI.det()) # Utilizamos la función factor() para factorizar lo mejor posible una expresión 'simbólica'"
      ]
    },
    {
      "cell_type": "markdown",
      "id": "b9f1d85d",
      "metadata": {
        "id": "b9f1d85d"
      },
      "source": [
        "**Ejemplo 1.** Calcule el polinomio característico de la transformación lineal $T: \\mathbb{R}^2 \\rightarrow \\mathbb{R}^2$ definida por\n",
        "\n",
        "$$T(x, y) = x(2, 1)+y(3, 4).$$\n",
        "\n",
        "El primer paso consiste en saber cómo actúa la transformación $T$\n",
        "en la base canónica de $\\mathbb{R}^2$ para poder construir la matriz $M_T$ asociada a la transformación:\n",
        "$$T(1, 0) = (2, 1) \\quad \\text{y} \\quad T(0, 1) = (3, 4).$$\n",
        "\n",
        "Con esta información ya podemos calcular el polinomio característico de $T$:"
      ]
    },
    {
      "cell_type": "code",
      "execution_count": null,
      "id": "776a6dd7",
      "metadata": {
        "id": "776a6dd7"
      },
      "outputs": [],
      "source": [
        "T1 = {(1,0): (2,1), (0,1): (3,4)}\n",
        "polinomio_caracteristico(T1)"
      ]
    },
    {
      "cell_type": "markdown",
      "id": "05d9ba79",
      "metadata": {
        "id": "05d9ba79"
      },
      "source": [
        "Esto nos dice que:\n",
        "$$p(\\lambda) = (\\lambda - 5)(\\lambda - 1).$$"
      ]
    },
    {
      "cell_type": "markdown",
      "id": "370f438e",
      "metadata": {
        "id": "370f438e"
      },
      "source": [
        "**Ejemplo 2.** Calcule el polinomio característico de la transformación lineal $T: \\mathbb{R}^2 \\rightarrow \\mathbb{R}^2$ definida por\n",
        "\n",
        "$$T(x, y) = x(3, 4) + y(2, 1).$$\n",
        "\n",
        "La actuación de $T$ en la base canónica de $\\mathbb{R}^{2}$ es dada por\n",
        "$$T(1, 0) = (3, 4) \\quad \\text{y} \\quad T(0, 1) = (2, 1).$$\n",
        "\n",
        "Con esto ya podemos calcular el polinomio característico de $T$:"
      ]
    },
    {
      "cell_type": "code",
      "execution_count": null,
      "id": "f3abb5d7",
      "metadata": {
        "id": "f3abb5d7"
      },
      "outputs": [],
      "source": [
        "T2 = {(1,0): (3,4), (0,1): (2,1)}\n",
        "polinomio_caracteristico(T2)"
      ]
    },
    {
      "cell_type": "markdown",
      "id": "43659344",
      "metadata": {
        "id": "43659344"
      },
      "source": [
        "Esto nos dice que:\n",
        "$$p(\\lambda) = (\\lambda - 5)(\\lambda + 1).$$"
      ]
    },
    {
      "cell_type": "markdown",
      "id": "ca3c5154",
      "metadata": {
        "id": "ca3c5154"
      },
      "source": [
        "**Ejemplo 3.** Calcule el polinomio característico de la transformación lineal $T: \\mathbb{R}^3 \\rightarrow \\mathbb{R}^3$ que determina una reflexión respecto al plano $YZ$, dada por\n",
        "\n",
        "$$T(1, 0, 0) = (-1, 0, 0), \\quad T(0, 1, 0) = (0, 1, 0) \\text{y} \\quad T(0, 0, 1) = (0, 0, 1):$$"
      ]
    },
    {
      "cell_type": "code",
      "execution_count": null,
      "id": "e9132011",
      "metadata": {
        "id": "e9132011"
      },
      "outputs": [],
      "source": [
        "T3 = {(1,0,0): (-1,0,0), (0,1,0): (0,1,0), (0,0,1): (0,0,1)}\n",
        "polinomio_caracteristico(T3)"
      ]
    },
    {
      "cell_type": "markdown",
      "id": "437e97f9",
      "metadata": {
        "id": "437e97f9"
      },
      "source": [
        "Esto nos dice que:\n",
        "$$p(\\lambda) = -(\\lambda - 1)^2(\\lambda + 1).$$"
      ]
    },
    {
      "cell_type": "markdown",
      "id": "1f3f2139",
      "metadata": {
        "id": "1f3f2139"
      },
      "source": [
        "**Ejemplo 4.** Calcule el polinomio característico de la transformación ortogonal de orden 3 correspondiente a la reflexión respecto al plano $x + y + z = 0$, dada por\n",
        "\n",
        "$$T(1, 0, 0) = (1/3, -2/3, -2/3), \\quad T(0, 1, 0) = (-2/3, 1/3, -2/3) \\quad  \\text{y} \\quad T(0, 0, 1) = (-2/3, -2/3, 1/3):$$"
      ]
    },
    {
      "cell_type": "code",
      "execution_count": null,
      "id": "10315b6c",
      "metadata": {
        "id": "10315b6c"
      },
      "outputs": [],
      "source": [
        "T4 = {(1,0,0): (1/3,-2/3,-2/3), (0,1,0): (-2/3,1/3,-2/3), (0,0,1): (-2/3,-2/3,1/3)}\n",
        "polinomio_caracteristico(T4)"
      ]
    },
    {
      "cell_type": "markdown",
      "id": "d5e0e311",
      "metadata": {
        "id": "d5e0e311"
      },
      "source": [
        "## **Valores propios**"
      ]
    },
    {
      "cell_type": "markdown",
      "id": "972e8604",
      "metadata": {
        "id": "972e8604"
      },
      "source": [
        "Ya que tenemos una función para calcular el polinomio característico de una transformación lineal lo siguiente es buscar una manera de determinar sus raices, es decir, los *valores propios* de la correspondiente transformación lineal. Esto se puede hacer de diferentes maneras mediante funciones que Python, en particular `SymPy`, nos provee. Para nuestros propósitos utilizaremos la función `solve()` de `SymPy` para implementar una función que retorne los valores propios de una transformación lineal."
      ]
    },
    {
      "cell_type": "code",
      "execution_count": null,
      "id": "aea2a0c8",
      "metadata": {
        "id": "aea2a0c8"
      },
      "outputs": [],
      "source": [
        "def valores_propios(transformacion):\n",
        "    return sym.solve(polinomio_caracteristico(transformacion), sym.sympify('X'))"
      ]
    },
    {
      "cell_type": "markdown",
      "id": "6efad439",
      "metadata": {
        "id": "6efad439"
      },
      "source": [
        "**Ejemplo 1.1** Para la transformación lineal $T: \\mathbb{R}^2 \\rightarrow \\mathbb{R}^2$ definida por\n",
        "\n",
        "$$T(x, y) = x(2, 1)+y(3, 4),$$\n",
        "o equivalentemente, por\n",
        "\n",
        "$$T(1, 0) = (2, 1) \\quad \\text{y} \\quad T(0, 1) = (3, 4),$$\n",
        "\n",
        "tenemos que el polinomio característico es\n",
        "$$p(\\lambda) = (\\lambda - 5)(\\lambda - 1).$$\n",
        "\n",
        "Es inmediato que los valores propios, raíces de este polinomio, son\n",
        "\n",
        "$$\\lambda_{1} = 1, \\qquad \\lambda_{2} = 5.$$\n",
        "\n",
        "Lo cual coincide con el resultado de la siguiente celda:"
      ]
    },
    {
      "cell_type": "code",
      "execution_count": null,
      "id": "c1b7ae2c",
      "metadata": {
        "id": "c1b7ae2c"
      },
      "outputs": [],
      "source": [
        "T1 = {(1,0): (2,1), (0,1): (3,4)}\n",
        "valores_propios(T1)"
      ]
    },
    {
      "cell_type": "markdown",
      "id": "839d1a89",
      "metadata": {
        "id": "839d1a89"
      },
      "source": [
        "**Ejemplo 2.1** Para la transformación lineal $T: \\mathbb{R}^2 \\rightarrow \\mathbb{R}^2$ definida por\n",
        "\n",
        "$$T(1, 0) = (3, 4) \\quad \\text{y} \\quad T(0, 1) = (2, 1),$$\n",
        "\n",
        "tenemos que el polinomio característico es\n",
        "$$p(\\lambda) = (\\lambda - 5)(\\lambda + 1).$$\n",
        "\n",
        "Es inmediato que los valores propios de $T$ son\n",
        "\n",
        "$$\\lambda_{1} = -1, \\qquad \\lambda_{2} = 5.$$\n",
        "\n",
        "Lo cual coincide con el resultado de la siguiente celda:"
      ]
    },
    {
      "cell_type": "code",
      "execution_count": null,
      "id": "16395080",
      "metadata": {
        "id": "16395080"
      },
      "outputs": [],
      "source": [
        "T2 = {(1,0): (3,4), (0,1): (2,1)}\n",
        "valores_propios(T2)"
      ]
    },
    {
      "cell_type": "markdown",
      "id": "1582a835",
      "metadata": {
        "id": "1582a835"
      },
      "source": [
        "**Ejemplo 3.1** Para la transformación lineal $T: \\mathbb{R}^3 \\rightarrow \\mathbb{R}^3$ que determina una reflexión respecto al plano $YZ$, dada por\n",
        "\n",
        "$$T(1, 0, 0) = (-1, 0, 0), \\quad T(0, 1, 0) = (0, 1, 0) \\text{y} \\quad T(0, 0, 1) = (0, 0, 1):$$\n",
        "\n",
        "tenemos que el polinomio característico es\n",
        "$$p(\\lambda) = -(\\lambda - 1)^2(\\lambda + 1).$$\n",
        "\n",
        "Es inmediato que los valores propios de $T$ son\n",
        "\n",
        "$$\\lambda_{1} = -1, \\qquad \\lambda_{2} = \\lambda_{3} = 1.$$\n",
        "\n",
        "Lo cual coincide con el resultado de la siguiente celda:"
      ]
    },
    {
      "cell_type": "code",
      "execution_count": null,
      "id": "ad0d6b4e",
      "metadata": {
        "id": "ad0d6b4e"
      },
      "outputs": [],
      "source": [
        "T3 = {(1,0,0): (-1,0,0), (0,1,0): (0,1,0), (0,0,1): (0,0,1)}\n",
        "valores_propios(T3)"
      ]
    },
    {
      "cell_type": "code",
      "execution_count": null,
      "id": "4350ec54",
      "metadata": {
        "id": "4350ec54"
      },
      "outputs": [],
      "source": [
        "# Definir una matriz\n",
        "A = np.array([[4, 1],\n",
        "              [2, 3]])\n",
        "\n",
        "# Calcular los valores propios y los vectores propios\n",
        "eigenvalues, eigenvectors = np.linalg.eig(A)\n",
        "\n",
        "print(\"Valores propios:\", eigenvalues)"
      ]
    },
    {
      "cell_type": "code",
      "execution_count": null,
      "id": "f6e2ff20",
      "metadata": {
        "id": "f6e2ff20"
      },
      "outputs": [],
      "source": [
        "B = np.random.randn(3, 3)\n",
        "# Calcular los valores propios y los vectores propios\n",
        "eigenvalues, eigenvectors = np.linalg.eig(B)\n",
        "\n",
        "print(\"Valores propios:\", eigenvalues)"
      ]
    },
    {
      "cell_type": "code",
      "execution_count": null,
      "id": "827d0604",
      "metadata": {
        "id": "827d0604"
      },
      "outputs": [],
      "source": [
        "C = np.random.normal(3, 0.2, size=(4, 4))\n",
        "# Calcular los valores propios y los vectores propios\n",
        "eigenvalues, eigenvectors = np.linalg.eig(C)\n",
        "\n",
        "print(\"Valores propios:\")\n",
        "print(eigenvalues)"
      ]
    },
    {
      "cell_type": "markdown",
      "id": "5dd8555c",
      "metadata": {
        "id": "5dd8555c"
      },
      "source": [
        "## **Vectores propios**"
      ]
    },
    {
      "cell_type": "markdown",
      "id": "a8419b6a",
      "metadata": {
        "id": "a8419b6a"
      },
      "source": [
        "Finalmente, una vez determinados los valores propios de una transformación lineal lo siguiente es calcular los vectores propios asociados. Para esto recurriremos nuevamente a la función `solve()` de `SymPy`."
      ]
    },
    {
      "cell_type": "code",
      "execution_count": null,
      "id": "94fb2128",
      "metadata": {
        "id": "94fb2128"
      },
      "outputs": [],
      "source": [
        "def vectores_propios(transformacion):\n",
        "    MT = matriz_de(transformacion) # Cálculo de la matriz de 'transformacion'\n",
        "    nn = len(tuple(transformacion.keys())[0]) # Dimensión de R^n\n",
        "    identidad = sym.eye(nn) # Crear la matriz identidad de tamaño n x n\n",
        "    vv = sym.symbols(f'v1:{nn + 1}') # Crear vector 'arbitrario'\n",
        "    vv_vector = sym.Matrix(vv) # Convertir vv a una matriz 'simbólica'\n",
        "    vect_prop = dict() # Un diccionario vacío para guardar los valores propios y los correspondientes vectores propios\n",
        "    val_prop = valores_propios(transformacion)\n",
        "    for X in val_prop: # Para cada valor propio hacer:\n",
        "        MT_menos_XI = MT - sym.sympify(X)*identidad # MT - X*I, en este caso usamos la leta X en vez de \\lambda\n",
        "        MT_menos_XI_vv = MT_menos_XI * vv_vector # Producto de MT - X*I por el vector v, esto es, (MT - X*I)v\n",
        "        vect_prop[f'X = {X}'] = sym.solve(MT_menos_XI_vv, vv) # Resolver el sistema dado por la ecuación (MT - X*I)v = 0\n",
        "    return vect_prop"
      ]
    },
    {
      "cell_type": "markdown",
      "id": "d85af872",
      "metadata": {
        "id": "d85af872"
      },
      "source": [
        "**Ejemplo 1.1.1** Para la transformación lineal $T: \\mathbb{R}^2 \\rightarrow \\mathbb{R}^2$ definida por\n",
        "\n",
        "$$T(1, 0) = (2, 1) \\quad \\text{y} \\quad T(0, 1) = (3, 4),$$\n",
        "\n",
        "tenemos que los valores propios son\n",
        "\n",
        "$$\\lambda_{1} = 1, \\qquad \\lambda_{2} = 5.$$\n",
        "\n",
        "Los respectivos vectores propios están determinados por:"
      ]
    },
    {
      "cell_type": "code",
      "execution_count": null,
      "id": "a7fa29d6",
      "metadata": {
        "id": "a7fa29d6"
      },
      "outputs": [],
      "source": [
        "T1 = {(1,0): (2,1), (0,1): (3,4)}\n",
        "vectores_propios(T1)"
      ]
    },
    {
      "cell_type": "markdown",
      "id": "0918b796",
      "metadata": {
        "id": "0918b796"
      },
      "source": [
        "Lo que nos dice que:\n",
        "> Para $\\lambda_{1} = 1$ se tiene la familia de vectores propios\n",
        "    $$v = (-3v_2, v_2) = (v_1,-\\tfrac{1}{3}v_1).$$\n",
        "\n",
        "> Para $\\lambda_{1} = 5$ se tiene la familia de vectores propios\n",
        "    $$v = (v_1,v_1).$$"
      ]
    },
    {
      "cell_type": "markdown",
      "id": "cd29351e",
      "metadata": {
        "id": "cd29351e"
      },
      "source": [
        "**Ejemplo 2.1.1** Para la transformación lineal $T: \\mathbb{R}^2 \\rightarrow \\mathbb{R}^2$ definida por\n",
        "\n",
        "$$T(1, 0) = (3, 4) \\quad \\text{y} \\quad T(0, 1) = (2, 1),$$\n",
        "\n",
        "tenemos que los valores propios son\n",
        "\n",
        "$$\\lambda_{1} = -1, \\qquad \\lambda_{2} = 5.$$\n",
        "\n",
        "Los respectivos vectores propios están determinados por:"
      ]
    },
    {
      "cell_type": "code",
      "execution_count": null,
      "id": "9b21776d",
      "metadata": {
        "id": "9b21776d"
      },
      "outputs": [],
      "source": [
        "T2 = {(1,0): (3,4), (0,1): (2,1)}\n",
        "vectores_propios(T2)"
      ]
    },
    {
      "cell_type": "markdown",
      "id": "547c7879",
      "metadata": {
        "id": "547c7879"
      },
      "source": [
        "Lo que nos dice que:\n",
        "> Para $\\lambda_{1} = -1$ se tiene la familia de vectores propios\n",
        "    $$v = (-\\tfrac{1}{2}v_2, v_2) = (v_1,-2v_1).$$\n",
        "\n",
        "> Para $\\lambda_{1} = 5$ se tiene la familia de vectores propios\n",
        "    $$v = (v_1,v_1).$$"
      ]
    },
    {
      "cell_type": "markdown",
      "id": "bc1d6a08",
      "metadata": {
        "id": "bc1d6a08"
      },
      "source": [
        "**Ejemplo 3.1.1** Para la transformación lineal $T: \\mathbb{R}^2 \\rightarrow \\mathbb{R}^2$ definida por\n",
        "\n",
        "$$T(1, 0, 0) = (-1, 0, 0), \\quad T(0, 1, 0) = (0, 1, 0) \\text{y} \\quad T(0, 0, 1) = (0, 0, 1):$$\n",
        "\n",
        "tenemos que los valores propios son\n",
        "\n",
        "$$\\lambda_{1} = -1, \\qquad \\lambda_{2} = \\lambda_{3} = 1.$$\n",
        "\n",
        "Los respectivos vectores propios están determinados por:"
      ]
    },
    {
      "cell_type": "code",
      "execution_count": null,
      "id": "db8b1034",
      "metadata": {
        "id": "db8b1034"
      },
      "outputs": [],
      "source": [
        "T3 = {(1,0,0): (-1,0,0), (0,1,0): (0,1,0), (0,0,1): (0,0,1)}\n",
        "vectores_propios(T3)"
      ]
    },
    {
      "cell_type": "markdown",
      "id": "415af8e5",
      "metadata": {
        "id": "415af8e5"
      },
      "source": [
        "Lo que nos dice que:\n",
        "> Para $\\lambda_{1} = -1$ se tiene la familia de vectores propios\n",
        "    $$v = (v_1,0,0).$$\n",
        "\n",
        "> Para $\\lambda_{1} = 5$ se tiene la familia de vectores propios\n",
        "    $$v = (0,v_2,v_3).$$"
      ]
    },
    {
      "cell_type": "code",
      "execution_count": null,
      "id": "7f8aa743",
      "metadata": {
        "id": "7f8aa743"
      },
      "outputs": [],
      "source": [
        "A = np.array([[4, 1],\n",
        "              [2, 3]])\n",
        "\n",
        "# Calcular los valores propios y los vectores propios\n",
        "eigenvalues, eigenvectors = np.linalg.eig(A)\n",
        "\n",
        "print(\"Valores propios:\")\n",
        "print(eigenvalues)\n",
        "print(\" \")\n",
        "print(\"Vectores propios: \")\n",
        "print(eigenvectors)"
      ]
    },
    {
      "cell_type": "code",
      "execution_count": null,
      "id": "9a50e33f",
      "metadata": {
        "id": "9a50e33f"
      },
      "outputs": [],
      "source": [
        "B = np.random.uniform(low=0, high=14, size=(5, 5))\n",
        "B = (B+B.T)/2\n",
        "\n",
        "# Calcular los valores propios y los vectores propios\n",
        "eigenvalues, eigenvectors = np.linalg.eig(B)\n",
        "\n",
        "print(\"Valores propios:\")\n",
        "print(eigenvalues)\n",
        "print(\" \")\n",
        "print(\"Vectores propios: \")\n",
        "print(eigenvectors)"
      ]
    },
    {
      "cell_type": "code",
      "execution_count": null,
      "id": "89735271",
      "metadata": {
        "id": "89735271"
      },
      "outputs": [],
      "source": [
        "C = np.random.normal(3, 0.2, size=(6, 6))\n",
        "C = (C+C.T)/2\n",
        "\n",
        "# Calcular los valores propios y los vectores propios\n",
        "eigenvalues, eigenvectors = np.linalg.eig(C)\n",
        "\n",
        "print(\"Valores propios:\")\n",
        "print(eigenvalues)\n",
        "print(\" \")\n",
        "print(\"Vectores propios: \")\n",
        "print(eigenvectors)"
      ]
    },
    {
      "cell_type": "markdown",
      "id": "5d9e6227",
      "metadata": {
        "id": "5d9e6227"
      },
      "source": [
        "### **APLICACIÓN CON DATOS FINANCIEROS**"
      ]
    },
    {
      "cell_type": "code",
      "execution_count": null,
      "id": "d9f98956",
      "metadata": {
        "id": "d9f98956"
      },
      "outputs": [],
      "source": [
        "import yfinance as yf\n",
        "import numpy as np\n",
        "import pandas as pd\n",
        "import matplotlib.pyplot as plt\n",
        "from sklearn.decomposition import PCA"
      ]
    },
    {
      "cell_type": "code",
      "execution_count": null,
      "id": "38835f5e",
      "metadata": {
        "id": "38835f5e"
      },
      "outputs": [],
      "source": [
        "# Definir los tickers de 20 activos\n",
        "tickers = [\n",
        "    'AAPL', 'GOOG', 'AMZN', 'MSFT', 'TSLA', 'META', 'NVDA', 'SPY', 'IBM', 'CSCO',\n",
        "    'NFLX', 'AMD', 'WMT', 'BA', 'DIS', 'PYPL', 'V', 'GS', 'KO', 'PEP'\n",
        "]\n",
        "\n",
        "# Descargar los datos de Yahoo Finance\n",
        "datos = yf.download(tickers, start='2015-01-01', end='2025-07-31')['Close']\n",
        "datos"
      ]
    },
    {
      "cell_type": "code",
      "execution_count": null,
      "id": "b185d4c7",
      "metadata": {
        "id": "b185d4c7"
      },
      "outputs": [],
      "source": [
        "# Graficar los datos de las 20 acciones\n",
        "plt.figure(figsize=(14, 7))\n",
        "for ticker in tickers:\n",
        "    plt.plot(datos.index, datos[ticker], label=ticker)\n",
        "\n",
        "plt.title('Precios Ajustados de Cierre de 20 Acciones (2017-2023)')\n",
        "plt.xlabel('Fecha')\n",
        "plt.ylabel('Precio Ajustado de Cierre')\n",
        "plt.legend(loc='upper left', bbox_to_anchor=(1, 1), ncol=1)\n",
        "plt.grid(False)\n",
        "plt.tight_layout()\n",
        "plt.show()"
      ]
    },
    {
      "cell_type": "code",
      "execution_count": null,
      "id": "7fa9f745",
      "metadata": {
        "id": "7fa9f745"
      },
      "outputs": [],
      "source": [
        "# Calcular los rendimientos diarios de cada activo\n",
        "rendimientos = datos.pct_change().dropna()\n",
        "rendimientos"
      ]
    },
    {
      "cell_type": "code",
      "execution_count": null,
      "id": "f319fcd8",
      "metadata": {
        "id": "f319fcd8"
      },
      "outputs": [],
      "source": [
        "# Graficar los rendimientos diarios de cada activo\n",
        "plt.figure(figsize=(14, 7))\n",
        "for ticker in tickers:\n",
        "    plt.plot(rendimientos.index, rendimientos[ticker], label=ticker)\n",
        "\n",
        "plt.title('Rendimientos Diarios de 20 Acciones (2017-2023)')\n",
        "plt.xlabel('Fecha')\n",
        "plt.ylabel('Rendimiento Diario')\n",
        "plt.legend(loc='upper left', bbox_to_anchor=(1, 1), ncol=1)\n",
        "plt.grid(False)\n",
        "plt.tight_layout()\n",
        "plt.show()"
      ]
    },
    {
      "cell_type": "code",
      "execution_count": null,
      "id": "99f0c66c",
      "metadata": {
        "id": "99f0c66c"
      },
      "outputs": [],
      "source": [
        "# Paso 1: Calcular la matriz de correlación\n",
        "matriz_correlacion = rendimientos.corr()\n",
        "matriz_correlacion"
      ]
    },
    {
      "cell_type": "code",
      "execution_count": null,
      "id": "513ea3ce",
      "metadata": {
        "id": "513ea3ce"
      },
      "outputs": [],
      "source": [
        "# Crear el heatmap\n",
        "plt.figure(figsize=(12, 8))\n",
        "cax = plt.imshow(matriz_correlacion, cmap='coolwarm', interpolation='nearest')\n",
        "plt.xticks(np.arange(len(tickers)), tickers, rotation=90)\n",
        "plt.yticks(np.arange(len(tickers)), tickers)\n",
        "plt.colorbar(cax)\n",
        "\n",
        "for i in range(len(tickers)):\n",
        "    for j in range(len(tickers)):\n",
        "        plt.text(j, i, f'{matriz_correlacion.iloc[i, j]:.2f}', ha='center', va='center', color='black', fontsize=10)\n",
        "\n",
        "plt.title('Matriz de Correlación de Rendimientos Diarios (2017-2023)', fontsize=16)\n",
        "plt.tight_layout()\n",
        "plt.grid(False)\n",
        "plt.show()"
      ]
    },
    {
      "cell_type": "code",
      "execution_count": null,
      "id": "0a9c9c6c",
      "metadata": {
        "id": "0a9c9c6c"
      },
      "outputs": [],
      "source": [
        "# Paso 2: Aplicar PCA (Análisis de Componentes Principales)\n",
        "pca = PCA()\n",
        "pca.fit(matriz_correlacion)"
      ]
    },
    {
      "cell_type": "code",
      "execution_count": null,
      "id": "29110c22",
      "metadata": {
        "id": "29110c22"
      },
      "outputs": [],
      "source": [
        "# Paso 3: Obtener los valores propios (varianza explicada) y los vectores propios\n",
        "valores_propios = pca.explained_variance_\n",
        "vectores_propios = pca.components_"
      ]
    },
    {
      "cell_type": "code",
      "execution_count": null,
      "id": "8d68cc3f",
      "metadata": {
        "id": "8d68cc3f"
      },
      "outputs": [],
      "source": [
        "# Paso 4: Visualizar la varianza explicada por cada componente\n",
        "plt.figure(figsize=(10, 6))\n",
        "plt.bar(range(1, len(valores_propios) + 1), valores_propios, alpha=0.7, align='center', label='Varianza Explicada')\n",
        "plt.ylabel('Varianza Explicada')\n",
        "plt.xlabel('Componentes Principales')\n",
        "plt.title('Varianza Explicada por cada Componente Principal (PCA)')\n",
        "plt.show()"
      ]
    },
    {
      "cell_type": "code",
      "execution_count": null,
      "id": "05b26473",
      "metadata": {
        "id": "05b26473"
      },
      "outputs": [],
      "source": [
        "# Paso 5: Imprimir los resultados\n",
        "print(\"Valores propios (varianza explicada por cada componente):\")\n",
        "print(valores_propios)"
      ]
    },
    {
      "cell_type": "code",
      "execution_count": null,
      "id": "bc681d26",
      "metadata": {
        "id": "bc681d26"
      },
      "outputs": [],
      "source": [
        "print(\"\\nVectores propios (combinaciones lineales de activos):\")\n",
        "print(vectores_propios)"
      ]
    },
    {
      "cell_type": "code",
      "execution_count": null,
      "id": "e0d0ab4a",
      "metadata": {
        "id": "e0d0ab4a"
      },
      "outputs": [],
      "source": [
        "# Paso 6: Mostrar los 5 primeros activos con mayor peso en el primer componente principal\n",
        "# Esto es útil para entender qué activos están dominando el riesgo de la cartera\n",
        "primer_componente = vectores_propios[0]\n",
        "activos_primer_componente = pd.DataFrame({'Activo': tickers, 'Peso en Componente 1': primer_componente})\n",
        "activos_primer_componente = activos_primer_componente.sort_values(by='Peso en Componente 1', ascending=False)\n",
        "print(\"\\nActivos más relevantes en el primer componente principal:\")\n",
        "print(activos_primer_componente.head())"
      ]
    },
    {
      "cell_type": "code",
      "execution_count": null,
      "id": "58c07ea6",
      "metadata": {
        "id": "58c07ea6"
      },
      "outputs": [],
      "source": [
        "# Mostrar los 5 primeros activos con mayor peso en el segundo componente principal\n",
        "segundo_componente = vectores_propios[1]\n",
        "activos_segundo_componente = pd.DataFrame({'Activo': tickers, 'Peso en Componente 2': segundo_componente})\n",
        "activos_segundo_componente = activos_segundo_componente.sort_values(by='Peso en Componente 2', ascending=False)\n",
        "print(\"\\nActivos más relevantes en el segundo componente principal:\")\n",
        "print(activos_segundo_componente.head())"
      ]
    },
    {
      "cell_type": "code",
      "execution_count": null,
      "id": "e69e1621",
      "metadata": {
        "id": "e69e1621"
      },
      "outputs": [],
      "source": [
        "# Mostrar los 5 primeros activos con mayor peso en el tercer componente principal\n",
        "tercer_componente = vectores_propios[2]\n",
        "activos_tercer_componente = pd.DataFrame({'Activo': tickers, 'Peso en Componente 3': tercer_componente})\n",
        "activos_tercer_componente = activos_tercer_componente.sort_values(by='Peso en Componente 3', ascending=False)\n",
        "print(\"\\nActivos más relevantes en el tercer componente principal:\")\n",
        "print(activos_tercer_componente.head())"
      ]
    },
    {
      "cell_type": "markdown",
      "id": "b04ba2bb",
      "metadata": {
        "id": "b04ba2bb"
      },
      "source": [
        "# **SECCIÓN 5: FACTORIZACIÓN DE MATRICES**"
      ]
    },
    {
      "cell_type": "markdown",
      "id": "cf7271a9",
      "metadata": {
        "id": "cf7271a9"
      },
      "source": [
        "## **Factorización LU**"
      ]
    },
    {
      "cell_type": "markdown",
      "id": "63969f85",
      "metadata": {
        "id": "63969f85"
      },
      "source": [
        "La factorización LU descompone una matriz cuadrada \\( A \\) en el producto de dos matrices, \\( L \\) y \\( U \\), donde:\n",
        "$$A= L \\cdot U$$\n",
        "- \\( L \\) es una matriz triangular inferior con unos en su diagonal principal.\n",
        "- \\( U \\) es una matriz triangular superior.\n",
        "\n",
        "**Procedimiento**\n",
        "1. Se realiza la descomposición de \\( A \\) en dos matrices: \\( L \\) (triangular inferior) y \\( U \\) (triangular superior), de manera que, al multiplicarlas, se obtenga la matriz original.\n",
        "2. La matriz \\( L \\) tiene valores en su diagonal principal iguales a 1.\n",
        "3. La matriz \\( U \\) tiene todos los valores debajo de la diagonal principal iguales a 0.\n",
        "\n",
        "La factorización LU se usa principalmente para resolver sistemas de ecuaciones lineales de la forma \\( A \\cdot x = b \\). Si se conoce la factorización \\( A = L \\cdot U \\), el sistema puede resolverse en dos pasos:\n",
        "- Resuelve $L \\cdot y = b$ para \\( y \\) mediante sustitución hacia adelante.\n",
        "- Luego resuelve $U \\cdot x = y $ para \\( x \\) mediante sustitución hacia atrás."
      ]
    },
    {
      "cell_type": "code",
      "execution_count": null,
      "id": "858c39bc",
      "metadata": {
        "id": "858c39bc"
      },
      "outputs": [],
      "source": [
        "# Creación de la matroz A\n",
        "np.random.seed(124)\n",
        "A = np.random.normal(5,2, size=(5, 5))\n",
        "print(A)"
      ]
    },
    {
      "cell_type": "code",
      "execution_count": null,
      "id": "1c3a4aa2",
      "metadata": {
        "id": "1c3a4aa2"
      },
      "outputs": [],
      "source": [
        "import scipy.linalg as la\n",
        "\n",
        "#Factorización LU\n",
        "P, L, U = la.lu(A)"
      ]
    },
    {
      "cell_type": "code",
      "execution_count": null,
      "id": "2de40ed8",
      "metadata": {
        "id": "2de40ed8"
      },
      "outputs": [],
      "source": [
        "# Matriz triangular inferior\n",
        "L"
      ]
    },
    {
      "cell_type": "code",
      "execution_count": null,
      "id": "8b7fb1ec",
      "metadata": {
        "id": "8b7fb1ec"
      },
      "outputs": [],
      "source": [
        "# Matriz triangular superior\n",
        "U"
      ]
    },
    {
      "cell_type": "code",
      "execution_count": null,
      "id": "12fe42cd",
      "metadata": {
        "id": "12fe42cd"
      },
      "outputs": [],
      "source": [
        "# A = LU\n",
        "L @ U"
      ]
    },
    {
      "cell_type": "markdown",
      "id": "a0db3f44",
      "metadata": {
        "id": "a0db3f44"
      },
      "source": [
        "### **APLICACIÓN**"
      ]
    },
    {
      "cell_type": "markdown",
      "id": "da468609",
      "metadata": {
        "id": "da468609"
      },
      "source": [
        "Hallar la solución del siguiente sistema:\n",
        "$$\\begin{pmatrix}1&\\frac{2}{5}&\\frac{1}{7}&log\\left(\\frac{3}{11}\\right)&\\frac{17}{16}&\\frac{1}{7}\\\\ \\frac{2}{3}&\\frac{4}{5}&\\frac{7}{11}&\\frac{3}{22}&\\sqrt{11}&2\\\\ 0&3&1&4&\\frac{4}{9}&\\frac{11}{12}\\\\ \\frac{3}{11}&\\frac{4}{19}&\\frac{7}{19}&\\frac{4}{89}&\\frac{19}{173}&\\sqrt{91}\\\\ \\frac{3}{\\sqrt{41}}&\\frac{7}{11}&log\\left(\\frac{1}{11}\\right)&5&6&7\\\\ 3&4&7&\\frac{1}{17}&4&\\frac{1}{7}\\end{pmatrix}\\begin{pmatrix}x\\\\ y\\\\ z\\\\ w\\\\ a\\\\ b\\end{pmatrix}=\\begin{pmatrix}\\frac{8}{9}\\\\ \\frac{7}{13}\\\\ \\sqrt{\\frac{23}{21}}\\\\ \\sqrt{3}\\\\ \\frac{18}{111}\\\\ \\frac{4}{3}\\end{pmatrix}$$"
      ]
    },
    {
      "cell_type": "code",
      "execution_count": null,
      "id": "faee18ed",
      "metadata": {
        "id": "faee18ed"
      },
      "outputs": [],
      "source": [
        "import numpy as np\n",
        "import scipy.linalg as la\n",
        "\n",
        "# Definir la matriz A y el vector b\n",
        "A = np.array([[1, 2/5, 1/7, np.log(3/11), 17/16, 1/7],\n",
        "              [2/3, 4/5, 7/11, 3/22, np.sqrt(11), 2],\n",
        "              [0, 3, 1, 4, 4/9, 11/12],\n",
        "              [3/11, 4/19, 7/19, 4/89, 19/173, np.sqrt(91)],\n",
        "              [3/np.sqrt(41), 7/11, np.log(1/11), 5, 6, 7],\n",
        "              [3, 4, 7, 1/17, 4, 1/7]])\n",
        "\n",
        "b = np.array([8/9, 7/13, np.sqrt(23/21), np.sqrt(3), 18/111, 4/3])\n",
        "\n",
        "# Método de descomposición LU usando SciPy\n",
        "P, L, U = la.lu(A)\n",
        "y = np.linalg.solve(L, np.dot(P.T, b))  # Resolución para y\n",
        "x_LU = np.linalg.solve(U, y)  # Resolución para x\n",
        "\n",
        "# Método de la inversa de la matriz\n",
        "A_inv = np.linalg.inv(A)\n",
        "x_inversa = np.dot(A_inv, b)\n",
        "\n",
        "# Comprobación de las soluciones\n",
        "comprobacion_LU = np.dot(A, x_LU)\n",
        "comprobacion_inversa = np.dot(A, x_inversa)\n",
        "\n",
        "# Imprimir las soluciones y comparaciones\n",
        "print(\"\\nSolución usando LU:\")\n",
        "print(f\"x = {x_LU[0]}, y = {x_LU[1]}, z = {x_LU[2]}, w = {x_LU[3]}, a = {x_LU[4]}, b = {x_LU[5]}\")\n",
        "\n",
        "print(\"\\nSolución usando la inversa de la matriz:\")\n",
        "print(f\"x = {x_inversa[0]}, y = {x_inversa[1]}, z = {x_inversa[2]}, w = {x_inversa[3]}, a = {x_inversa[4]}, b = {x_inversa[5]}\")\n",
        "\n",
        "print(\"\\nComprobación con LU:\", comprobacion_LU)\n",
        "print(\"Comprobación con Inversa:\", comprobacion_inversa)"
      ]
    },
    {
      "cell_type": "markdown",
      "id": "5dcf8d5b",
      "metadata": {
        "id": "5dcf8d5b"
      },
      "source": [
        "## **Factorización QR**"
      ]
    },
    {
      "cell_type": "markdown",
      "id": "f4b129cf",
      "metadata": {
        "id": "f4b129cf"
      },
      "source": [
        "La descomposición o factorización QR consiste en la descomposición de una matriz como producto de una matriz ortogonal ($Q^T \\cdot Q = I$) por una matriz triangular superior. la factorización QR es ampliamente utilizada en las finanzas cuantitativas como base para la solución del problema de los mínimos cuadrados lineales, que a su vez se utiliza para el análisis de regresión estadística.\n",
        "\n",
        "La factorización QR descompone una matriz \\( A \\) en el producto de una matriz ortogonal \\( Q \\) y una matriz triangular superior \\( R \\). Es decir, se tiene que:\n",
        "$$A = QR$$\n",
        "- \\( A \\) es una matriz de tamaño $ m \\times n$,\n",
        "- \\( Q \\) es una matriz ortogonal o unitaria de tamaño $ m \\times m$, tal que $Q^T Q = I$ (donde \\( I \\) es la matriz identidad),\n",
        "- \\( R \\) es una matriz triangular superior de tamaño $ m \\times n$, es decir, tiene ceros debajo de la diagonal principal.\n",
        "\n",
        "La factorización QR se utiliza principalmente para resolver sistemas de ecuaciones lineales de la forma $Ax = b$. Tras realizar la factorización QR, el sistema se transforma en:\n",
        "$$Ax = b \\quad \\text{se convierte en} \\quad QRx = b$$\n",
        "\n",
        "Multiplicando ambos lados por $Q^T$, se obtiene:\n",
        "$$Rx = Q^T b$$\n",
        "Dado que R es triangular superior, este sistema es fácil de resolver mediante sustitución hacia atrás."
      ]
    },
    {
      "cell_type": "code",
      "execution_count": null,
      "id": "523f4509",
      "metadata": {
        "id": "523f4509"
      },
      "outputs": [],
      "source": [
        "# Ejemplo factorización QR\n",
        "Q, R = la.qr(A)"
      ]
    },
    {
      "cell_type": "code",
      "execution_count": null,
      "id": "64195b95",
      "metadata": {
        "id": "64195b95"
      },
      "outputs": [],
      "source": [
        "# Matriz A\n",
        "A"
      ]
    },
    {
      "cell_type": "code",
      "execution_count": null,
      "id": "e6cf45b8",
      "metadata": {
        "id": "e6cf45b8"
      },
      "outputs": [],
      "source": [
        "# Matriz ortogonal Q\n",
        "Q"
      ]
    },
    {
      "cell_type": "code",
      "execution_count": null,
      "id": "c5087942",
      "metadata": {
        "id": "c5087942"
      },
      "outputs": [],
      "source": [
        "# Matriz triangular superior R\n",
        "R"
      ]
    },
    {
      "cell_type": "code",
      "execution_count": null,
      "id": "ba0ff492",
      "metadata": {
        "scrolled": true,
        "id": "ba0ff492"
      },
      "outputs": [],
      "source": [
        "# A = QR\n",
        "Q @ R"
      ]
    },
    {
      "cell_type": "markdown",
      "id": "9821e56f",
      "metadata": {
        "id": "9821e56f"
      },
      "source": [
        "### **APLICACIÓN**"
      ]
    },
    {
      "cell_type": "markdown",
      "id": "7d6326af",
      "metadata": {
        "id": "7d6326af"
      },
      "source": [
        "Hallar la solución del siguiente sistema:\n",
        "$$\\begin{pmatrix}1&\\frac{2}{5}&\\frac{1}{7}&log\\left(\\frac{3}{11}\\right)&\\frac{17}{16}&\\frac{1}{7}\\\\ \\frac{2}{3}&\\frac{4}{5}&\\frac{7}{11}&\\frac{3}{22}&\\sqrt{11}&2\\\\ 0&3&1&4&\\frac{4}{9}&\\frac{11}{12}\\\\ \\frac{3}{11}&\\frac{4}{19}&\\frac{7}{19}&\\frac{4}{89}&\\frac{19}{173}&\\sqrt{91}\\\\ \\frac{3}{\\sqrt{41}}&\\frac{7}{11}&log\\left(\\frac{1}{11}\\right)&5&6&7\\\\ 3&4&7&\\frac{1}{17}&4&\\frac{1}{7}\\end{pmatrix}\\begin{pmatrix}x\\\\ y\\\\ z\\\\ w\\\\ a\\\\ b\\end{pmatrix}=\\begin{pmatrix}\\frac{8}{9}\\\\ \\frac{7}{13}\\\\ \\sqrt{\\frac{23}{21}}\\\\ \\sqrt{3}\\\\ \\frac{18}{111}\\\\ \\frac{4}{3}\\end{pmatrix}$$"
      ]
    },
    {
      "cell_type": "code",
      "execution_count": null,
      "id": "b29f591c",
      "metadata": {
        "id": "b29f591c"
      },
      "outputs": [],
      "source": [
        "import numpy as np\n",
        "import scipy.linalg as la\n",
        "\n",
        "# Definir la matriz A y el vector b\n",
        "A = np.array([[1, 2/5, 1/7, np.log(3/11), 17/16, 1/7],\n",
        "              [2/3, 4/5, 7/11, 3/22, np.sqrt(11), 2],\n",
        "              [0, 3, 1, 4, 4/9, 11/12],\n",
        "              [3/11, 4/19, 7/19, 4/89, 19/173, np.sqrt(91)],\n",
        "              [3/np.sqrt(41), 7/11, np.log(1/11), 5, 6, 7],\n",
        "              [3, 4, 7, 1/17, 4, 1/7]])\n",
        "\n",
        "b = np.array([8/9, 7/13, np.sqrt(23/21), np.sqrt(3), 18/111, 4/3])\n",
        "\n",
        "# Método de descomposición QR usando SciPy\n",
        "Q, R = la.qr(A)\n",
        "\n",
        "# Resolver el sistema Rx = Q^T b\n",
        "Q_T_b = np.dot(Q.T, b)\n",
        "x_QR = np.linalg.solve(R, Q_T_b)\n",
        "\n",
        "# Comprobación de la solución\n",
        "comprobacion_QR = np.dot(A, x_QR)\n",
        "\n",
        "# Imprimir la solución y la comprobación\n",
        "print(\"\\nSolución usando el método QR:\")\n",
        "print(f\"x = {x_QR[0]}, y = {x_QR[1]}, z = {x_QR[2]}, w = {x_QR[3]}, a = {x_QR[4]}, b = {x_QR[5]}\")\n",
        "\n",
        "print(\"\\nComprobación con QR:\", comprobacion_QR)"
      ]
    },
    {
      "cell_type": "markdown",
      "id": "f9db3ae9",
      "metadata": {
        "id": "f9db3ae9"
      },
      "source": [
        "## **Descomposición en Valores Singulares (SVD)**"
      ]
    },
    {
      "cell_type": "markdown",
      "id": "a9e81daf",
      "metadata": {
        "id": "a9e81daf"
      },
      "source": [
        "La Descomposición en Valores Singulares (SVD) es una técnica matemática que descompone una matriz en tres matrices más simples. Es muy útil en muchas áreas de las matemáticas y la computación, como el análisis de datos, la compresión de imágenes, la reducción de dimensionalidad, y la resolución de sistemas de ecuaciones.\n",
        "\n",
        "$$A=U \\Sigma V^T$$\n",
        "\n",
        "El SVD y el PCA son herramientas ampliamente utilizadas, por ejemplo, en el análisis de imágenes médicas para la reducción de dimensionalidad, la construcción de modelos, y la comprensión y exploración de datos. Tienen aplicaciones en prácticamente todas las áreas de la ciencia, machine learning, procesamiento de imágenes, ingeniería, genética, computación cognitiva, química, meteorología, y redes neuronales, sólo por nombrar algunas; en dónde nos encontramos con grandes conjuntos de datos. El propósito del análisis de componentes principales PCA es derivar un número relativamente pequeño de combinaciones lineales no correlacionadas (componentes principales) de una conjunto de variables aleatorias de media cero mientras que conserva la mayor cantidad de información de las variables originales como sea posible. Entre los objetivos del PCA podemos encontrar los siguientes:\n",
        "- Reducción de dimensionalidad.\n",
        "- Determinación de combinaciones lineales de variables.\n",
        "- Selección de características o features: la elección de las variables más útiles.\n",
        "- Visualización de datos multidimensionales.\n",
        "- Identificación de las variables subyacentes.\n",
        "- Identificación grupos de objetos o de valores atípicos."
      ]
    },
    {
      "cell_type": "code",
      "execution_count": null,
      "id": "19edb9dc",
      "metadata": {
        "id": "19edb9dc"
      },
      "outputs": [],
      "source": [
        "import numpy as np\n",
        "\n",
        "# Crear una matriz de 7x7 con números aleatorios\n",
        "A = np.random.rand(7, 7)\n",
        "\n",
        "# Realizar la descomposición SVD\n",
        "U, Sigma, Vt = np.linalg.svd(A)\n",
        "\n",
        "# Mostrar los resultados\n",
        "print(\"Matriz A (Original):\")\n",
        "print(A)\n",
        "\n",
        "print(\"\\nMatriz U (Vectores singulares izquierdos):\")\n",
        "print(U)\n",
        "\n",
        "print(\"\\nValores singulares (Sigma):\")\n",
        "print(Sigma)\n",
        "\n",
        "print(\"\\nMatriz V^T (Vectores singulares derechos):\")\n",
        "print(Vt)"
      ]
    },
    {
      "cell_type": "code",
      "execution_count": null,
      "id": "31497c9c",
      "metadata": {
        "id": "31497c9c"
      },
      "outputs": [],
      "source": [
        "# Convertir Sigma en una matriz diagonal\n",
        "Sigma_matrix = np.diag(Sigma)\n",
        "\n",
        "# Reconstruir la matriz A a partir de la descomposición\n",
        "A_reconstruida = np.dot(U, np.dot(Sigma_matrix, Vt))\n",
        "\n",
        "print(\"\\nMatriz A reconstruida a partir de SVD:\")\n",
        "print(A_reconstruida)\n",
        "\n",
        "# Verificar si la reconstrucción es igual a la matriz original\n",
        "print(\"\\n¿La matriz reconstruida es igual a la matriz original?\")\n",
        "print(np.allclose(A, A_reconstruida))"
      ]
    },
    {
      "cell_type": "markdown",
      "id": "e62ce7e7",
      "metadata": {
        "id": "e62ce7e7"
      },
      "source": [
        "### **APLICACIÓN**"
      ]
    },
    {
      "cell_type": "markdown",
      "id": "0f2bd2e0",
      "metadata": {
        "id": "0f2bd2e0"
      },
      "source": [
        "Para aplicar la descomposición en valores singulares (SVD) a un portafolio de inversiones con 15 activos, podemos usar la misma idea de análisis de componentes principales (PCA), pero en este caso, cada \"serie de tiempo\" corresponderá a los rendimientos de los activos financieros (acciones, bonos, etc.) durante un periodo determinado. SVD nos ayudará a analizar cómo se relacionan los rendimientos de los activos y a reducir la dimensionalidad de los datos para extraer los patrones subyacentes.\n",
        "\n",
        "Se extraerá datos históricos de 15 activos de Yahoo Finance, calculamos sus rendimientos y luego aplicamos SVD para reducir la dimensionalidad de los datos y analizar las principales fuentes de variabilidad en el portafolio."
      ]
    },
    {
      "cell_type": "code",
      "execution_count": null,
      "id": "bf63fca1",
      "metadata": {
        "id": "bf63fca1"
      },
      "outputs": [],
      "source": [
        "import yfinance as yf\n",
        "import numpy as np\n",
        "import matplotlib.pyplot as plt\n",
        "\n",
        "# Definir los símbolos de los 15 activos (puedes elegir otros si lo prefieres)\n",
        "activos = ['AAPL', 'GOOG', 'MSFT', 'AMZN', 'TSLA', 'META', 'NVDA', 'SPY', 'BRK-B', 'BABA', 'INTC', 'V', 'NFLX', 'WMT', 'DIS']\n",
        "\n",
        "# Descargar los datos históricos de los precios de cierre ajustados\n",
        "datos = yf.download(activos, start='2020-01-01', end='2025-07-31')['Close']\n",
        "datos"
      ]
    },
    {
      "cell_type": "code",
      "execution_count": null,
      "id": "b6aa0b4f",
      "metadata": {
        "id": "b6aa0b4f"
      },
      "outputs": [],
      "source": [
        "# Calcular los rendimientos diarios (logaritmos de las variaciones de los precios)\n",
        "rendimientos = np.log(datos / datos.shift(1)).dropna()\n",
        "rendimientos"
      ]
    },
    {
      "cell_type": "code",
      "execution_count": null,
      "id": "42ac60af",
      "metadata": {
        "id": "42ac60af"
      },
      "outputs": [],
      "source": [
        "# Realizar la descomposición SVD\n",
        "U, Sigma, Vt = np.linalg.svd(rendimientos, full_matrices=False)\n",
        "\n",
        "# Calcular la varianza explicada por cada componente\n",
        "explained_variance = (Sigma**2) / np.sum(Sigma**2)\n",
        "\n",
        "# Visualización de los resultados\n",
        "plt.figure(figsize=(12, 8))\n",
        "plt.subplot(2, 2, 1)\n",
        "plt.plot(U[:, 0], label='Componente 1')\n",
        "plt.plot(U[:, 1], label='Componente 2')\n",
        "plt.plot(U[:, 2], label='Componente 3')\n",
        "plt.title('Primeras 3 Componentes Principales')\n",
        "plt.legend()"
      ]
    },
    {
      "cell_type": "code",
      "execution_count": null,
      "id": "55a27452",
      "metadata": {
        "id": "55a27452"
      },
      "outputs": [],
      "source": [
        "# Gráficamos la varianza explicada por cada componente\n",
        "plt.bar(range(1, len(explained_variance)+1), explained_variance)\n",
        "plt.title('Varianza Explicada por Componente')\n",
        "plt.xlabel('Componente')\n",
        "plt.ylabel('Varianza Explicada')"
      ]
    },
    {
      "cell_type": "code",
      "execution_count": null,
      "id": "ffa0bfdb",
      "metadata": {
        "id": "ffa0bfdb"
      },
      "outputs": [],
      "source": [
        "# Ver la varianza explicada por cada componente\n",
        "explained_variance = (Sigma**2) / np.sum(Sigma**2)\n",
        "print(\"\\nVarianza explicada por cada componente:\")\n",
        "for i, var in enumerate(explained_variance):\n",
        "    print(f\"Componente {i+1}: {var:.4f}\")\n"
      ]
    },
    {
      "cell_type": "code",
      "execution_count": null,
      "id": "a47ee578",
      "metadata": {
        "id": "a47ee578"
      },
      "outputs": [],
      "source": [
        "# Proyección de los rendimientos originales en los primeros 2 componentes principales\n",
        "rendimientos_reducidos = np.dot(U[:, :2], np.diag(Sigma[:2]))\n",
        "plt.plot(rendimientos_reducidos)\n",
        "plt.title('Proyección de los Rendimientos en los 2 Primeros Componentes')\n",
        "\n",
        "plt.tight_layout()\n",
        "plt.show()"
      ]
    },
    {
      "cell_type": "code",
      "execution_count": null,
      "id": "ebbe7b9f",
      "metadata": {
        "id": "ebbe7b9f"
      },
      "outputs": [],
      "source": [
        "# Analizar la relación entre los activos y los componentes\n",
        "componente_1 = Vt[0, :]  # El primer componente\n",
        "componente_2 = Vt[1, :]  # El segundo componente\n",
        "\n",
        "print(\"\\nRelación de las acciones con el Componente 1:\")\n",
        "for i, valor in enumerate(componente_1):\n",
        "    print(f\"{activos[i]}: {valor}\")\n",
        "\n",
        "print(\"\\nRelación de las acciones con el Componente 2:\")\n",
        "for i, valor in enumerate(componente_2):\n",
        "    print(f\"{activos[i]}: {valor}\")"
      ]
    }
  ],
  "metadata": {
    "kernelspec": {
      "display_name": "Python 3 (ipykernel)",
      "language": "python",
      "name": "python3"
    },
    "language_info": {
      "codemirror_mode": {
        "name": "ipython",
        "version": 3
      },
      "file_extension": ".py",
      "mimetype": "text/x-python",
      "name": "python",
      "nbconvert_exporter": "python",
      "pygments_lexer": "ipython3",
      "version": "3.10.9"
    },
    "colab": {
      "provenance": [],
      "include_colab_link": true
    }
  },
  "nbformat": 4,
  "nbformat_minor": 5
}